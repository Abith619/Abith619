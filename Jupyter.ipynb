{
 "cells": [
  {
   "cell_type": "code",
   "execution_count": null,
   "metadata": {},
   "outputs": [],
   "source": [
    "# This program performs palindrome check for a string #\n",
    "# function which return reverse of a string\n",
    "def isPalindrome(s):\n",
    "    # Calling reverse function\n",
    "    if len(s) <= 1 :\n",
    "        return True\n",
    "    if s[0] == s[len(s) - 1] :\n",
    "        return isPalindrome(s[1:len(s) - 1])\n",
    "    else :\n",
    "        return False\n",
    "        # Driver code\n",
    "Palindrome_input_Variable = [ ' AnnA ' , ' SoloS ' , ' RotatoR ' , ' RadaR ' , ' SagaS ' , ' RotoR ' , ' TenT ' , ' RepapeR ' , ' CiviC ' , ' KayaK ' , ' Lever ' , ' MadaM ' , ' RacecaR ' , ' StatS ' , ' Redder ' , ' Wow ' , ' MoM ' , ' RefeR ' , ' NooN ']\n",
    "print( \" PALINDROME CHECK PROGRAM \" )\n",
    "for i in Palindrome_input_Variable:\n",
    "    ans = isPalindrome(i)\n",
    "    if ans == 1:\n",
    "        print( \" The given string  \", \"'\" , i , \"' \",\"is a palindrome\")\n",
    "    else:\n",
    "        print( \" The given string  \" , \"'\" , i , \"' \",\"is not a palindrome\")"
   ]
  },
  {
   "cell_type": "code",
   "execution_count": null,
   "metadata": {},
   "outputs": [],
   "source": [
    "# reversing the given number using a mathematical formula\n",
    "rev = (rev * 10) + (temporary % 10)\n",
    "temporary = temporary // 10"
   ]
  },
  {
   "cell_type": "code",
   "execution_count": null,
   "metadata": {},
   "outputs": [],
   "source": [
    "# Casting of the entered input is also achieved here by implying\n",
    "#variable casting process into place.\n",
    "num = int( input ( \" ENTER THE NUMBER: \" ) )\n",
    "temporary = num\n",
    "rev = 0\n",
    "# looping the given input and reversing the value\n",
    "while temporary != 0:\n",
    "    rev = ( rev * 10 ) + ( temporary % 10 )\n",
    "    temporary = temporary // 10\n",
    "if num == rev:\n",
    "    print( \" number is palindrome \" )\n",
    "else:\n",
    "    print( \" number is not palindrome \" )"
   ]
  },
  {
   "cell_type": "code",
   "execution_count": null,
   "metadata": {},
   "outputs": [],
   "source": [
    "Number = input('Enter the number to be verified : ')\n",
    "# Try  block\n",
    "try:\n",
    "    #Casting of the entered input is also achieved here by implying         #variable casting process into place\n",
    "    val = int(Number)\n",
    "    # checking for a palindrome in the given string\n",
    "    if Number == str(Number)[::-1]:\n",
    "        print('The given number is PALINDROME')\n",
    "    else:\n",
    "        print('The given number is NOT a PALINDROME')\n",
    "except ValueError:\n",
    "    print(\"! ! ! A valid numeric input is not entered ! ! !\")"
   ]
  },
  {
   "cell_type": "code",
   "execution_count": 12,
   "metadata": {},
   "outputs": [
    {
     "ename": "NameError",
     "evalue": "name 'stack' is not defined",
     "output_type": "error",
     "traceback": [
      "\u001b[0;31m---------------------------------------------------------------------------\u001b[0m",
      "\u001b[0;31mNameError\u001b[0m                                 Traceback (most recent call last)",
      "\u001b[0;32m<ipython-input-12-3d9e18f86d96>\u001b[0m in \u001b[0;36m<module>\u001b[0;34m\u001b[0m\n\u001b[1;32m     18\u001b[0m     \u001b[0;31m#                             inserting number into list\u001b[0m\u001b[0;34m\u001b[0m\u001b[0;34m\u001b[0m\u001b[0;34m\u001b[0m\u001b[0m\n\u001b[1;32m     19\u001b[0m \u001b[0;32mfor\u001b[0m \u001b[0mi\u001b[0m \u001b[0;32min\u001b[0m \u001b[0mrange\u001b[0m\u001b[0;34m(\u001b[0m\u001b[0;36m0\u001b[0m\u001b[0;34m,\u001b[0m\u001b[0mnum\u001b[0m\u001b[0;34m)\u001b[0m\u001b[0;34m:\u001b[0m\u001b[0;34m\u001b[0m\u001b[0;34m\u001b[0m\u001b[0m\n\u001b[0;32m---> 20\u001b[0;31m     \u001b[0mpush\u001b[0m\u001b[0;34m(\u001b[0m\u001b[0mstack\u001b[0m\u001b[0;34m,\u001b[0m\u001b[0mnumber\u001b[0m\u001b[0;34m[\u001b[0m\u001b[0mi\u001b[0m\u001b[0;34m]\u001b[0m\u001b[0;34m)\u001b[0m\u001b[0;34m\u001b[0m\u001b[0;34m\u001b[0m\u001b[0m\n\u001b[0m\u001b[1;32m     21\u001b[0m     \u001b[0mnumber\u001b[0m \u001b[0;34m=\u001b[0m \u001b[0;34m\"\"\u001b[0m\u001b[0;34m\u001b[0m\u001b[0;34m\u001b[0m\u001b[0m\n\u001b[1;32m     22\u001b[0m \u001b[0;31m# getting last element of the stack list\u001b[0m\u001b[0;34m\u001b[0m\u001b[0;34m\u001b[0m\u001b[0;34m\u001b[0m\u001b[0m\n",
      "\u001b[0;31mNameError\u001b[0m: name 'stack' is not defined"
     ]
    }
   ],
   "source": [
    "def create_stack():\n",
    "    #                              creating a list as stack and return it\n",
    "    stack = []\n",
    "    return stack\n",
    "def push(stack,element):\n",
    "    #                         adding new element to list\n",
    "    stack.append(element)\n",
    "def pop(stack):\n",
    "    #                      deleting the last element from the list\n",
    "    if len(stack) == 0:\n",
    "        return\n",
    "    return stack.pop()\n",
    "def reverse(number):\n",
    "    #                       reversing the number by using stack's functions\n",
    "    num = len(number)\n",
    "    #                               creating empty list (stack)\n",
    "    stack = create_stack()\n",
    "    #                             inserting number into list\n",
    "for i in range(0,num):\n",
    "    push(stack,number[i])\n",
    "    number = \"\"\n",
    "# getting last element of the stack list\n",
    "for i in range(0,num):\n",
    "    number = number + pop(stack)\n",
    "    return number\n",
    "number1 = \"123456789\"\n",
    "number2 = reverse(number1)\n",
    "print (\"The given number is : \" + number1)\n",
    "print (\"Reverse of the given number is : \" + number2)"
   ]
  }
 ],
 "metadata": {
  "interpreter": {
   "hash": "586ad1ed5c97141e2437e681efbf1ec0adcd17d830cf5af2ca3d2819e743e158"
  },
  "kernelspec": {
   "display_name": "Python 3.8.8 64-bit ('base': conda)",
   "language": "python",
   "name": "python3"
  },
  "language_info": {
   "codemirror_mode": {
    "name": "ipython",
    "version": 3
   },
   "file_extension": ".py",
   "mimetype": "text/x-python",
   "name": "python",
   "nbconvert_exporter": "python",
   "pygments_lexer": "ipython3",
   "version": "3.8.8"
  },
  "orig_nbformat": 4
 },
 "nbformat": 4,
 "nbformat_minor": 2
}
