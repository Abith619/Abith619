{
 "cells": [
  {
   "cell_type": "code",
   "execution_count": null,
   "metadata": {},
   "outputs": [],
   "source": [
    "# This program performs palindrome check for a string #\n",
    "# function which return reverse of a string\n",
    "def isPalindrome(s):\n",
    "    # Calling reverse function\n",
    "    if len(s) <= 1 :\n",
    "        return True\n",
    "    if s[0] == s[len(s) - 1] :\n",
    "        return isPalindrome(s[1:len(s) - 1])\n",
    "    else :\n",
    "        return False\n",
    "        # Driver code\n",
    "Palindrome_input_Variable = [ ' AnnA ' , ' SoloS ' , ' RotatoR ' , ' RadaR ' , ' SagaS ' , ' RotoR ' , ' TenT ' , ' RepapeR ' , ' CiviC ' , ' KayaK ' , ' Lever ' , ' MadaM ' , ' RacecaR ' , ' StatS ' , ' Redder ' , ' Wow ' , ' MoM ' , ' RefeR ' , ' NooN ']\n",
    "print( \" PALINDROME CHECK PROGRAM \" )\n",
    "for i in Palindrome_input_Variable:\n",
    "    ans = isPalindrome(i)\n",
    "    if ans == 1:\n",
    "        print( \" The given string  \", \"'\" , i , \"' \",\"is a palindrome\")\n",
    "    else:\n",
    "        print( \" The given string  \" , \"'\" , i , \"' \",\"is not a palindrome\")"
   ]
  },
  {
   "cell_type": "code",
   "execution_count": null,
   "metadata": {},
   "outputs": [],
   "source": []
  },
  {
   "cell_type": "code",
   "execution_count": null,
   "metadata": {},
   "outputs": [],
   "source": [
    "# reversing the given number using a mathematical formula\n",
    "rev = (rev * 10) + (temporary % 10)\n",
    "temporary = temporary // 10"
   ]
  },
  {
   "cell_type": "code",
   "execution_count": null,
   "metadata": {},
   "outputs": [],
   "source": [
    "# Casting of the entered input is also achieved here by implying\n",
    "#variable casting process into place.\n",
    "num = int( input ( \" ENTER THE NUMBER: \" ) )\n",
    "temporary = num\n",
    "rev = 0\n",
    "# looping the given input and reversing the value\n",
    "while temporary != 0:\n",
    "    rev = ( rev * 10 ) + ( temporary % 10 )\n",
    "    temporary = temporary // 10\n",
    "if num == rev:\n",
    "    print( \" number is palindrome \" )\n",
    "else:\n",
    "    print( \" number is not palindrome \" )"
   ]
  },
  {
   "cell_type": "code",
   "execution_count": null,
   "metadata": {},
   "outputs": [],
   "source": [
    "Number = input('Enter the number to be verified : ')\n",
    "# Try  block\n",
    "try:\n",
    "    #Casting of the entered input is also achieved here by implying         #variable casting process into place\n",
    "    val = int(Number)\n",
    "    # checking for a palindrome in the given string\n",
    "    if Number == str(Number)[::-1]:\n",
    "        print('The given number is PALINDROME')\n",
    "    else:\n",
    "        print('The given number is NOT a PALINDROME')\n",
    "except ValueError:\n",
    "    print(\"! ! ! A valid numeric input is not entered ! ! !\")"
   ]
  },
  {
   "cell_type": "code",
   "execution_count": 12,
   "metadata": {},
   "outputs": [
    {
     "ename": "NameError",
     "evalue": "name 'stack' is not defined",
     "output_type": "error",
     "traceback": [
      "\u001b[0;31m---------------------------------------------------------------------------\u001b[0m",
      "\u001b[0;31mNameError\u001b[0m                                 Traceback (most recent call last)",
      "\u001b[0;32m<ipython-input-12-3d9e18f86d96>\u001b[0m in \u001b[0;36m<module>\u001b[0;34m\u001b[0m\n\u001b[1;32m     18\u001b[0m     \u001b[0;31m#                             inserting number into list\u001b[0m\u001b[0;34m\u001b[0m\u001b[0;34m\u001b[0m\u001b[0;34m\u001b[0m\u001b[0m\n\u001b[1;32m     19\u001b[0m \u001b[0;32mfor\u001b[0m \u001b[0mi\u001b[0m \u001b[0;32min\u001b[0m \u001b[0mrange\u001b[0m\u001b[0;34m(\u001b[0m\u001b[0;36m0\u001b[0m\u001b[0;34m,\u001b[0m\u001b[0mnum\u001b[0m\u001b[0;34m)\u001b[0m\u001b[0;34m:\u001b[0m\u001b[0;34m\u001b[0m\u001b[0;34m\u001b[0m\u001b[0m\n\u001b[0;32m---> 20\u001b[0;31m     \u001b[0mpush\u001b[0m\u001b[0;34m(\u001b[0m\u001b[0mstack\u001b[0m\u001b[0;34m,\u001b[0m\u001b[0mnumber\u001b[0m\u001b[0;34m[\u001b[0m\u001b[0mi\u001b[0m\u001b[0;34m]\u001b[0m\u001b[0;34m)\u001b[0m\u001b[0;34m\u001b[0m\u001b[0;34m\u001b[0m\u001b[0m\n\u001b[0m\u001b[1;32m     21\u001b[0m     \u001b[0mnumber\u001b[0m \u001b[0;34m=\u001b[0m \u001b[0;34m\"\"\u001b[0m\u001b[0;34m\u001b[0m\u001b[0;34m\u001b[0m\u001b[0m\n\u001b[1;32m     22\u001b[0m \u001b[0;31m# getting last element of the stack list\u001b[0m\u001b[0;34m\u001b[0m\u001b[0;34m\u001b[0m\u001b[0;34m\u001b[0m\u001b[0m\n",
      "\u001b[0;31mNameError\u001b[0m: name 'stack' is not defined"
     ]
    }
   ],
   "source": [
    "def create_stack():\n",
    "    #                              creating a list as stack and return it\n",
    "    stack = []\n",
    "    return stack\n",
    "def push(stack,element):\n",
    "    #                         adding new element to list\n",
    "    stack.append(element)\n",
    "def pop(stack):\n",
    "    #                      deleting the last element from the list\n",
    "    if len(stack) == 0:\n",
    "        return\n",
    "    return stack.pop()\n",
    "def reverse(number):\n",
    "    #                       reversing the number by using stack's functions\n",
    "    num = len(number)\n",
    "    #                               creating empty list (stack)\n",
    "    stack = create_stack()\n",
    "    #                             inserting number into list\n",
    "for i in range(0,num):\n",
    "    push(stack,number[i])\n",
    "    number = \"\"\n",
    "# getting last element of the stack list\n",
    "for i in range(0,num):\n",
    "    number = number + pop(stack)\n",
    "    return number\n",
    "number1 = \"123456789\"\n",
    "number2 = reverse(number1)\n",
    "print (\"The given number is : \" + number1)\n",
    "print (\"Reverse of the given number is : \" + number2)"
   ]
  },
  {
   "cell_type": "code",
   "execution_count": 1,
   "metadata": {},
   "outputs": [
    {
     "name": "stdout",
     "output_type": "stream",
     "text": [
      "{'Sunday', 'Monday'}\n",
      "<class 'set'>\n",
      "Looping through the SetS Elements,,....\n",
      "Sunday\n",
      "Monday\n"
     ]
    }
   ],
   "source": [
    "Days = {\"Monday\",\n",
    "\"Sunday\"\n",
    "}\n",
    "print(Days)\n",
    "print(type(Days))\n",
    "print('Looping through the SetS Elements,,....')\n",
    "for i in Days:\n",
    "    print(i)"
   ]
  },
  {
   "cell_type": "code",
   "execution_count": 3,
   "metadata": {},
   "outputs": [
    {
     "data": {
      "text/plain": [
       "{12, 14, 23, 619, 916}"
      ]
     },
     "execution_count": 3,
     "metadata": {},
     "output_type": "execute_result"
    }
   ],
   "source": [
    "set = {12,23,14,619,916}\n",
    "type(set)\n",
    "set\n"
   ]
  },
  {
   "cell_type": "code",
   "execution_count": 9,
   "metadata": {},
   "outputs": [
    {
     "name": "stdout",
     "output_type": "stream",
     "text": [
      "{'Saturday', 'Sunday', 'Monday', 'Tuesday'}\n",
      "{'Saturday', 'Sunday', 'Monday', 'Tuesday'}\n",
      "{'Saturday', 'Sunday', 'Tuesday', 'Monday'}\n"
     ]
    }
   ],
   "source": [
    "Days1 = {\"Monday\",\"Tuesday\",}\n",
    "Days2 = {\"Saturday\",\"Sunday\"}\n",
    "print(Days1|Days2)\n",
    "print(Days1.union(Days2))\n",
    "print(Days1^(Days2))"
   ]
  },
  {
   "cell_type": "code",
   "execution_count": 6,
   "metadata": {},
   "outputs": [
    {
     "name": "stdout",
     "output_type": "stream",
     "text": [
      "{34, 67, 619, 12, 13, 14, 916, 85, 23}\n",
      "{619}\n",
      "None\n",
      "{34, 67, 85, 13}\n",
      "{34, 67, 85, 13}\n",
      "{34, 67, 13, 85}\n"
     ]
    },
    {
     "ename": "AttributeError",
     "evalue": "'set' object has no attribute 'SymmetricDifference'",
     "output_type": "error",
     "traceback": [
      "\u001b[0;31m---------------------------------------------------------------------------\u001b[0m",
      "\u001b[0;31mAttributeError\u001b[0m                            Traceback (most recent call last)",
      "\u001b[0;32m<ipython-input-6-2096cad84957>\u001b[0m in \u001b[0;36m<module>\u001b[0;34m\u001b[0m\n\u001b[1;32m      6\u001b[0m \u001b[0mprint\u001b[0m\u001b[0;34m(\u001b[0m\u001b[0mset1\u001b[0m\u001b[0;34m.\u001b[0m\u001b[0mdifference\u001b[0m\u001b[0;34m(\u001b[0m\u001b[0mset\u001b[0m\u001b[0;34m)\u001b[0m\u001b[0;34m)\u001b[0m\u001b[0;34m\u001b[0m\u001b[0;34m\u001b[0m\u001b[0m\n\u001b[1;32m      7\u001b[0m \u001b[0mprint\u001b[0m\u001b[0;34m(\u001b[0m\u001b[0mset1\u001b[0m\u001b[0;34m^\u001b[0m\u001b[0mset\u001b[0m\u001b[0;34m)\u001b[0m\u001b[0;34m\u001b[0m\u001b[0;34m\u001b[0m\u001b[0m\n\u001b[0;32m----> 8\u001b[0;31m \u001b[0mprint\u001b[0m\u001b[0;34m(\u001b[0m\u001b[0mDays1\u001b[0m\u001b[0;34m.\u001b[0m\u001b[0mSymmetricDifference\u001b[0m\u001b[0;34m(\u001b[0m\u001b[0mDays2\u001b[0m\u001b[0;34m)\u001b[0m\u001b[0;34m)\u001b[0m\u001b[0;34m\u001b[0m\u001b[0;34m\u001b[0m\u001b[0m\n\u001b[0m",
      "\u001b[0;31mAttributeError\u001b[0m: 'set' object has no attribute 'SymmetricDifference'"
     ]
    }
   ],
   "source": [
    "set1 = {13,34,619,67,34,85}\n",
    "print(set|set1)\n",
    "print(set.intersection(set1))\n",
    "print(set.intersection_update(set,set1)) # Update only common values\n",
    "print(set1-set)\n",
    "print(set1.difference(set))\n",
    "print(set1^set)\n",
    "print(Days1.SymmetricDifference(Days2))"
   ]
  },
  {
   "cell_type": "code",
   "execution_count": 12,
   "metadata": {},
   "outputs": [
    {
     "name": "stdout",
     "output_type": "stream",
     "text": [
      "<class 'frozenset'>\n"
     ]
    },
    {
     "ename": "TypeError",
     "evalue": "'type' object is not iterable",
     "output_type": "error",
     "traceback": [
      "\u001b[0;31m---------------------------------------------------------------------------\u001b[0m",
      "\u001b[0;31mTypeError\u001b[0m                                 Traceback (most recent call last)",
      "\u001b[0;32m<ipython-input-12-32b0ad1c11d5>\u001b[0m in \u001b[0;36m<module>\u001b[0;34m\u001b[0m\n\u001b[1;32m      1\u001b[0m \u001b[0mFrozenSet\u001b[0m \u001b[0;34m=\u001b[0m \u001b[0mfrozenset\u001b[0m\u001b[0;34m(\u001b[0m\u001b[0;34m[\u001b[0m\u001b[0;36m6\u001b[0m\u001b[0;34m,\u001b[0m\u001b[0;36m1\u001b[0m\u001b[0;34m,\u001b[0m\u001b[0;36m9\u001b[0m\u001b[0;34m]\u001b[0m\u001b[0;34m)\u001b[0m\u001b[0;34m\u001b[0m\u001b[0;34m\u001b[0m\u001b[0m\n\u001b[1;32m      2\u001b[0m \u001b[0mprint\u001b[0m\u001b[0;34m(\u001b[0m\u001b[0mtype\u001b[0m\u001b[0;34m(\u001b[0m\u001b[0mFrozenSet\u001b[0m\u001b[0;34m)\u001b[0m\u001b[0;34m)\u001b[0m\u001b[0;34m\u001b[0m\u001b[0;34m\u001b[0m\u001b[0m\n\u001b[0;32m----> 3\u001b[0;31m \u001b[0;32mfor\u001b[0m \u001b[0mi\u001b[0m \u001b[0;32min\u001b[0m \u001b[0mfrozenset\u001b[0m\u001b[0;34m:\u001b[0m\u001b[0;34m\u001b[0m\u001b[0;34m\u001b[0m\u001b[0m\n\u001b[0m\u001b[1;32m      4\u001b[0m     \u001b[0mprint\u001b[0m\u001b[0;34m(\u001b[0m\u001b[0mi\u001b[0m\u001b[0;34m)\u001b[0m\u001b[0;34m;\u001b[0m\u001b[0;34m\u001b[0m\u001b[0;34m\u001b[0m\u001b[0m\n\u001b[1;32m      5\u001b[0m     \u001b[0mfrozenset\u001b[0m\u001b[0;34m.\u001b[0m\u001b[0madd\u001b[0m\u001b[0;34m(\u001b[0m\u001b[0;36m6\u001b[0m\u001b[0;34m)\u001b[0m\u001b[0;34m\u001b[0m\u001b[0;34m\u001b[0m\u001b[0m\n",
      "\u001b[0;31mTypeError\u001b[0m: 'type' object is not iterable"
     ]
    }
   ],
   "source": [
    "FrozenSet = frozenset([6,1,9])\n",
    "print(type(FrozenSet))\n",
    "for i in frozenset:\n",
    "    print(i);\n",
    "    frozenset.add(6)"
   ]
  },
  {
   "cell_type": "code",
   "execution_count": 14,
   "metadata": {},
   "outputs": [
    {
     "name": "stdout",
     "output_type": "stream",
     "text": [
      "Length of str1 is:\n",
      "7\n",
      "Length of str2 is:\n",
      "5\n"
     ]
    }
   ],
   "source": [
    "str = \"Kaashiv\"\n",
    "print(\"Length of str1 is:\")\n",
    "print(len(str))\n",
    "#                           Length of below string is ?\n",
    "str2 = \"Abith\"\n",
    "print(\"Length of str2 is:\")\n",
    "print(len(str2))"
   ]
  },
  {
   "cell_type": "code",
   "execution_count": 28,
   "metadata": {},
   "outputs": [
    {
     "name": "stdout",
     "output_type": "stream",
     "text": [
      "(6, 1, 9, 1, 3, 4)\n"
     ]
    }
   ],
   "source": [
    "tup = (6,1,9) + (1,3) + (4,)\n",
    "print(tup)"
   ]
  },
  {
   "cell_type": "code",
   "execution_count": 35,
   "metadata": {},
   "outputs": [
    {
     "data": {
      "text/plain": [
       "True"
      ]
     },
     "execution_count": 35,
     "metadata": {},
     "output_type": "execute_result"
    }
   ],
   "source": [
    "x = int(input())\n",
    "(x > 0)\n",
    "(x < 100)"
   ]
  },
  {
   "cell_type": "code",
   "execution_count": 47,
   "metadata": {},
   "outputs": [
    {
     "ename": "TypeError",
     "evalue": "'str' object is not callable",
     "output_type": "error",
     "traceback": [
      "\u001b[0;31m---------------------------------------------------------------------------\u001b[0m",
      "\u001b[0;31mTypeError\u001b[0m                                 Traceback (most recent call last)",
      "\u001b[0;32m<ipython-input-47-97c6c5f2cf57>\u001b[0m in \u001b[0;36m<module>\u001b[0;34m\u001b[0m\n\u001b[1;32m      5\u001b[0m \u001b[0;32melse\u001b[0m\u001b[0;34m:\u001b[0m\u001b[0;34m\u001b[0m\u001b[0;34m\u001b[0m\u001b[0m\n\u001b[1;32m      6\u001b[0m     \u001b[0msavingAmt\u001b[0m \u001b[0;34m=\u001b[0m \u001b[0msavingAmt\u001b[0m \u001b[0;34m-\u001b[0m \u001b[0mwithdrawAmt\u001b[0m\u001b[0;34m\u001b[0m\u001b[0;34m\u001b[0m\u001b[0m\n\u001b[0;32m----> 7\u001b[0;31m     \u001b[0mprint\u001b[0m\u001b[0;34m(\u001b[0m\u001b[0;34m\"Account Balance = \"\u001b[0m \u001b[0;34m+\u001b[0m \u001b[0mstr\u001b[0m\u001b[0;34m(\u001b[0m\u001b[0msavingAmt\u001b[0m\u001b[0;34m)\u001b[0m\u001b[0;34m)\u001b[0m\u001b[0;34m\u001b[0m\u001b[0;34m\u001b[0m\u001b[0m\n\u001b[0m",
      "\u001b[0;31mTypeError\u001b[0m: 'str' object is not callable"
     ]
    }
   ],
   "source": [
    "savingAmt = 1000\n",
    "withdrawAmt = int(input(\"Amount to Withdraw: \"))\n",
    "if withdrawAmt > savingAmt:\n",
    "    print (\"Insufficient balance\")\n",
    "else:\n",
    "    savingAmt = savingAmt - withdrawAmt\n",
    "    print(\"Account Balance = \" + str(savingAmt))"
   ]
  },
  {
   "cell_type": "code",
   "execution_count": 53,
   "metadata": {},
   "outputs": [
    {
     "name": "stdout",
     "output_type": "stream",
     "text": [
      "Night\n"
     ]
    }
   ],
   "source": [
    "time = 0\n",
    "if (time >= 600) and (time < 1200):\n",
    "\tprint (\"Morning\")\n",
    "else:\n",
    "\tif (time == 1200):\n",
    "\t\tprint (\"Noon\")\n",
    "\telse:\n",
    "\t\tif (time > 1200) and (time <= 1700):\n",
    "\t\t\tprint (\"Afternoon\")\n",
    "\t\telse:\n",
    "\t\t\tif (time > 1700) and (time <= 2000):\n",
    "\t\t\t\tprint (\"Evening\")\n",
    "\t\t\telse:\n",
    "\t\t\t\tif ((time > 2000) and (time < 2400)) or ((time >= 0) and (time < 600)):\n",
    "\t\t\t\t\tprint (\"Night\")\n",
    "\t\t\t\telse:\n",
    "\t\t\t\t\tprint (\"Invalid time!\")\n",
    "savingAmt = savingAmt - withdrawAmt if (savingAmt > withdrawAmt) else savingAmt"
   ]
  },
  {
   "cell_type": "code",
   "execution_count": 1,
   "metadata": {},
   "outputs": [
    {
     "name": "stdout",
     "output_type": "stream",
     "text": [
      "8\n",
      "9\n",
      "2\n",
      "6\n",
      "1\n",
      "9\n"
     ]
    }
   ],
   "source": [
    "myList = [8, 9, 2, 6, 1, 9]\n",
    "for i in myList:\n",
    "    print (i)   "
   ]
  },
  {
   "cell_type": "code",
   "execution_count": 8,
   "metadata": {},
   "outputs": [
    {
     "name": "stdout",
     "output_type": "stream",
     "text": [
      "b\n",
      "i\n",
      "t\n",
      "h\n"
     ]
    }
   ],
   "source": [
    "name = \"Abith\"\n",
    "for i in name:\n",
    "    if not i.islower():\n",
    "        continue\n",
    "    print(i)"
   ]
  },
  {
   "cell_type": "code",
   "execution_count": 63,
   "metadata": {},
   "outputs": [
    {
     "name": "stdout",
     "output_type": "stream",
     "text": [
      "Element of list within a list -  1\n",
      "Element of list within a list -  3\n",
      "Element of list within a list -  6\n",
      "Element of list within a list -  8\n",
      "Element of list within a list -  2\n",
      "Element of list within a list -  0\n",
      "Element of list within a list -  4\n",
      "Element of list within a list -  7\n",
      "Element of list within a list -  10\n",
      "Element of list within a list -  1\n",
      "Element of list within a list -  5\n",
      "Element of list within a list -  2\n",
      "Element of list within a list -  6\n"
     ]
    }
   ],
   "source": [
    "bigList = [[1, 3, 6], [8, 2,], [0, 4, 7, 10], [1, 5, 2], [6]]\n",
    "for i in bigList:\n",
    "\tfor j in i:\n",
    "\t\tprint(\"Element of list within a list - \", j)"
   ]
  },
  {
   "cell_type": "code",
   "execution_count": 10,
   "metadata": {},
   "outputs": [
    {
     "name": "stdout",
     "output_type": "stream",
     "text": [
      "A\n"
     ]
    }
   ],
   "source": [
    "for i in name:\n",
    "\tif i == \"A\":\n",
    "\t\tbreak\n",
    "print (i)"
   ]
  },
  {
   "cell_type": "code",
   "execution_count": 21,
   "metadata": {},
   "outputs": [
    {
     "name": "stdout",
     "output_type": "stream",
     "text": [
      "2\n",
      "2\n",
      "6\n"
     ]
    }
   ],
   "source": [
    "def check(k):\n",
    "\tif (k%2==0):\n",
    "\t\tprint (k)\n",
    "\telse:\n",
    "\t\tprint (2*k)\n",
    "n = int(input())\n",
    "for i in range(1, i+1):\n",
    "\tcheck(i)"
   ]
  },
  {
   "cell_type": "code",
   "execution_count": 5,
   "metadata": {},
   "outputs": [
    {
     "name": "stdout",
     "output_type": "stream",
     "text": [
      "Object created\n",
      "Object destroyed\n"
     ]
    }
   ],
   "source": [
    "class Example:\n",
    "\tdef __init__(self):\n",
    "\t\tprint (\"Object created\")\n",
    "\t#                                     destructor\n",
    "\tdef __del__(self):\n",
    "\t    print (\"Object destroyed\")\n",
    "#                                        creating an object\n",
    "myObj = Example()\n",
    "#                           to delete the object explicitly\n",
    "del myObj"
   ]
  },
  {
   "cell_type": "code",
   "execution_count": 11,
   "metadata": {},
   "outputs": [
    {
     "name": "stdout",
     "output_type": "stream",
     "text": [
      "True\n"
     ]
    }
   ],
   "source": [
    "myset = {0, 1, 0}\n",
    "x = any(myset)\n",
    "print(x)"
   ]
  },
  {
   "cell_type": "code",
   "execution_count": 13,
   "metadata": {},
   "outputs": [
    {
     "name": "stdout",
     "output_type": "stream",
     "text": [
      "0\n",
      "A\n"
     ]
    }
   ],
   "source": [
    "print(min(2,5,3,1,0,99))\n",
    "sampleObj = ['B','a','t','A']\n",
    "print(min(sampleObj))"
   ]
  },
  {
   "cell_type": "code",
   "execution_count": 15,
   "metadata": {},
   "outputs": [
    {
     "name": "stdout",
     "output_type": "stream",
     "text": [
      "4.5\n",
      "24.5\n"
     ]
    }
   ],
   "source": [
    "num = [2.5, 3, 4, -5]\n",
    "numSum = sum(num)\n",
    "print(numSum)\n",
    "numSum = sum(num, 20)\n",
    "print(numSum)"
   ]
  },
  {
   "cell_type": "code",
   "execution_count": 16,
   "metadata": {},
   "outputs": [
    {
     "name": "stdout",
     "output_type": "stream",
     "text": [
      "CONSTANTS IN PYTHON\n",
      " PI value :  3.141592653589793\n",
      " E value :  2.718281828459045\n",
      " nan value :  nan\n",
      " E value :  inf\n"
     ]
    }
   ],
   "source": [
    "import math\n",
    "print( \"CONSTANTS IN PYTHON\")\n",
    "print(\" PI value : \" , math.pi)\n",
    "print(\" E value : \" , math.e)\n",
    "print(\" nan value : \" , math.nan)\n",
    "print(\" E value : \" , math.inf)"
   ]
  },
  {
   "cell_type": "code",
   "execution_count": 23,
   "metadata": {},
   "outputs": [
    {
     "name": "stdout",
     "output_type": "stream",
     "text": [
      "Hello from   kaashiv\n"
     ]
    }
   ],
   "source": [
    "str1 = \"Hello\\tfrom\\t kaashiv\"\n",
    "str2 = str1.expandtabs(2)\n",
    "print(str2)"
   ]
  },
  {
   "cell_type": "code",
   "execution_count": 24,
   "metadata": {},
   "outputs": [
    {
     "name": "stdout",
     "output_type": "stream",
     "text": [
      "Hello from kaashiv.\n"
     ]
    }
   ],
   "source": [
    "str1 = \"kaashiv\"\n",
    "print(\"Hello from {}.\".format(str1))"
   ]
  },
  {
   "cell_type": "code",
   "execution_count": 17,
   "metadata": {},
   "outputs": [
    {
     "name": "stdout",
     "output_type": "stream",
     "text": [
      " String before striping :  00000000abcdefghijklmnopqrstuvwxyz00000000\n",
      " String after striping  :  abcdefghijklmnopqrstuvwxyz\n"
     ]
    }
   ],
   "source": [
    "string_before_strip  = '00000000abcdefghijklmnopqrstuvwxyz00000000'\n",
    "print( \" String before striping : \" , string_before_strip)\n",
    "string_after_strip = string_before_strip.strip( '00000000' )\n",
    "print( \" String after striping  : \" , string_after_strip)"
   ]
  },
  {
   "cell_type": "code",
   "execution_count": 19,
   "metadata": {},
   "outputs": [
    {
     "name": "stdout",
     "output_type": "stream",
     "text": [
      "Split() with default max split values i/e -1 :\n",
      "Input string will split at @ : ['Java', 'Python', 'C++', 'Scala', 'Julia']\n",
      "\n",
      "\n",
      "number of splits (0): ['Java@Python@C++@Scala@Julia']\n",
      "number of splits (1): ['Java', 'Python@C++@Scala@Julia']\n",
      "number of splits (2): ['Java', 'Python', 'C++@Scala@Julia']\n",
      "number of splits (3): ['Java', 'Python', 'C++', 'Scala@Julia']\n",
      "number of splits (4): ['Java', 'Python', 'C++', 'Scala', 'Julia']\n",
      "number of splits (5): ['Java', 'Python', 'C++', 'Scala', 'Julia']\n",
      "\n",
      "\n",
      "Split using for loop\n",
      "number of splits 0 ['Java@Python@C++@Scala@Julia']\n",
      "number of splits 1 ['Java', 'Python@C++@Scala@Julia']\n",
      "number of splits 2 ['Java', 'Python', 'C++@Scala@Julia']\n",
      "number of splits 3 ['Java', 'Python', 'C++', 'Scala@Julia']\n",
      "number of splits 4 ['Java', 'Python', 'C++', 'Scala', 'Julia']\n",
      "number of splits 5 ['Java', 'Python', 'C++', 'Scala', 'Julia']\n"
     ]
    }
   ],
   "source": [
    "# split() function with different values for max splits\n",
    "print(\"Split() with default max split values i/e -1 :\")\n",
    "inp1 = 'Java@Python@C++@Scala@Julia'\n",
    "print(\"Input string will split at @ :\", inp1.split('@'))\n",
    "print('\\n')\n",
    "print(\"number of splits (0):\", inp1.split('@', 0))\n",
    "print(\"number of splits (1):\", inp1.split('@', 1))\n",
    "print(\"number of splits (2):\", inp1.split('@', 2))\n",
    "print(\"number of splits (3):\", inp1.split('@', 3))\n",
    "print(\"number of splits (4):\", inp1.split('@', 4))\n",
    "print(\"number of splits (5):\", inp1.split('@', 5))\n",
    "print('\\n')\n",
    "print(\"Split using for loop\")\n",
    "for i in range(6):\n",
    "    print(\"number of splits\", i, inp1.split('@', i))"
   ]
  },
  {
   "cell_type": "code",
   "execution_count": 22,
   "metadata": {},
   "outputs": [
    {
     "name": "stdout",
     "output_type": "stream",
     "text": [
      "Round Function on Negative Decimal = -19.00\n",
      "Round Function on Positive Decimal = 16.00\n",
      "Round Function with 2nd parameter on positive = 11.988\n",
      "Round Function with 2nd parameter on negative = -18.485\n",
      "Round Function for Items in a List = -40\n",
      "Round Function for Items in a List = 33\n",
      "Round Function for Items in a Tuple = 11\n",
      "Round Function for Items in a Tuple = 30\n",
      "Round Function for Multiple Number = 39.34\n"
     ]
    }
   ],
   "source": [
    "Tup = (-40.95, 50.85, 10.98, 20.26, 30.05) # Declaration of a Tuple\n",
    "Lis = [-39.29, -42.15 , -39.97, -10.98, 32.65] #Declaration of a List\n",
    "print('Round Function on Negative Decimal = %.2f' %round(-19.48476))\n",
    "print('Round Function on Positive Decimal = %.2f' %round(15.98763))\n",
    "print('Round Function with 2nd parameter on positive = %.3f' %round(11.98763, 3))\n",
    "print('Round Function with 2nd parameter on negative = %.3f' %round(-18.48476, 3))\n",
    "print('Round Function for Items in a List = %d' %round(Lis[2]))\n",
    "print('Round Function for Items in a List = %d' %round(Lis[4]))\n",
    "print('Round Function for Items in a Tuple = %d' %round(Tup[2]))\n",
    "print('Round Function for Items in a Tuple = %d' %round(Tup[4]))\n",
    "print('Round Function for Multiple Number = %.2f' %round(20 + 40 - 20.6578, 2))"
   ]
  },
  {
   "cell_type": "code",
   "execution_count": 35,
   "metadata": {},
   "outputs": [
    {
     "name": "stdout",
     "output_type": "stream",
     "text": [
      "Raju&is&22&years&old\n"
     ]
    }
   ],
   "source": [
    "import re\n",
    "word = \"Raju is 22 years old\"\n",
    "rgex ='\\s'\n",
    "x =re.sub(rgex,'&',word)\n",
    "print(x)"
   ]
  },
  {
   "cell_type": "code",
   "execution_count": 38,
   "metadata": {},
   "outputs": [
    {
     "name": "stdout",
     "output_type": "stream",
     "text": [
      "Sugar\n"
     ]
    }
   ],
   "source": [
    "# Using a blank string as a seperator in join function\n",
    "list = ['S', 'u', 'g', 'a', 'r']\n",
    "Str = \"\".join(list)\n",
    "print(Str)"
   ]
  },
  {
   "cell_type": "code",
   "execution_count": 39,
   "metadata": {},
   "outputs": [
    {
     "name": "stdout",
     "output_type": "stream",
     "text": [
      "The simple program for sub() method for replacing:\n",
      "The given string that needs to be replaced with given pattern is as follows:\n",
      "kaashiv#!!Training#!!Institute\n",
      "The string obtained after replacing special character with space is as follows:\n",
      "kaashiv Training Institute\n"
     ]
    }
   ],
   "source": [
    "import re\n",
    "print(\"The simple program for sub() method for replacing:\")\n",
    "str = \"kaashiv#!!Training#!!Institute\"\n",
    "print(\"The given string that needs to be replaced with given pattern is as follows:\")\n",
    "print(str)\n",
    "res_str = re.sub(\"#!!\",\" \",str)\n",
    "print(\"The string obtained after replacing special character with space is as follows:\")\n",
    "print (res_str)"
   ]
  },
  {
   "cell_type": "code",
   "execution_count": 41,
   "metadata": {},
   "outputs": [
    {
     "name": "stdout",
     "output_type": "stream",
     "text": [
      "The below program is used to demonstrate sub() method:\n",
      "The given string is as follows:\n",
      "2004-959-559 # This is Phone Number\n",
      "The correct phone number by removing special characters in the given string which means replacing them by space is as follows:\n",
      "2004-959-559 \n",
      "Now we have replaced all the spaces and have only digits in the given string is as follows:\n",
      "2004959559\n"
     ]
    }
   ],
   "source": [
    "import re\n",
    "print(\"The below program is used to demonstrate sub() method:\")\n",
    "phonenum = \"2004-959-559 # This is Phone Number\"\n",
    "print(\"The given string is as follows:\")\n",
    "print(phonenum)\n",
    "correct_num1 = re.sub(r'#.*$', \"\", phonenum)\n",
    "print(\"The correct phone number by removing special characters in the given string which means replacing them by space is as follows:\")\n",
    "print(correct_num1)\n",
    "correct_num2 = re.sub(r'\\D', \"\", phonenum)\n",
    "print(\"Now we have replaced all the spaces and have only digits in the given string is as follows:\")\n",
    "print(correct_num2)\n"
   ]
  },
  {
   "cell_type": "code",
   "execution_count": 4,
   "metadata": {},
   "outputs": [
    {
     "name": "stdout",
     "output_type": "stream",
     "text": [
      "X is even number\n",
      "x is not prime number\n"
     ]
    }
   ],
   "source": [
    "x = 12\n",
    "if(x%2==0):\n",
    "    print('X is even number')\n",
    "if(x%2!=0):\n",
    "    if(x%3!=0):\n",
    "        if(x%5!=0):\n",
    "            if(x%7!=0):\n",
    "                print(eval('x'))\n",
    "                print('is a prime number')\n",
    "            else:\n",
    "                print ('x is not prime number')\n",
    "        else:\n",
    "            print('x is not prime number')\n",
    "    else:\n",
    "        print('x is not prime number')\n",
    "else:\n",
    "    print('x is not prime number')"
   ]
  },
  {
   "cell_type": "code",
   "execution_count": 7,
   "metadata": {},
   "outputs": [
    {
     "name": "stdout",
     "output_type": "stream",
     "text": [
      "1\n",
      "Now it is Done\n"
     ]
    }
   ],
   "source": [
    "from math import *\n",
    "for lm in range(1, 3):\n",
    "    func1 = input(\"Enter the Math Function which are mentioned below to Evaluate.\\nFunctions Allowed are: 1. square_root(x) and 2. power(x,y):\\n\")\n",
    "    try:\n",
    "        print(eval(func1, {'square_root': sqrt, 'power': pow}))\n",
    "    except Exception as ex1:\n",
    "        print(ex1)\n",
    "    break\n",
    "print('Now it is Done')"
   ]
  },
  {
   "cell_type": "code",
   "execution_count": 14,
   "metadata": {},
   "outputs": [
    {
     "data": {
      "text/plain": [
       "Counter({'a': 2, 'b': 3, 'c': -2, 'd': -4})"
      ]
     },
     "execution_count": 14,
     "metadata": {},
     "output_type": "execute_result"
    }
   ],
   "source": [
    "from collections import Counter\n",
    "a = Counter(a=5, b=4, c=2, d=-3)\n",
    "b = Counter(a=3, b=1, c=4, d=1)\n",
    "a.subtract(b)\n",
    "a"
   ]
  },
  {
   "cell_type": "code",
   "execution_count": 31,
   "metadata": {},
   "outputs": [
    {
     "name": "stdout",
     "output_type": "stream",
     "text": [
      "Python program to demonstrate contains() function of operator module \n",
      "\n",
      "\n",
      "The given substring is present in the string.\n"
     ]
    }
   ],
   "source": [
    "import operator\n",
    "print(\"Python program to demonstrate contains() function of operator module \")\n",
    "print(\"\\n\")\n",
    "str1 = \"Kaashiv is best in programming courses.\"\n",
    "if operator.contains(str1, \"best\"):\n",
    "    print (\"The given substring is present in the string.\")\n",
    "else :\n",
    "    print (\"The given substring is not present in the string.\")"
   ]
  },
  {
   "cell_type": "code",
   "execution_count": 33,
   "metadata": {},
   "outputs": [
    {
     "ename": "SyntaxError",
     "evalue": "EOL while scanning string literal (<ipython-input-33-4421a3514726>, line 63)",
     "output_type": "error",
     "traceback": [
      "\u001b[0;36m  File \u001b[0;32m\"<ipython-input-33-4421a3514726>\"\u001b[0;36m, line \u001b[0;32m63\u001b[0m\n\u001b[0;31m    font=(\"Helvetica\",10),fg=\"brown\", bg=\"white”)\u001b[0m\n\u001b[0m                                                 ^\u001b[0m\n\u001b[0;31mSyntaxError\u001b[0m\u001b[0;31m:\u001b[0m EOL while scanning string literal\n"
     ]
    }
   ],
   "source": [
    "#                                                                                                Add Medicine\n",
    "import tkinter\n",
    "from tkinter import *\n",
    "import tkinter.messagebox as msg # to display message box\n",
    "import sqlite3 #                to store data\n",
    "root = Tk()\n",
    "root.geometry(700*450+300+100)\n",
    "regimage = PhotoImage(file = \"AddMedicine.png\");\n",
    "bg_Label = Label(root,image = regimage)\n",
    "bg_Label.place(x=0,y=0,relwidth=1,relheight=1)\n",
    "root.title(\"Add Medicine Page-Medicine Management System\")\n",
    "root.config\n",
    "#                                      Lets create the table for medicine\n",
    "conn = sqlite3.connect(\"medicine.db\")\n",
    "cursor = conn.cursor()\n",
    "cursor.execute(\"create table if not exists 'medicine'(MedicineID int, MedicineName text,Company text, ChemicalComp text,ManuDate text,ExpDate text, Costfor10 text)\")\n",
    "conn.commit()\n",
    "#             Declare variables for the columns to access\n",
    "MedicineName = StringVar()\n",
    "MedicineID = IntVar()\n",
    "Company= StringVar()\n",
    "ChemicalComp= StringVar()\n",
    "ManuDate= StringVar()\n",
    "ExpDate= StringVar()\n",
    "Costfor10= StringVar()\n",
    "MedicineName.set(\"\")\n",
    "MedicineID.set(\"\")\n",
    "Company.set(\"\")\n",
    "ChemicalComp.set(\"\")\n",
    "ManuDate.set(\"\")\n",
    "ExpDate.set(\"\")\n",
    "Costfor10.set(\"\")\n",
    "############## Lets write functions for the button ############\n",
    "def addmedicine():\n",
    "    conn = sqlite3.connect('medicine.db')\n",
    "    cursor = conn.cursor()\n",
    "    cursor.execute(\"insert into 'medicine'(MedicineName,MedicineID,Company,ChemicalComp,ManuDate,ExpDate,Costfor10) values(?,?,?,?,?,?,?)\",(str(MedicineName.get()),str(MedicineID.get()),str(Company.get()),str(ChemicalComp.get()),str(ManuDate.get()),str(ExpDate.get()),str(Costfor10.get())))\n",
    "    conn.commit()\n",
    "    print(cursor.rowcount)\n",
    "if cursor.rowcount >0:\n",
    "    msg.showinfo(\"Confirmation Message\",\"Medicine Added Successfully\",icon=\"info\")\n",
    "else:\n",
    "    msg.showinfo(\"Error Message\",\"medicine not Added\",icon=\"warning\")\n",
    "\n",
    "def cancel():\n",
    "    root.destroy()\n",
    "import home\n",
    "\n",
    "def back():\n",
    "    root.destroy()\n",
    "##################Top Frame ###########\n",
    "TopHeadingFrame = Frame(root,width=600,bd=1)\n",
    "TopHeadingFrame.pack(side=TOP)\n",
    "\n",
    "HeadingLabel = Label(TopHeadingFrame,text=\"Add Medicine\",\n",
    "font=(\"Helvetica\",16),fg=\"brown\", bg=\"white\")\n",
    "HeadingLabel.grid(row=0,column=1,padx=10,pady=10)\n",
    "\n",
    "MidFrame = Frame(root,width=600)\n",
    "MidFrame.pack(side=TOP)\n",
    "\n",
    "MedicineNameLabel = Label(MidFrame,text=\"Medicine Name\",\n",
    "font=(\"Helvetica\",10),fg=\"brown\", bg=\"white”\n",
    "MedicineNameLabel.grid(row=1,padx=10,pady=10)\n",
    "\n",
    "MedicineIDLabel = Label(MidFrame,text=”Medicine ID”,\n",
    "font=(“Helvetica”,10),fg=”brown”, bg=”white”)\n",
    "MedicineIDLabel.grid(row=2,padx=10,pady=10)\n",
    "\n",
    "CompanyLabel = Label(MidFrame,text=”Company”,\n",
    "font=(“Helvetica”,10),fg=”brown”, bg=”white”)\n",
    "CompanyLabel.grid(row=3,padx=10,pady=10)\n",
    "\n",
    "ChemicalCompLabel = Label(MidFrame,text=”Chemical Composition”,\n",
    "font=(“Helvetica”,10),fg=”brown”, bg=”white”)\n",
    "ChemicalCompLabel.grid(row=4,padx=10,pady=10)\n",
    "\n",
    "ManuDateLabel = Label(MidFrame,text=”Manufacturing Date”,\n",
    "font=(“Helvetica”,10),fg=”brown”, bg=”white”)\n",
    "ManuDateLabel.grid(row=5,padx=10,pady=10)\n",
    "\n",
    "ExpDateLabel = Label(MidFrame,text=”Expiry Date”,\n",
    "font=(“Helvetica”,10),fg=”brown”, bg=”white”)\n",
    "ExpDateLabel.grid(row=6,padx=10,pady=10)\n",
    "\n",
    "Costfor10Label = Label(MidFrame,text=”Cost for 10″,\n",
    "font=(“Helvetica”,10),fg=”brown”, bg=”white”)\n",
    "Costfor10Label.grid(row=7,padx=10,pady=10)\n",
    "\n",
    "MedicineNameTextbox = Entry(MidFrame,textvariable=MedicineName,\n",
    "font=(“Helvetica”,10))\n",
    "MedicineNameTextbox.grid(row=1,column=1,padx=10,pady=10)\n",
    "\n",
    "MedicineIDTextbox = Entry(MidFrame,textvariable=MedicineID,\n",
    "font=(“Helvetica”,10))\n",
    "MedicineIDTextbox.grid(row=2,column=1,padx=10,pady=10)\n",
    "\n",
    "CompanyTextbox = Entry(MidFrame,textvariable=Company,\n",
    "font=(“Helvetica”,10))\n",
    "CompanyTextbox.grid(row=3,column=1,padx=10,pady=10)\n",
    "\n",
    "ChemicalCompTextbox = Entry(MidFrame,textvariable=ChemicalComp,\n",
    "font=(“Helvetica”,10))\n",
    "ChemicalCompTextbox.grid(row=4,column=1,padx=10,pady=10)\n",
    "\n",
    "ManuDateTextbox = Entry(MidFrame,textvariable=ManuDate,\n",
    "font=(“Helvetica”,10))\n",
    "ManuDateTextbox.grid(row=5,column=1,padx=10,pady=10)\n",
    "\n",
    "ExpDateTextbox = Entry(MidFrame,textvariable=ExpDate,\n",
    "font=(“Helvetica”,10))\n",
    "ExpDateTextbox.grid(row=6,column=1,padx=10,pady=10)\n",
    "\n",
    "Costfor10Textbox = Entry(MidFrame,textvariable=Costfor10,\n",
    "font=(“Helvetica”,10))\n",
    "Costfor10Textbox.grid(row=7,column=1,padx=10,pady=10)\n",
    "\n",
    "RegisterButton = Button(MidFrame,text=”Register”, command=addmedicine,\n",
    "font=(“Helvetica”,10))\n",
    "RegisterButton.grid(row=8,column=0,padx=10,pady=10)\n",
    "\n",
    "CancelButton = Button(MidFrame,text=”Cancel”, command=cancel,\n",
    "font=(“Helvetica”,10))\n",
    "CancelButton.grid(row=8,column=1,padx=10,pady=10)\n",
    "\n",
    "BackButton = Button(MidFrame,text=”Back”, command = back,\n",
    "font=(“Helvetica”,10))\n",
    "BackButton.grid(row=10,column=0,padx=10,pady=10)\n",
    "\n",
    "#                                                                Delete Medicine\n",
    "from tkinter import * #import tkinter library\n",
    "import tkinter.messagebox as msg # to display message box\n",
    "import sqlite3 #to store data\n",
    "import tkinter.ttk as ttk\n",
    "\n",
    "root = Tk()\n",
    "root.geometry(“700×450+300+100”) #width height xoffset #yoffset\n",
    "regimage = PhotoImage(file = “DeleteMedicine.png”);\n",
    "bg_Label = Label(root,image = regimage)\n",
    "bg_Label.place(x=0,y=0,relwidth=1,relheight=1)\n",
    "root.title(“Delete Medicine Page – Medicine Management System”)\n",
    "root.config\n",
    "##################Top Frame ###########\n",
    "TopHeadingFrame = Frame(root,width=600,bd=1)\n",
    "TopHeadingFrame.pack(side=TOP)\n",
    "\n",
    "HeadingLabel = Label(TopHeadingFrame,text=”Delete Medicine”,\n",
    "font=(“Helvetica”,16),fg=”brown”, bg=”white”)\n",
    "HeadingLabel.grid(row=0,column=1,padx=10,pady=10)\n",
    "###################Declare variables for the columns to access######3\n",
    "MedicineName = StringVar()\n",
    "MedicineName.set(“”)\n",
    "\n",
    "MidFrame = Frame(root,width=600)\n",
    "MidFrame.pack(side=TOP)\n",
    "##########\n",
    "MedicineNameLabel = Label(MidFrame,text=”Medicine Name”,\n",
    "font=(“Helvetica”,10),fg=”brown”, bg=”white”)\n",
    "MedicineNameLabel.grid(row=1,padx=10,pady=10)\n",
    "\n",
    "##########\n",
    "MedicineNameTextbox = Entry(MidFrame,textvariable=MedicineName,\n",
    "font=(“Helvetica”,10))\n",
    "MedicineNameTextbox.grid(row=1,column=1,padx=10,pady=10)\n",
    "##########\n",
    "\n",
    "##########\n",
    "def back():\n",
    "    root.destroy()\n",
    "import home\n",
    "##########\n",
    "def View():\n",
    "    for i in treeview.get_children() :\n",
    "        treeview.delete(i)\n",
    "conn = sqlite3.connect(“medicine.db”)\n",
    "cursor = conn.cursor()\n",
    "cursor.execute(“select * from 'medicine'”)\n",
    "dataselect = cursor.fetchall()\n",
    "### insert in the parent container and append it in the end\n",
    "for data in dataselect:\n",
    "treeview.insert(”,’end’,value=(data))\n",
    "cursor.close()\n",
    "conn.commit()\n",
    "##########\n",
    "##########\n",
    "def Delete():\n",
    "for i in treeview.get_children() :\n",
    "treeview.delete(i)\n",
    "conn = sqlite3.connect(“medicine.db”)\n",
    "cursor = conn.cursor()\n",
    "medname = str(MedicineName.get())\n",
    "cursor.execute(“delete from ‘medicine’ where MedicineName=?”,(medname,))\n",
    "print(cursor.rowcount)\n",
    "if cursor.rowcount >0:\n",
    "msg.showinfo(“Confirm Message”,”Medicine deletion success”,icon=”info”)\n",
    "else:\n",
    "msg.showinfo(“Error Message”,”medicine couldn’t be deleted”,icon=”warning”)\n",
    "cursor.close()\n",
    "conn.commit()\n",
    "##########\n",
    "DeleteButton = Button(MidFrame,text=”Delete Med”, command = Delete,\n",
    "font=(“Helvetica”,10))\n",
    "DeleteButton.grid(row=1,column=2,padx=10,pady=10)\n",
    "##########\n",
    "ViewButton = Button(MidFrame,text=”View”, command = View,\n",
    "font=(“Helvetica”,10))\n",
    "ViewButton.grid(row=1,column=3,padx=10,pady=10)\n",
    "##########\n",
    "BackButton = Button(MidFrame,text=”Back”, command = back,\n",
    "font=(“Helvetica”,10))\n",
    "BackButton.grid(row=1,column=4,padx=10,pady=10)\n",
    "##########\n",
    "ViewFrame = Frame(root,width=400)\n",
    "ViewFrame.pack(side=TOP)\n",
    "#################create a treeview in ViewFrame #######\n",
    "treeview = ttk.Treeview(ViewFrame,columns=(“MedicineID”, “MedicineName” ,”Company”, “ChemicalComp”,”ManuDate” ,”ExpDate”, “Costfor10″),height=200,selectmode=”extended” )\n",
    "treeview.heading(“MedicineID” , text=”MedicineID” , anchor =”w”)\n",
    "treeview.heading(“MedicineName” , text=”MedicineName” , anchor =”w”)\n",
    "treeview.heading(“Company” , text=”Company” , anchor =”w”)\n",
    "treeview.heading(“ChemicalComp” , text=”ChemicalComp” , anchor =”w”)\n",
    "treeview.heading(“ManuDate” , text=”ManuDate” , anchor =”w”)\n",
    "treeview.heading(“ExpDate” , text=”ExpDate” , anchor =”w”)\n",
    "treeview.heading(“Costfor10″ , text=”Costfor10″ , anchor =”w”)\n",
    "treeview.column(“#0” ,stretch=NO,width=10,minwidth=0)\n",
    "treeview.column(“#1” ,stretch=NO,width=70,minwidth=0)\n",
    "treeview.column(“#2” ,stretch=NO,width=120,minwidth=0)\n",
    "treeview.column(“#3” ,stretch=NO,width=120,minwidth=0)\n",
    "treeview.column(“#4” ,stretch=NO,width=160,minwidth=0)\n",
    "treeview.column(“#5” ,stretch=NO,width=70,minwidth=0)\n",
    "treeview.column(“#6” ,stretch=NO,width=70,minwidth=0)\n",
    "treeview.column(“#7” ,stretch=NO,width=70,minwidth=0)\n",
    "treeview.pack()\n",
    "\n",
    "home\n",
    "from tkinter import * #import tkinter library\n",
    "import tkinter.messagebox as msg # to display message box\n",
    "import sqlite3 #to store data\n",
    "root = Tk()\n",
    "root.geometry(“700×450+300+100”) #width height xoffset #yoffset\n",
    "regimage = PhotoImage(file = “home.png”);\n",
    "bg_Label = Label(root,image = regimage)\n",
    "bg_Label.place(x=0,y=0,relwidth=1,relheight=1)\n",
    "root.title(“Home Page – Medicine Management System”)\n",
    "root.config\n",
    "############## Lets write functions for the button ############\n",
    "def AddMedicine():\n",
    "    root.destroy()\n",
    "import AddMedicine\n",
    "\n",
    "def ViewMedicine():\n",
    "    root.destroy()\n",
    "import ViewMedicine\n",
    "\n",
    "def SearchMedicine():\n",
    "    root.destroy()\n",
    "import SearchMedicine\n",
    "\n",
    "def DeleteMedicine():\n",
    "    root.destroy()\n",
    "import DeleteMedicine\n",
    "##################Top Frame ###########\n",
    "TopHeadingFrame = Frame(root,width=600,bd=1)\n",
    "TopHeadingFrame.pack(side=TOP)\n",
    "\n",
    "HeadingLabel = Label(TopHeadingFrame,text=”Options to choose”,\n",
    "font=(“Helvetica”,16),fg=”brown”, bg=”white”)\n",
    "HeadingLabel.grid(row=0,column=1,padx=10,pady=10)\n",
    "##########\n",
    "MidFrame = Frame(root,width=600)\n",
    "MidFrame.pack(side=TOP)\n",
    "##########\n",
    "AddMedicine = Button(MidFrame,text=”Add Medicine”, command=AddMedicine,\n",
    "font=(“Helvetica”,10))\n",
    "AddMedicine.grid(row=2,column=1,padx=10,pady=10)\n",
    "##########\n",
    "ViewMedicine = Button(MidFrame,text=”View Medicine”, command=ViewMedicine,\n",
    "font=(“Helvetica”,10))\n",
    "ViewMedicine.grid(row=4,column=1,padx=10,pady=10)\n",
    "##########\n",
    "SearchMedicine = Button(MidFrame,text=”Search Medicine”, command=SearchMedicine,\n",
    "font=(“Helvetica”,10))\n",
    "SearchMedicine.grid(row=6,column=1,padx=10,pady=10)\n",
    "##########\n",
    "DeleteMedicine = Button(MidFrame,text=”Delete Medicine”, command=DeleteMedicine,\n",
    "font=(“Helvetica”,10))\n",
    "DeleteMedicine.grid(row=8,column=1,padx=10,pady=10)\n",
    "\n",
    "#                                                              Login\n",
    "from tkinter import * #import tkinter library\n",
    "import tkinter.messagebox as msg # to display message box\n",
    "import sqlite3 #to store data\n",
    "root = Tk()\n",
    "root.geometry(“700×450+300+100”) #width height xoffset #yoffset\n",
    "regimage = PhotoImage(file = “login.png”);\n",
    "bg_Label = Label(root,image = regimage)\n",
    "bg_Label.place(x=0,y=0,relwidth=1,relheight=1)\n",
    "root.title(“Login Page – Medicine Management System”)\n",
    "root.config\n",
    "########### Variable declaration #########\n",
    "UserName= StringVar()\n",
    "Password= StringVar()\n",
    "############## Lets write functions for the button ############\n",
    "def register():\n",
    "    root.destroy()\n",
    "import Reg\n",
    "\n",
    "def login():\n",
    "    #conn = sqlite3.connect(“medicine.db”)\n",
    "conn = mysql.connect(\n",
    "host=”localhost”,\n",
    "user=”root”,\n",
    "password=””,\n",
    "database=”medicine”\n",
    ")\n",
    "cursor = conn.cursor()\n",
    "user= str(UserName.get())\n",
    "\n",
    "pwd = str(Password.get())\n",
    "print (user)\n",
    "print (pwd)\n",
    "print (“select UserName from ‘usertable1’ where ‘UserName’=? and Pwd=?”,(user,pwd))\n",
    "cursor.execute(“select UserName from usertable1 where UserName=? and Pwd=?”,(user,pwd))\n",
    "resultset = cursor.fetchall();\n",
    "for data in resultset:\n",
    "    print (data)\n",
    "if data:\n",
    "    msg.showinfo(“Confirmation Message”,”Login successful Added”,icon=”info”)\n",
    "    root.destroy()\n",
    "import home\n",
    "\n",
    "else:\n",
    "    msg.showinfo(“Error Message”,”Invalid user”,icon=”warning”)\n",
    "    cursor.close()\n",
    "\n",
    "def back():\n",
    "    root.destroy()\n",
    "import home\n",
    "#################### Lets put the controls ############\n",
    "TopHeadingFrame = Frame(root,width=600,bd=1)\n",
    "TopHeadingFrame.pack(side=TOP)\n",
    "\n",
    "HeadingLabel = Label(TopHeadingFrame,text=”Login Page”,\n",
    "font=(“Helvetica”,16),fg=”brown”, bg=”white”)\n",
    "HeadingLabel.grid(row=0,column=1,padx=10,pady=10)\n",
    "##########\n",
    "MidFrame = Frame(root,width=600)\n",
    "MidFrame.pack(side=TOP)\n",
    "##########\n",
    "UserNameLabel = Label(MidFrame,text=”UserName”,\n",
    "font=(“Helvetica”,10),fg=”brown”, bg=”white”)\n",
    "UserNameLabel.grid(row=3,padx=10,pady=10)\n",
    "##########\n",
    "PasswordLabel = Label(MidFrame,text=”Password”,\n",
    "font=(“Helvetica”,10),fg=”brown”, bg=”white”)\n",
    "PasswordLabel.grid(row=4,padx=10,pady=10)\n",
    "##########\n",
    "UserNameTextbox = Entry(MidFrame,textvariable=UserName,\n",
    "font=(“Helvetica”,10))\n",
    "UserNameTextbox.grid(row=3,column=1,padx=10,pady=10)\n",
    "##########\n",
    "PasswordTextbox = Entry(MidFrame,textvariable=Password,\n",
    "font=(“Helvetica”,10))\n",
    "PasswordTextbox.grid(row=4,column=1,padx=10,pady=10)\n",
    "##########\n",
    "RegisterButton = Button(MidFrame,text=”Login”, command = login,\n",
    "font=(“Helvetica”,10))\n",
    "RegisterButton.grid(row=7,column=1,padx=10,pady=10)\n",
    "##########\n",
    "AlreadyUserLabel = Label(MidFrame,text=”Not registered ???”,\n",
    "font=(“Helvetica”,10),fg=”brown”, bg=”white”)\n",
    "AlreadyUserLabel.grid(row=9,padx=10,pady=10)\n",
    "##########\n",
    "LoginButton = Button(MidFrame,text=”Register”, command=register ,\n",
    "font=(“Helvetica”,10))\n",
    "LoginButton.grid(row=9,column=1,padx=10,pady=10)\n",
    "\n",
    "Reg\n",
    "from tkinter import * #import tkinter library\n",
    "import tkinter.messagebox as msg # to display message box\n",
    "import sqlite3 #to store data\n",
    "import mysql.connector as mysql\n",
    "root = Tk()\n",
    "root.geometry(“700×450+300+100”) #width height xoffset #yoffset\n",
    "regimage = PhotoImage(file = “reg.png”);\n",
    "bg_Label = Label(root,image = regimage)\n",
    "bg_Label.place(x=0,y=0,relwidth=1,relheight=1)\n",
    "root.title(“Medicine Management System”)\n",
    "root.config\n",
    "#########################Lets connect the database now #########\n",
    "conn = mysql.connect(\n",
    "host=”localhost”,\n",
    "user=”root”,\n",
    "password=””,\n",
    "database=”medicine”\n",
    ")\n",
    "\n",
    "# conn = sqlite3.connect(“medicine.db”)\n",
    "cursor = conn.cursor()\n",
    "cursor.execute(“create table if not exists usertable1(Name varchar(100),ID int, UserName varchar(100),Pwd varchar(100),mobile varchar(100), email varchar(100))”)\n",
    "conn.commit()\n",
    "########################Lets insert the data into table now #######\n",
    "Name = StringVar()\n",
    "ID= IntVar()\n",
    "UserName= StringVar()\n",
    "Password= StringVar()\n",
    "Mobile= StringVar()\n",
    "Email= StringVar()\n",
    "Name.set(“”)\n",
    "ID.set(“”)\n",
    "UserName.set(“”)\n",
    "Password.set(“”)\n",
    "Mobile.set(“”)\n",
    "Email.set(“”)\n",
    "############## Lets write functions for the button ############\n",
    "def register():\n",
    "#conn = sqlite3.connect(“medicine.db”)\n",
    "conn = mysql.connect(\n",
    "host=”localhost”,\n",
    "user=”root”,\n",
    "password=””,\n",
    "database=”medicine”\n",
    ")\n",
    "cursor = conn.cursor()\n",
    "cursor.execute(“insert into usertable1(Name ,ID, UserName,Pwd ,mobile, email) values(%s,%s,%s,%s,%s,%s)”,(str(Name.get()), str(ID.get()),str(UserName.get()),str(Password.get()),str(Mobile.get()),str(Email.get())))\n",
    "conn.commit()\n",
    "print(cursor.rowcount)\n",
    "if cursor.rowcount >0:\n",
    "    msg.showinfo(“Confirmation Message”,”User Added”,icon=”info”)\n",
    "else:\n",
    "    msg.showinfo(“Error Message”,”User not Added”,icon=”warning”)\n",
    "\n",
    "def login():\n",
    "    root.destroy()\n",
    "import login\n",
    "#################### Lets put the controls ############\n",
    "TopHeadingFrame = Frame(root,width=600,bd=1)\n",
    "TopHeadingFrame.pack(side=TOP)\n",
    "HeadingLabel = Label(TopHeadingFrame,text=”Medicine Mgnt System”,\n",
    "font=(“Helvetica”,16),fg=”brown”, bg=”white”)\n",
    "HeadingLabel.grid(row=0,column=1,padx=10,pady=10)\n",
    "########################Plan for the controls in the mid####\n",
    "MidFrame = Frame(root,width=600)\n",
    "MidFrame.pack(side=TOP)\n",
    "NameLabel = Label(MidFrame,text=”Name”,\n",
    "font=(“Helvetica”,10),fg=”brown”, bg=”white”)\n",
    "NameLabel.grid(row=1,padx=10,pady=10)\n",
    "##########\n",
    "IDLabel = Label(MidFrame,text=”ID”,\n",
    "font=(“Helvetica”,10),fg=”brown”, bg=”white”)\n",
    "IDLabel.grid(row=2,padx=10,pady=10)\n",
    "##########\n",
    "UserNameLabel = Label(MidFrame,text=”UserName”,\n",
    "font=(“Helvetica”,10),fg=”brown”, bg=”white”)\n",
    "UserNameLabel.grid(row=3,padx=10,pady=10)\n",
    "##########\n",
    "PasswordLabel = Label(MidFrame,text=”Password”,\n",
    "font=(“Helvetica”,10),fg=”brown”, bg=”white”)\n",
    "PasswordLabel.grid(row=4,padx=10,pady=10)\n",
    "##########\n",
    "MobileLabel = Label(MidFrame,text=”Mobile”,\n",
    "font=(“Helvetica”,10),fg=”brown”, bg=”white”)\n",
    "MobileLabel.grid(row=5,padx=10,pady=10)\n",
    "##########\n",
    "EmailLabel = Label(MidFrame,text=”E-Mail”,\n",
    "font=(“Helvetica”,10),fg=”brown”, bg=”white”)\n",
    "EmailLabel.grid(row=6,padx=10,pady=10)\n",
    "##########\n",
    "NameTextbox = Entry(MidFrame,textvariable=Name,\n",
    "font=(“Helvetica”,10))\n",
    "NameTextbox.grid(row=1,column=1,padx=10,pady=10)\n",
    "##########\n",
    "IDTextbox = Entry(MidFrame,textvariable=ID,\n",
    "font=(“Helvetica”,10))\n",
    "IDTextbox.grid(row=2,column=1,padx=10,pady=10)\n",
    "##########\n",
    "UserNameTextbox = Entry(MidFrame,textvariable=UserName,\n",
    "font=(“Helvetica”,10))\n",
    "UserNameTextbox.grid(row=3,column=1,padx=10,pady=10)\n",
    "##########\n",
    "PasswordTextbox = Entry(MidFrame,textvariable=Password,\n",
    "font=(“Helvetica”,10))\n",
    "PasswordTextbox.grid(row=4,column=1,padx=10,pady=10)\n",
    "##########\n",
    "MobileTextbox = Entry(MidFrame,textvariable=Mobile,\n",
    "font=(“Helvetica”,10))\n",
    "MobileTextbox.grid(row=5,column=1,padx=10,pady=10)\n",
    "##########\n",
    "EmailTextbox = Entry(MidFrame,textvariable=Email,\n",
    "font=(“Helvetica”,10))\n",
    "EmailTextbox.grid(row=6,column=1,padx=10,pady=10)\n",
    "##########\n",
    "RegisterButton = Button(MidFrame,text=”Register”, command=register,\n",
    "font=(“Helvetica”,10))\n",
    "RegisterButton.grid(row=7,column=1,padx=10,pady=10)\n",
    "##########\n",
    "AlreadyUserLabel = Label(MidFrame,text=”Already User ???”,\n",
    "font=(“Helvetica”,10),fg=”brown”, bg=”white”)\n",
    "AlreadyUserLabel.grid(row=9,padx=10,pady=10)\n",
    "##########\n",
    "LoginButton = Button(MidFrame,text=”Login”, command=login,\n",
    "font=(“Helvetica”,10))\n",
    "LoginButton.grid(row=9,column=1,padx=10,pady=10)\n",
    "# SearchMedicine\n",
    "from tkinter import * #import tkinter library\n",
    "import tkinter.messagebox as msg # to display message box\n",
    "import sqlite3 #to store data\n",
    "import tkinter.ttk as ttk\n",
    "root = Tk()\n",
    "root.geometry(“700×450+300+100”) #width height xoffset #yoffset\n",
    "regimage = PhotoImage(file = “SearchMedicine.png”);\n",
    "bg_Label = Label(root,image = regimage)\n",
    "bg_Label.place(x=0,y=0,relwidth=1,relheight=1)\n",
    "root.title(“Search Medicine – Medicine Management System”)\n",
    "root.config\n",
    "##################Top Frame ###########\n",
    "TopHeadingFrame = Frame(root,width=600,bd=1)\n",
    "TopHeadingFrame.pack(side=TOP)\n",
    "\n",
    "HeadingLabel = Label(TopHeadingFrame,text=”Search Medicine”,\n",
    "font=(“Helvetica”,16),fg=”brown”, bg=”white”)\n",
    "HeadingLabel.grid(row=0,column=1,padx=10,pady=10)\n",
    "###################Declare variables for the columns to access######3\n",
    "MedicineName = StringVar()\n",
    "MedicineName.set(“”)\n",
    "##########\n",
    "MidFrame = Frame(root,width=600)\n",
    "MidFrame.pack(side=TOP)\n",
    "##########\n",
    "MedicineNameLabel = Label(MidFrame,text=”Medicine Name”,\n",
    "font=(“Helvetica”,10),fg=”brown”, bg=”white”)\n",
    "MedicineNameLabel.grid(row=1,padx=10,pady=10)\n",
    "##########\n",
    "MedicineNameTextbox = Entry(MidFrame,textvariable=MedicineName,\n",
    "font=(“Helvetica”,10))\n",
    "MedicineNameTextbox.grid(row=1,column=1,padx=10,pady=10)\n",
    "##########\n",
    "def back():\n",
    "    root.destroy()\n",
    "import home\n",
    "##########\n",
    "def search():\n",
    "    for i in treeview.get_children() :\n",
    "        treeview.delete(i)\n",
    "conn = sqlite3.connect(“medicine.db”)\n",
    "cursor = conn.cursor()\n",
    "medname = str(MedicineName.get())\n",
    "cursor.execute(“select * from ‘medicine’ where MedicineName=?”,(medname,))\n",
    "dataselect = cursor.fetchall()\n",
    "### insert in the parent container and append it in the end\n",
    "for data in dataselect:\n",
    "treeview.insert(”,’end’,value=(data))\n",
    "cursor.close()\n",
    "conn.commit()\n",
    "##########\n",
    "SearchButton = Button(MidFrame,text=”Search”, command = search,\n",
    "font=(“Helvetica”,10))\n",
    "SearchButton.grid(row=1,column=2,padx=10,pady=10)\n",
    "##########\n",
    "BackButton = Button(MidFrame,text=”Back”, command = back,\n",
    "font=(“Helvetica”,10))\n",
    "BackButton.grid(row=1,column=3,padx=10,pady=10)\n",
    "##########\n",
    "ViewFrame = Frame(root,width=400)\n",
    "ViewFrame.pack(side=TOP)\n",
    "#################create a treeview in ViewFrame #######\n",
    "treeview = ttk.Treeview(ViewFrame,columns=(“MedicineID”, “MedicineName” ,”Company”, “ChemicalComp”,”ManuDate” ,”ExpDate”, “Costfor10″),height=200,selectmode=”extended” )\n",
    "treeview.heading(“MedicineID” , text=”MedicineID” , anchor =”w”)\n",
    "treeview.heading(“MedicineName” , text=”MedicineName” , anchor =”w”)\n",
    "treeview.heading(“Company” , text=”Company” , anchor =”w”)\n",
    "treeview.heading(“ChemicalComp” , text=”ChemicalComp” , anchor =”w”)\n",
    "treeview.heading(“ManuDate” , text=”ManuDate” , anchor =”w”)\n",
    "treeview.heading(“ExpDate” , text=”ExpDate” , anchor =”w”)\n",
    "treeview.heading(“Costfor10″ , text=”Costfor10″ , anchor =”w”)\n",
    "\n",
    "treeview.column(“#0” ,stretch=NO,width=10,minwidth=0)\n",
    "treeview.column(“#1” ,stretch=NO,width=70,minwidth=0)\n",
    "treeview.column(“#2” ,stretch=NO,width=120,minwidth=0)\n",
    "treeview.column(“#3” ,stretch=NO,width=120,minwidth=0)\n",
    "treeview.column(“#4” ,stretch=NO,width=160,minwidth=0)\n",
    "treeview.column(“#5” ,stretch=NO,width=70,minwidth=0)\n",
    "treeview.column(“#6” ,stretch=NO,width=70,minwidth=0)\n",
    "treeview.column(“#7” ,stretch=NO,width=70,minwidth=0)\n",
    "treeview.pack()\n",
    "#########################Lets connect the database and fetch values #########\n",
    "ViewMedicine\n",
    "from tkinter import * #import tkinter library\n",
    "import tkinter.messagebox as msg # to display message box\n",
    "import sqlite3 #to store data\n",
    "import tkinter.ttk as ttk\n",
    "\n",
    "root = Tk()\n",
    "root.geometry(“700×450+300+100”) #width height xoffset #yoffset\n",
    "regimage = PhotoImage(file = “SearchMedicine.png”);\n",
    "bg_Label = Label(root,image = regimage)\n",
    "bg_Label.place(x=0,y=0,relwidth=1,relheight=1)\n",
    "root.title(“Search Medicine – Medicine Management System”)\n",
    "root.config\n",
    "##################Top Frame ###########\n",
    "TopHeadingFrame = Frame(root,width=600,bd=1)\n",
    "TopHeadingFrame.pack(side=TOP)\n",
    "\n",
    "HeadingLabel = Label(TopHeadingFrame,text=”Search Medicine”,\n",
    "font=(“Helvetica”,16),fg=”brown”, bg=”white”)\n",
    "HeadingLabel.grid(row=0,column=1,padx=10,pady=10)\n",
    "###################Declare variables for the columns to access######3\n",
    "MedicineName = StringVar()\n",
    "MedicineName.set(“”)\n",
    "##########\n",
    "MidFrame = Frame(root,width=600)\n",
    "MidFrame.pack(side=TOP)\n",
    "##########\n",
    "MedicineNameLabel = Label(MidFrame,text=”Medicine Name”,\n",
    "font=(“Helvetica”,10),fg=”brown”, bg=”white”)\n",
    "MedicineNameLabel.grid(row=1,padx=10,pady=10)\n",
    "MedicineNameTextbox = Entry(MidFrame,textvariable=MedicineName,\n",
    "font=(“Helvetica”,10))\n",
    "MedicineNameTextbox.grid(row=1,column=1,padx=10,pady=10)\n",
    "##########\n",
    "def back():\n",
    "    root.destroy()\n",
    "import home\n",
    "##########\n",
    "def search():\n",
    "    for i in treeview.get_children() :\n",
    "        treeview.delete(i)\n",
    "conn = sqlite3.connect(“medicine.db”)\n",
    "cursor = conn.cursor()\n",
    "medname = str(MedicineName.get())\n",
    "cursor.execute(“select * from ‘medicine’ where MedicineName=?”,(medname,))\n",
    "dataselect = cursor.fetchall()\n",
    "### insert in the parent container and append it in the end\n",
    "for data in dataselect:\n",
    "    treeview.insert(”,’end’,value=(data))\n",
    "cursor.close()\n",
    "conn.commit()\n",
    "##########\n",
    "SearchButton = Button(MidFrame,text=”Search”, command = search,\n",
    "font=(“Helvetica”,10))\n",
    "SearchButton.grid(row=1,column=2,padx=10,pady=10)\n",
    "##########\n",
    "BackButton = Button(MidFrame,text=”Back”, command = back,\n",
    "font=(“Helvetica”,10))\n",
    "BackButton.grid(row=1,column=3,padx=10,pady=10)\n",
    "##########\n",
    "ViewFrame = Frame(root,width=400)\n",
    "ViewFrame.pack(side=TOP)\n",
    "#################create a treeview in ViewFrame #######\n",
    "treeview = ttk.Treeview(ViewFrame,columns=(“MedicineID”, “MedicineName” ,”Company”, “ChemicalComp”,”ManuDate” ,”ExpDate”, “Costfor10″),height=200,selectmode=”extended” )\n",
    "treeview.heading(“MedicineID” , text=”MedicineID” , anchor =”w”)\n",
    "treeview.heading(“MedicineName” , text=”MedicineName” , anchor =”w”)\n",
    "treeview.heading(“Company” , text=”Company” , anchor =”w”)\n",
    "treeview.heading(“ChemicalComp” , text=”ChemicalComp” , anchor =”w”)\n",
    "treeview.heading(“ManuDate” , text=”ManuDate” , anchor =”w”)\n",
    "treeview.heading(“ExpDate” , text=”ExpDate” , anchor =”w”)\n",
    "treeview.heading(“Costfor10″ , text=”Costfor10″ , anchor =”w”)\n",
    "\n",
    "treeview.column(“#0” ,stretch=NO,width=10,minwidth=0)\n",
    "treeview.column(“#1” ,stretch=NO,width=70,minwidth=0)\n",
    "treeview.column(“#2” ,stretch=NO,width=120,minwidth=0)\n",
    "treeview.column(“#3” ,stretch=NO,width=120,minwidth=0)\n",
    "treeview.column(“#4” ,stretch=NO,width=160,minwidth=0)\n",
    "treeview.column(“#5” ,stretch=NO,width=70,minwidth=0)\n",
    "treeview.column(“#6” ,stretch=NO,width=70,minwidth=0)\n",
    "treeview.column(“#7” ,stretch=NO,width=70,minwidth=0)\n",
    "treeview.pack()\n",
    "#########################Lets connect the database and fetch values #########"
   ]
  },
  {
   "cell_type": "code",
   "execution_count": 34,
   "metadata": {},
   "outputs": [
    {
     "data": {
      "text/plain": [
       "'Abith'"
      ]
     },
     "execution_count": 34,
     "metadata": {},
     "output_type": "execute_result"
    }
   ],
   "source": [
    "def function():\n",
    "    return 19, 'Abith', 619\n",
    "roll, name, score = function()\n",
    "name"
   ]
  },
  {
   "cell_type": "code",
   "execution_count": 52,
   "metadata": {},
   "outputs": [
    {
     "name": "stdout",
     "output_type": "stream",
     "text": [
      "Main function illustration\n",
      "sum of values entered is 3\n",
      "Inside main() function\n"
     ]
    }
   ],
   "source": [
    "print(\"Main function illustration\")\n",
    "def sum(a,b):\n",
    "    return (a+b)\n",
    "def main():\n",
    "    print(\"Inside main() function\")\n",
    "x=int(input(\"enter value x\"))\n",
    "y=int((input(\"enter value y\")))\n",
    "print(\"sum of values entered is\",end=' ')\n",
    "print(sum(x,y))\n",
    "if __name__ == \"__main__\":\n",
    "    main()"
   ]
  },
  {
   "cell_type": "code",
   "execution_count": 4,
   "metadata": {},
   "outputs": [
    {
     "name": "stdout",
     "output_type": "stream",
     "text": [
      "5\n",
      "Time taken by using naive method is : 0.00016236305236816406\n",
      "Time taken by using len() method is : 1.1920928955078125e-06\n",
      "Time taken by using naive method is : 0.00026798248291015625\n",
      "Time taken by using len() method is : 4.76837158203125e-07\n",
      "Time taken by using naive method is : 0.00033593177795410156\n",
      "Time taken by using len() method is : 7.152557373046875e-07\n",
      "Time taken by using naive method is : 0.00039768218994140625\n",
      "Time taken by using len() method is : 4.76837158203125e-07\n",
      "Time taken by using naive method is : 0.0004565715789794922\n",
      "Time taken by using len() method is : 4.76837158203125e-07\n",
      "Time taken by using length_hint() method is : 2.384185791015625e-07\n"
     ]
    }
   ],
   "source": [
    "from operator import length_hint\n",
    "length_lst = length_hint(lst)\n",
    "print(length_lst)\n",
    "import time\n",
    "start_time_naive = time.time()\n",
    "counter = 0\n",
    "for i in lst:\n",
    "    counter = counter + 1\n",
    "    end_time_naive = str(time.time() - start_time_naive)\n",
    "    start_time_len = time.time()\n",
    "    list_len = len(lst)\n",
    "    end_time_len = str(time.time() - start_time_len)\n",
    "    start_time_hint = time.time()\n",
    "    list_len_hint = length_hint(lst)\n",
    "    end_time_hint = str(time.time() - start_time_hint)\n",
    "    print (\"Time taken by using naive method is : \" + end_time_naive)\n",
    "    print (\"Time taken by using len() method is : \" + end_time_len)\n",
    "print (\"Time taken by using length_hint() method is : \" + end_time_hint)"
   ]
  },
  {
   "cell_type": "code",
   "execution_count": 12,
   "metadata": {},
   "outputs": [
    {
     "name": "stdout",
     "output_type": "stream",
     "text": [
      "Recursion--- 0.00017261505126953125 seconds ---\n",
      "Iteration--- 0.0001316070556640625 seconds ---\n"
     ]
    }
   ],
   "source": [
    "import time\n",
    "def get_recursive_factorial(n):\n",
    "    if n < 0:\n",
    "        return -1\n",
    "    elif n < 2:\n",
    "        return 1\n",
    "    else:\n",
    "        return n * get_recursive_factorial(n-1)\n",
    "def get_iterative_factorial(n):\n",
    "    if n < 0 :\n",
    "        return -1\n",
    "    else:\n",
    "        fact = 1\n",
    "    for i in range(1, n+1):\n",
    "        fact *= i\n",
    "        return fact\n",
    "start_time = time.time()\n",
    "get_recursive_factorial(100)\n",
    "print(\"Recursion--- %s seconds ---\" % (time.time() - start_time))\n",
    "start_time = time.time()\n",
    "get_iterative_factorial(100)\n",
    "print(\"Iteration--- %s seconds ---\" % (time.time() - start_time))"
   ]
  },
  {
   "cell_type": "code",
   "execution_count": 20,
   "metadata": {},
   "outputs": [
    {
     "name": "stdout",
     "output_type": "stream",
     "text": [
      "\n",
      "1 \n",
      "1 2 \n",
      "1 2 3 \n",
      "1 2 3 4 \n"
     ]
    }
   ],
   "source": [
    "for x in range(0,5):\n",
    "    for i in range(0,x):\n",
    "        print(i+1,end=' ')\n",
    "    print(\"\")"
   ]
  },
  {
   "cell_type": "code",
   "execution_count": 22,
   "metadata": {},
   "outputs": [
    {
     "name": "stdout",
     "output_type": "stream",
     "text": [
      "Original Text : Coding in Python is fun.\n",
      "Length of the string Coding in Python is fun. is 24\n",
      "Character at 0 th position : C\n",
      "Character at 7 th position : i\n",
      "Substring : Coding \n"
     ]
    }
   ],
   "source": [
    "statement = \"Coding in Python is fun.\"\n",
    "start_index = 0\n",
    "end_index = 7\n",
    "print(\"Original Text :\",statement)\n",
    "length_statement = len(statement)\n",
    "print(\"Length of the string\",statement,\"is\",length_statement)\n",
    "print(\"Character at\",start_index,\"th position :\",statement[start_index])\n",
    "print(\"Character at\",end_index,\"th position :\",statement[end_index])\n",
    "substring = statement[start_index:end_index]\n",
    "print(\"Substring :\",substring)"
   ]
  },
  {
   "cell_type": "code",
   "execution_count": 6,
   "metadata": {},
   "outputs": [
    {
     "name": "stdout",
     "output_type": "stream",
     "text": [
      "Prints the index value of vowels in the above given list:\n",
      "The index of a: 0\n",
      "The index of e: 1\n",
      "The index of i: 2\n"
     ]
    }
   ],
   "source": [
    "letters = ['a', 'e', 'i', 'o', 'i', 'u', 'k', 'h']\n",
    "print(\"Prints the index value of vowels in the above given list:\")\n",
    "indexa = letters.index('a')\n",
    "print('The index of a:', indexa)\n",
    "indexe = letters.index('e')\n",
    "print('The index of e:', indexe)\n",
    "indexi = letters.index('i')\n",
    "print('The index of i:', indexi)"
   ]
  },
  {
   "cell_type": "code",
   "execution_count": 15,
   "metadata": {},
   "outputs": [
    {
     "name": "stdout",
     "output_type": "stream",
     "text": [
      "Another use of **kwargs:\n",
      "\n",
      "\n",
      "The value of my_name is Rahul\n",
      "The value of your_name is Ratan\n"
     ]
    }
   ],
   "source": [
    "print(\"Another use of **kwargs:\")\n",
    "print(\"\\n\")\n",
    "def print_values(**kwargs):\n",
    "    for key, value in kwargs.items():\n",
    "        print(\"The value of {} is {}\".format(key, value))\n",
    "print_values(my_name=\"Rahul\", your_name=\"Ratan\")"
   ]
  },
  {
   "cell_type": "code",
   "execution_count": 17,
   "metadata": {},
   "outputs": [
    {
     "name": "stdout",
     "output_type": "stream",
     "text": [
      "Program to demonstrate the **kwargs used in function call is as follows:\n",
      "one two three\n"
     ]
    }
   ],
   "source": [
    "print(\"Program to demonstrate the **kwargs used in function call is as follows:\")\n",
    "def func(a, b, c):\n",
    "    print(a, b, c)\n",
    "a = {'a': \"one\", 'b': \"two\", 'c': \"three\" }\n",
    "func(**a)"
   ]
  },
  {
   "cell_type": "code",
   "execution_count": 18,
   "metadata": {},
   "outputs": [
    {
     "name": "stdout",
     "output_type": "stream",
     "text": [
      "Welcome to  Stark Industries\n",
      "Here  Steve  is working on  Mark 4\n",
      "The salary of  Steve  is  9999999\n"
     ]
    }
   ],
   "source": [
    "# define parent class Company\n",
    "class Company:\n",
    "    # constructor\n",
    "    def __init__(self, name, proj):\n",
    "        self.name = name      # name(name of company) is public\n",
    "        self._proj = proj     # proj(current project) is protected\n",
    "    # public function to show the details\n",
    "    def show(self):\n",
    "        print(\"The code of the company is = \",self.ccode)\n",
    "# define child class Emp\n",
    "class Emp(Company):\n",
    "    # constructor\n",
    "    def __init__(self, eName, sal, cName, proj):\n",
    "        # calling parent class constructor\n",
    "        Company.__init__(self, cName, proj)\n",
    "        self.name = eName   # public member variable\n",
    "        self.__sal = sal    # private member variable\n",
    "    # public function to show salary details\n",
    "    def show_sal(self):\n",
    "        print(\"The salary of \",self.name,\" is \",self.__sal,)\n",
    "# creating instance of Company class\n",
    "c = Company(\"Stark Industries\", \"Mark 4\")\n",
    "# creating instance of Employee class\n",
    "e = Emp(\"Steve\", 9999999, c.name, c._proj)\n",
    "print(\"Welcome to \", c.name)\n",
    "print(\"Here \", e.name,\" is working on \",e._proj)\n",
    "# only the instance itself can change the __sal variable\n",
    "# and to show the value we have created a public function show_sal()\n",
    "e.show_sal()"
   ]
  },
  {
   "cell_type": "code",
   "execution_count": 8,
   "metadata": {},
   "outputs": [],
   "source": [
    "import contextlib\n",
    "@contextlib.contextmanager\n",
    "def multicontext(ctxt):\n",
    "    print ('entering contents:', ctxt)\n",
    "    yield ctxt\n",
    "    print('exiting contents:', ctxt)\n",
    "    with contextlib.nested(multicontext('kaashiv'), multicontext('Training'), multicontext('Intitute')) as (X, Y, Z):\n",
    "        print('inside with statement:', X, Y, Z)"
   ]
  },
  {
   "cell_type": "code",
   "execution_count": 23,
   "metadata": {},
   "outputs": [
    {
     "name": "stdout",
     "output_type": "stream",
     "text": [
      "numbers divisbile by 6:\n",
      "120\n",
      "30\n",
      "90\n",
      "180\n",
      "72\n",
      "24\n"
     ]
    }
   ],
   "source": [
    "#                      function to check divisibility by 6\n",
    "def div_six(x):\n",
    "    if x % 6 == 0:\n",
    "        return True\n",
    "    else :\n",
    "        return False\n",
    "num_list = [10, 120, 30, 50, 90, 180, 72, 24, 88, 112]\n",
    "result1 = filter(div_six, num_list)\n",
    "print(\"numbers divisbile by 6:\")\n",
    "for num in result1:\n",
    "    print(num)"
   ]
  },
  {
   "cell_type": "code",
   "execution_count": 41,
   "metadata": {},
   "outputs": [
    {
     "name": "stdout",
     "output_type": "stream",
     "text": [
      "Name                Username\n"
     ]
    }
   ],
   "source": [
    "names = ['john garner',  'karen bag', 'neil amster', 'jason smith', 'richard king', 'david klok'] # empty list which will contain usernames\n",
    "username = [] # defining function for creating username\n",
    "def uname(names):\n",
    "    for i in names:\n",
    "        full_name=i.split()  # split the name on occurrence of whitespace chars\n",
    "        fname = full_name[0]\n",
    "        lname = full_name[1] # concatenating first 3 chars of first name with first 3 chars of last name to create username\n",
    "    uname = fname[:3]+lname[:3]     # extracting substrings from fname and lname\n",
    "    username.append(uname)\n",
    "# calling function uname() taking list “names” as input argument\n",
    "    uname(names)\n",
    "# printing name of the user along with username\n",
    "print(\"Name                Username\")\n",
    "for name,uname in zip(names, username):\n",
    "    print(name, '------->', uname)"
   ]
  },
  {
   "cell_type": "code",
   "execution_count": 48,
   "metadata": {},
   "outputs": [
    {
     "name": "stdout",
     "output_type": "stream",
     "text": [
      "0\n",
      "0\n",
      "0\n"
     ]
    }
   ],
   "source": [
    "def yield_func(l):\n",
    "    total = 0\n",
    "    for n in l:\n",
    "        yield total\n",
    "    total += n\n",
    "new_lst = yield_func([10,20,30])\n",
    "print(next(new_lst))\n",
    "print(next(new_lst))\n",
    "print(next(new_lst))"
   ]
  },
  {
   "cell_type": "code",
   "execution_count": 50,
   "metadata": {},
   "outputs": [
    {
     "name": "stdout",
     "output_type": "stream",
     "text": [
      "Input List =  [120, 20, 42, 212, 802, 139, 175, 802, 468]\n",
      "Maximum Value in the List =  139\n"
     ]
    }
   ],
   "source": [
    "def sum_digits(num):\n",
    "    sum = 0\n",
    "    while(num > 0):\n",
    "        rem = num % 10\n",
    "        sum = sum + rem\n",
    "        num = num\n",
    "        return sum\n",
    "# Input --> list of positive integers\n",
    "inp = [120, 20, 42, 212, 802, 139, 175, 802, 468]\n",
    "print(\"Input List = \", inp)\n",
    "print(\"Maximum Value in the List = \", max(inp, key = sum_digits))"
   ]
  },
  {
   "cell_type": "code",
   "execution_count": 51,
   "metadata": {},
   "outputs": [
    {
     "name": "stdout",
     "output_type": "stream",
     "text": [
      "Namespace(x=True, y='val', z=3)\n"
     ]
    }
   ],
   "source": [
    "import argparse\n",
    "parser = argparse.ArgumentParser(description='Understand functioning')\n",
    "parser.add_argument('-x', action=\"store_true\", default=False)\n",
    "parser.add_argument('-y', action=\"store\", dest=\"y\")\n",
    "parser.add_argument('-z', action=\"store\", dest=\"z\", type=int)\n",
    "print (parser.parse_args(['-x', '-yval', '-z', '3']))"
   ]
  },
  {
   "cell_type": "code",
   "execution_count": 53,
   "metadata": {},
   "outputs": [
    {
     "name": "stdout",
     "output_type": "stream",
     "text": [
      "<--------------Pickling----------------->\n",
      "dictionary to be stored:\n",
      "{1: 'monday', 2: 'tuesday', 3: 'wednesday', 4: 'thursday', 5: 'friday', 6: 'saturday', 7: 'sunday'}\n",
      "\n",
      "\n",
      "<---------------Un-pickling-------------->\n",
      "displaying dictionary data\n",
      "1 --> monday\n",
      "2 --> tuesday\n",
      "3 --> wednesday\n",
      "4 --> thursday\n",
      "5 --> friday\n",
      "6 --> saturday\n",
      "7 --> sunday\n"
     ]
    }
   ],
   "source": [
    "import pickle\n",
    "dictionary = {1: 'monday', 2: 'tuesday', 3: 'wednesday', 4: 'thursday', 5: 'friday', 6: 'saturday', 7: 'sunday'}\n",
    "print('<--------------Pickling----------------->')\n",
    "# open a file where to store dictionary\n",
    "print(\"dictionary to be stored:\")\n",
    "print(dictionary)\n",
    "file = open('dictionary.pkl', 'wb')\n",
    "pickle.dump(dictionary, file) # storing dictionary into file\n",
    "# closing file\n",
    "file.close()\n",
    "print('\\n')\n",
    "print('<---------------Un-pickling-------------->')\n",
    "fileo = open('dictionary.pkl', 'rb')\n",
    "dicto = pickle.load(fileo)\n",
    "fileo.close()\n",
    "print(\"displaying dictionary data\")\n",
    "for key, item in dicto.items():\n",
    "    print(key, '-->', item)"
   ]
  },
  {
   "cell_type": "code",
   "execution_count": 56,
   "metadata": {},
   "outputs": [
    {
     "name": "stdout",
     "output_type": "stream",
     "text": [
      "<zip object at 0x7fedb86ed380>\n",
      "numList =  (1558, 1884, 1111)\n",
      "strlist =  ('one', 'two', 'three')\n"
     ]
    }
   ],
   "source": [
    "numList = [1558, 1884, 1111]\n",
    "strList = ['one', 'two', 'three']\n",
    "A_output = zip(numList, strList)\n",
    "print(A_output)\n",
    "a, b = zip(*A_output )\n",
    "print('numList = ', a)\n",
    "print('strlist = ', b)"
   ]
  },
  {
   "cell_type": "code",
   "execution_count": 57,
   "metadata": {},
   "outputs": [
    {
     "name": "stdout",
     "output_type": "stream",
     "text": [
      "This is Base class\n"
     ]
    }
   ],
   "source": [
    "class ParentClass(object):\n",
    "    def __init__(self):\n",
    "        print(\"This is Base class\")\n",
    "        pass\n",
    "class ChildClass(ParentClass):\n",
    "    def __init__(self):\n",
    "        ParentClass.__init__(self)\n",
    "c1 = ChildClass()"
   ]
  },
  {
   "cell_type": "code",
   "execution_count": 65,
   "metadata": {},
   "outputs": [
    {
     "name": "stdout",
     "output_type": "stream",
     "text": [
      "The constant value is: 1\n",
      "The Variable:  2020\n",
      "I'm inside class \n"
     ]
    }
   ],
   "source": [
    "class ClassName: #Class naming rule\n",
    "    C = 1 #Constat naming rule\n",
    "    the_variable = 2020; # variable naming rule\n",
    "    print(\"The constant value is:\", C)\n",
    "    def the_method(self): # method naming rule\n",
    "        print(\"I'm inside class \")\n",
    "    def insideclass(self):\n",
    "        print(\"The Variable: \",ClassName.the_variable)\n",
    "        self.the_method()\n",
    "n = ClassName()\n",
    "n.insideclass()"
   ]
  },
  {
   "cell_type": "code",
   "execution_count": 3,
   "metadata": {},
   "outputs": [],
   "source": [
    "class power_two:\n",
    "    def _init_(self, max = 0 ):\n",
    "        self. max = max\n",
    "    def _iter_(self):\n",
    "        self.n = 0\n",
    "        return self\n",
    "    def _next_(self):\n",
    "        if self.n > self. max:\n",
    "            raise StopIteration\n",
    "        result = 2 ** self.n\n",
    "        self.n+=1\n",
    "        return result\n",
    "    def power_two(max = 0 ):\n",
    "        n = 0\n",
    "        while n < max:\n",
    "            yield 2 ** n\n",
    "        n+=1"
   ]
  },
  {
   "cell_type": "code",
   "execution_count": 25,
   "metadata": {},
   "outputs": [],
   "source": [
    "def infinite_palindromes():\n",
    "    num = 0\n",
    "    while True:\n",
    "        if is_palindrome(num):\n",
    "            i = (yield num)\n",
    "        if i is not None:\n",
    "            num = i\n",
    "            num += 1\n",
    "def is_palindrome(num):\n",
    "# Skip single-digit inputs\n",
    "    if num // 10 == 0:\n",
    "        return False\n",
    "    temp = num\n",
    "    reversed_num = 0\n",
    "    while temp != 0:\n",
    "        reversed_num = (reversed_num * 10) + (temp % 10)\n",
    "        temp = temp // 10\n",
    "    if num == reversed_num:\n",
    "        return True\n",
    "    else:\n",
    "        return False\n",
    "    pal_gen = infinite_palindromes()\n",
    "    for i in pal_gen:\n",
    "        print(i)\n",
    "        digits = len(str(i))\n",
    "        if digits == 5:\n",
    "            pal_gen.throw(ValueError(\"We don't like large palindromes\"))\n",
    "        pal_gen.send(10 ** (digits))"
   ]
  },
  {
   "cell_type": "code",
   "execution_count": 26,
   "metadata": {},
   "outputs": [
    {
     "ename": "SyntaxError",
     "evalue": "invalid character in identifier (<ipython-input-26-d7d9fd5be980>, line 1)",
     "output_type": "error",
     "traceback": [
      "\u001b[0;36m  File \u001b[0;32m\"<ipython-input-26-d7d9fd5be980>\"\u001b[0;36m, line \u001b[0;32m1\u001b[0m\n\u001b[0;31m    def csv_reader(“article.txt”):\u001b[0m\n\u001b[0m                          ^\u001b[0m\n\u001b[0;31mSyntaxError\u001b[0m\u001b[0;31m:\u001b[0m invalid character in identifier\n"
     ]
    }
   ],
   "source": [
    "def csv_reader(“article.txt”):\n",
    "    for row in open(“article.txt”,”r”):\n",
    "        yield row\n",
    "generator_csv = csv_reader(“article.txt”)\n",
    "count_rows = 0\n",
    "for rows in generator_csv:\n",
    "    count_rows+= 1\n",
    "    print(“Count of number of rows”, count_rows)"
   ]
  },
  {
   "cell_type": "code",
   "execution_count": 32,
   "metadata": {},
   "outputs": [
    {
     "name": "stdout",
     "output_type": "stream",
     "text": [
      "Number: 10\n",
      "Cube value is: 1000\n"
     ]
    }
   ],
   "source": [
    "class cubeDecorator:\n",
    "    def __init__(self, function):\n",
    "        self.function = function\n",
    "    def __call__(self, *args, **kwargs):\n",
    "        result = self.function(*args, **kwargs)\n",
    "        return result\n",
    "# implementing class decorator to the function\n",
    "@cubeDecorator\n",
    "def get_cube(n):\n",
    "    print(\"Number:\", n)\n",
    "    return n **3\n",
    "print(\"Cube value is:\", get_cube(10))"
   ]
  },
  {
   "cell_type": "code",
   "execution_count": 44,
   "metadata": {},
   "outputs": [],
   "source": [
    "class ErrorCheck:\n",
    "    def __init__(self, function):\n",
    "        self.function = function\n",
    "    def __call__(self, *params):\n",
    "        if any([isinstance(i, str) for i in params]):\n",
    "            raise TypeError(\"Input cannot be a string\")\n",
    "        else:\n",
    "            return self.function(*params)\n",
    "@ErrorCheck\n",
    "def area_rectangle(l, b):\n",
    "    print(l * b)\n",
    "    print(area_rectangle(12, 3))\n",
    "    print(area_rectangle('12', '3'))"
   ]
  },
  {
   "cell_type": "code",
   "execution_count": 45,
   "metadata": {},
   "outputs": [
    {
     "ename": "FileNotFoundError",
     "evalue": "[Errno 2] No such file or directory: '--ip=127.0.0.1'",
     "output_type": "error",
     "traceback": [
      "\u001b[0;31m---------------------------------------------------------------------------\u001b[0m",
      "\u001b[0;31mFileNotFoundError\u001b[0m                         Traceback (most recent call last)",
      "\u001b[0;32m<ipython-input-45-761d50776b25>\u001b[0m in \u001b[0;36m<module>\u001b[0;34m\u001b[0m\n\u001b[1;32m      4\u001b[0m \u001b[0;31m# Sys.argv is the argument taking the file name while executing the script and 1 indicates the argument number\u001b[0m\u001b[0;34m\u001b[0m\u001b[0;34m\u001b[0m\u001b[0;34m\u001b[0m\u001b[0m\n\u001b[1;32m      5\u001b[0m \u001b[0msourcefile\u001b[0m \u001b[0;34m=\u001b[0m \u001b[0msys\u001b[0m\u001b[0;34m.\u001b[0m\u001b[0margv\u001b[0m\u001b[0;34m[\u001b[0m\u001b[0;36m1\u001b[0m\u001b[0;34m]\u001b[0m \u001b[0;31m#the file is opened in binary mode to read using open function\u001b[0m\u001b[0;34m\u001b[0m\u001b[0;34m\u001b[0m\u001b[0m\n\u001b[0;32m----> 6\u001b[0;31m \u001b[0;32mwith\u001b[0m \u001b[0mopen\u001b[0m\u001b[0;34m(\u001b[0m\u001b[0msourcefile\u001b[0m\u001b[0;34m,\u001b[0m \u001b[0;34m'rb'\u001b[0m\u001b[0;34m)\u001b[0m \u001b[0;32mas\u001b[0m \u001b[0mfile\u001b[0m\u001b[0;34m:\u001b[0m\u001b[0;34m\u001b[0m\u001b[0;34m\u001b[0m\u001b[0m\n\u001b[0m\u001b[1;32m      7\u001b[0m \u001b[0;31m#   file descriptor is obtained by making using of FileIO which is used to identify the file that is opened\u001b[0m\u001b[0;34m\u001b[0m\u001b[0;34m\u001b[0m\u001b[0;34m\u001b[0m\u001b[0m\n\u001b[1;32m      8\u001b[0m     \u001b[0mfi\u001b[0m  \u001b[0;34m=\u001b[0m \u001b[0mio\u001b[0m\u001b[0;34m.\u001b[0m\u001b[0mFileIO\u001b[0m\u001b[0;34m(\u001b[0m\u001b[0mfile\u001b[0m\u001b[0;34m.\u001b[0m\u001b[0mfileno\u001b[0m\u001b[0;34m(\u001b[0m\u001b[0;34m)\u001b[0m\u001b[0;34m)\u001b[0m\u001b[0;34m\u001b[0m\u001b[0;34m\u001b[0m\u001b[0m\n",
      "\u001b[0;31mFileNotFoundError\u001b[0m: [Errno 2] No such file or directory: '--ip=127.0.0.1'"
     ]
    }
   ],
   "source": [
    "import sys\n",
    "import io\n",
    "# a variable sourcefile is used to store the argument that is passed while running the script.\n",
    "# Sys.argv is the argument taking the file name while executing the script and 1 indicates the argument number \n",
    "sourcefile = sys.argv[1] #the file is opened in binary mode to read using open function\n",
    "with open(sourcefile, 'rb') as file:\n",
    "#   file descriptor is obtained by making using of FileIO which is used to identify the file that is opened\n",
    "    fi  = io.FileIO(file.fileno())\n",
    "#   Buffered reader is then used to read the contents of the file\n",
    "    fb = io.BufferedReader(fi)\n",
    "#the contents of the file is printed\n",
    "    print (fb.read(20))"
   ]
  },
  {
   "cell_type": "code",
   "execution_count": 46,
   "metadata": {},
   "outputs": [
    {
     "name": "stdout",
     "output_type": "stream",
     "text": [
      "Program to demonstrate sys.exit() function\n"
     ]
    },
    {
     "ename": "SystemExit",
     "evalue": "Numerical limit less than 18",
     "output_type": "error",
     "traceback": [
      "An exception has occurred, use %tb to see the full traceback.\n",
      "\u001b[0;31mSystemExit\u001b[0m\u001b[0;31m:\u001b[0m Numerical limit less than 18\n"
     ]
    },
    {
     "name": "stderr",
     "output_type": "stream",
     "text": [
      "/opt/anaconda/lib/python3.8/site-packages/IPython/core/interactiveshell.py:3445: UserWarning: To exit: use 'exit', 'quit', or Ctrl-D.\n",
      "  warn(\"To exit: use 'exit', 'quit', or Ctrl-D.\", stacklevel=1)\n"
     ]
    }
   ],
   "source": [
    "print(\"Program to demonstrate sys.exit() function\")\n",
    "limit = 15\n",
    "if limit < 18:\n",
    "    sys.exit(\"Numerical limit less than 18\")\n",
    "else:\n",
    "    print(\"Numerical limit is not less than 18\")"
   ]
  },
  {
   "cell_type": "code",
   "execution_count": 52,
   "metadata": {},
   "outputs": [],
   "source": [
    "import asyncio\n",
    "import functools\n",
    "def event_handler(loop, stop=False):\n",
    "    print('Calling event handler')\n",
    "    if stop:\n",
    "        print('Loop is being stopped')\n",
    "        loop.stop()\n",
    "    if __name__ == '__main__':\n",
    "        loop = asyncio.get_event_loop()\n",
    "    try:\n",
    "        loop.call_soon(functools.partial(event_handler, loop))\n",
    "        print('Loop is being started')\n",
    "        loop.call_soon(functools.partial(event_handler, loop, stop=True))\n",
    "        loop.run_forever()\n",
    "    finally:\n",
    "        print('Loop is being closed')\n",
    "        loop.close()"
   ]
  },
  {
   "cell_type": "code",
   "execution_count": 55,
   "metadata": {},
   "outputs": [
    {
     "name": "stderr",
     "output_type": "stream",
     "text": [
      "<ipython-input-55-571434fc955f>:3: DeprecationWarning: \"@coroutine\" decorator is deprecated since Python 3.8, use \"async def\" instead\n",
      "  def countdown(number, n):\n"
     ]
    },
    {
     "ename": "RuntimeError",
     "evalue": "This event loop is already running",
     "output_type": "error",
     "traceback": [
      "\u001b[0;31m---------------------------------------------------------------------------\u001b[0m",
      "\u001b[0;31mRuntimeError\u001b[0m                              Traceback (most recent call last)",
      "\u001b[0;32m<ipython-input-55-571434fc955f>\u001b[0m in \u001b[0;36m<module>\u001b[0;34m\u001b[0m\n\u001b[1;32m     10\u001b[0m     \u001b[0masyncio\u001b[0m\u001b[0;34m.\u001b[0m\u001b[0mensure_future\u001b[0m\u001b[0;34m(\u001b[0m\u001b[0mcountdown\u001b[0m\u001b[0;34m(\u001b[0m\u001b[0;34m\"First Count\"\u001b[0m\u001b[0;34m,\u001b[0m \u001b[0;36m2\u001b[0m\u001b[0;34m)\u001b[0m\u001b[0;34m)\u001b[0m\u001b[0;34m,\u001b[0m\u001b[0;34m\u001b[0m\u001b[0;34m\u001b[0m\u001b[0m\n\u001b[1;32m     11\u001b[0m     asyncio.ensure_future(countdown(\"Second Count\", 4))]\n\u001b[0;32m---> 12\u001b[0;31m \u001b[0mloop\u001b[0m\u001b[0;34m.\u001b[0m\u001b[0mrun_until_complete\u001b[0m\u001b[0;34m(\u001b[0m\u001b[0masyncio\u001b[0m\u001b[0;34m.\u001b[0m\u001b[0mwait\u001b[0m\u001b[0;34m(\u001b[0m\u001b[0mtasks\u001b[0m\u001b[0;34m)\u001b[0m\u001b[0;34m)\u001b[0m\u001b[0;34m\u001b[0m\u001b[0;34m\u001b[0m\u001b[0m\n\u001b[0m\u001b[1;32m     13\u001b[0m \u001b[0mloop\u001b[0m\u001b[0;34m.\u001b[0m\u001b[0mclose\u001b[0m\u001b[0;34m(\u001b[0m\u001b[0;34m)\u001b[0m\u001b[0;34m\u001b[0m\u001b[0;34m\u001b[0m\u001b[0m\n",
      "\u001b[0;32m/opt/anaconda/lib/python3.8/asyncio/base_events.py\u001b[0m in \u001b[0;36mrun_until_complete\u001b[0;34m(self, future)\u001b[0m\n\u001b[1;32m    590\u001b[0m         \"\"\"\n\u001b[1;32m    591\u001b[0m         \u001b[0mself\u001b[0m\u001b[0;34m.\u001b[0m\u001b[0m_check_closed\u001b[0m\u001b[0;34m(\u001b[0m\u001b[0;34m)\u001b[0m\u001b[0;34m\u001b[0m\u001b[0;34m\u001b[0m\u001b[0m\n\u001b[0;32m--> 592\u001b[0;31m         \u001b[0mself\u001b[0m\u001b[0;34m.\u001b[0m\u001b[0m_check_running\u001b[0m\u001b[0;34m(\u001b[0m\u001b[0;34m)\u001b[0m\u001b[0;34m\u001b[0m\u001b[0;34m\u001b[0m\u001b[0m\n\u001b[0m\u001b[1;32m    593\u001b[0m \u001b[0;34m\u001b[0m\u001b[0m\n\u001b[1;32m    594\u001b[0m         \u001b[0mnew_task\u001b[0m \u001b[0;34m=\u001b[0m \u001b[0;32mnot\u001b[0m \u001b[0mfutures\u001b[0m\u001b[0;34m.\u001b[0m\u001b[0misfuture\u001b[0m\u001b[0;34m(\u001b[0m\u001b[0mfuture\u001b[0m\u001b[0;34m)\u001b[0m\u001b[0;34m\u001b[0m\u001b[0;34m\u001b[0m\u001b[0m\n",
      "\u001b[0;32m/opt/anaconda/lib/python3.8/asyncio/base_events.py\u001b[0m in \u001b[0;36m_check_running\u001b[0;34m(self)\u001b[0m\n\u001b[1;32m    550\u001b[0m     \u001b[0;32mdef\u001b[0m \u001b[0m_check_running\u001b[0m\u001b[0;34m(\u001b[0m\u001b[0mself\u001b[0m\u001b[0;34m)\u001b[0m\u001b[0;34m:\u001b[0m\u001b[0;34m\u001b[0m\u001b[0;34m\u001b[0m\u001b[0m\n\u001b[1;32m    551\u001b[0m         \u001b[0;32mif\u001b[0m \u001b[0mself\u001b[0m\u001b[0;34m.\u001b[0m\u001b[0mis_running\u001b[0m\u001b[0;34m(\u001b[0m\u001b[0;34m)\u001b[0m\u001b[0;34m:\u001b[0m\u001b[0;34m\u001b[0m\u001b[0;34m\u001b[0m\u001b[0m\n\u001b[0;32m--> 552\u001b[0;31m             \u001b[0;32mraise\u001b[0m \u001b[0mRuntimeError\u001b[0m\u001b[0;34m(\u001b[0m\u001b[0;34m'This event loop is already running'\u001b[0m\u001b[0;34m)\u001b[0m\u001b[0;34m\u001b[0m\u001b[0;34m\u001b[0m\u001b[0m\n\u001b[0m\u001b[1;32m    553\u001b[0m         \u001b[0;32mif\u001b[0m \u001b[0mevents\u001b[0m\u001b[0;34m.\u001b[0m\u001b[0m_get_running_loop\u001b[0m\u001b[0;34m(\u001b[0m\u001b[0;34m)\u001b[0m \u001b[0;32mis\u001b[0m \u001b[0;32mnot\u001b[0m \u001b[0;32mNone\u001b[0m\u001b[0;34m:\u001b[0m\u001b[0;34m\u001b[0m\u001b[0;34m\u001b[0m\u001b[0m\n\u001b[1;32m    554\u001b[0m             raise RuntimeError(\n",
      "\u001b[0;31mRuntimeError\u001b[0m: This event loop is already running"
     ]
    },
    {
     "name": "stdout",
     "output_type": "stream",
     "text": [
      "Counter of  2 (First Count)\n",
      "Counter of  4 (Second Count)\n",
      "Counter of  1 (First Count)\n",
      "Counter of  3 (Second Count)\n",
      "Counter of  2 (Second Count)\n",
      "Counter of  1 (Second Count)\n"
     ]
    }
   ],
   "source": [
    "import asyncio\n",
    "@asyncio.coroutine\n",
    "def countdown(number, n):\n",
    "    while n > 0:\n",
    "        print('Counter of ', n, '({})'.format(number))\n",
    "        yield from asyncio.sleep(1)\n",
    "        n -= 1\n",
    "loop = asyncio.get_event_loop()\n",
    "tasks = [\n",
    "    asyncio.ensure_future(countdown(\"First Count\", 2)),\n",
    "    asyncio.ensure_future(countdown(\"Second Count\", 4))]\n",
    "loop.run_until_complete(asyncio.wait(tasks))\n",
    "loop.close()"
   ]
  },
  {
   "cell_type": "code",
   "execution_count": 57,
   "metadata": {},
   "outputs": [
    {
     "data": {
      "text/plain": [
       "['NIGHT RIFLEMEN',\n",
       " 'JUNGLE SCOUTS',\n",
       " 'THE DRAGOONS',\n",
       " 'MIDNIGHT REVENGENCE',\n",
       " 'WILY WARRIORS']"
      ]
     },
     "execution_count": 57,
     "metadata": {},
     "output_type": "execute_result"
    }
   ],
   "source": [
    "# create a variable for the for loop results\n",
    "regimentNames = ['Night Riflemen', 'Jungle Scouts', 'The Dragoons', 'Midnight Revengence', 'Wily Warriors']\n",
    "regimentNamesCapitalized_f = []\n",
    "\n",
    "# for every item in regimentNames\n",
    "for i in regimentNames:\n",
    "    # capitalize the item and add it to regimentNamesCapitalized_f\n",
    "    regimentNamesCapitalized_f.append(i.upper())\n",
    "\n",
    "# View the outcome\n",
    "regimentNamesCapitalized_f"
   ]
  },
  {
   "cell_type": "code",
   "execution_count": 4,
   "metadata": {},
   "outputs": [
    {
     "ename": "SyntaxError",
     "evalue": "invalid syntax (<ipython-input-4-c0a99e14d095>, line 211)",
     "output_type": "error",
     "traceback": [
      "\u001b[0;36m  File \u001b[0;32m\"<ipython-input-4-c0a99e14d095>\"\u001b[0;36m, line \u001b[0;32m211\u001b[0m\n\u001b[0;31m    \"Company\", \"ChemicalComp\", \"ManuDate\" ,\"ExpDate\", \"Costfor10″), height=200, selectmode = \"extended\")\u001b[0m\n\u001b[0m                                                                                              ^\u001b[0m\n\u001b[0;31mSyntaxError\u001b[0m\u001b[0;31m:\u001b[0m invalid syntax\n"
     ]
    }
   ],
   "source": [
    "import tkinter\n",
    "from tkinter import *\n",
    "import tkinter.messagebox as msg # to display message box\n",
    "import sqlite3 #                to store data\n",
    "root = Tk()\n",
    "root.geometry(700*450+300+100)\n",
    "regimage = PhotoImage(file = \"AddMedicine.png\");\n",
    "bg_Label = Label(root,image = regimage)\n",
    "bg_Label.place(x=0,y=0,relwidth=1,relheight=1)\n",
    "root.title(\"Add Medicine Page-Medicine Management System\")\n",
    "root.config\n",
    "#                                      Lets create the table for medicine\n",
    "conn = sqlite3.connect(\"medicine.db\")\n",
    "cursor = conn.cursor()\n",
    "cursor.execute(\"create table if not exists 'medicine'(MedicineID int, MedicineName text,Company text, ChemicalComp text,ManuDate text,ExpDate text, Costfor10 text)\")\n",
    "conn.commit()\n",
    "#             Declare variables for the columns to access\n",
    "MedicineName = StringVar()\n",
    "MedicineID = IntVar()\n",
    "Company= StringVar()\n",
    "ChemicalComp= StringVar()\n",
    "ManuDate= StringVar()\n",
    "ExpDate= StringVar()\n",
    "Costfor10= StringVar()\n",
    "MedicineName.set(\"\")\n",
    "MedicineID.set(\"\")\n",
    "Company.set(\"\")\n",
    "ChemicalComp.set(\"\")\n",
    "ManuDate.set(\"\")\n",
    "ExpDate.set(\"\")\n",
    "Costfor10.set(\"\")\n",
    "############## Lets write functions for the button ############\n",
    "def addmedicine():\n",
    "    conn = sqlite3.connect('medicine.db')\n",
    "    cursor = conn.cursor()\n",
    "    cursor.execute(\"insert into 'medicine'(MedicineName,MedicineID,Company,ChemicalComp,ManuDate,ExpDate,Costfor10) values(?,?,?,?,?,?,?)\",(str(MedicineName.get()),str(MedicineID.get()),str(Company.get()),str(ChemicalComp.get()),str(ManuDate.get()),str(ExpDate.get()),str(Costfor10.get())))\n",
    "    conn.commit()\n",
    "    print(cursor.rowcount)\n",
    "if cursor.rowcount >0:\n",
    "    msg.showinfo(\"Confirmation Message\",\"Medicine Added Successfully\",icon=\"info\")\n",
    "else:\n",
    "    msg.showinfo(\"Error Message\",\"medicine not Added\",icon=\"warning\")\n",
    "\n",
    "def cancel():\n",
    "    root.destroy()\n",
    "\n",
    "def back():\n",
    "    root.destroy()\n",
    "##################Top Frame ###########\n",
    "TopHeadingFrame = Frame(root,width=600,bd=1)\n",
    "TopHeadingFrame.pack(side=TOP)\n",
    "\n",
    "HeadingLabel = Label(TopHeadingFrame,text=\"Add Medicine\",font=(\"Helvetica\",16),fg=\"brown\", bg=\"white\")\n",
    "HeadingLabel.grid(row=0,column=1,padx=10,pady=10)\n",
    "\n",
    "MidFrame = Frame(root,width=600)\n",
    "MidFrame.pack(side=TOP)\n",
    "\n",
    "MedicineNameLabel = Label(MidFrame,text=\"Medicine Name\", font=(\"Helvetica\",10),fg=\"brown\", bg=\"white\")\n",
    "MedicineNameLabel.grid(row=1,padx=10,pady=10)\n",
    "\n",
    "MedicineIDLabel = Label(MidFrame,text=\"Medicine ID\", font=(\"Helvetica\",10),fg=\"brown\", bg=\"white\")\n",
    "MedicineIDLabel.grid(row=2,padx=10,pady=10)\n",
    "\n",
    "CompanyLabel = Label(MidFrame,text=\"Company\",\n",
    "font=(\"Helvetica\",10),fg=\"brown\", bg=\"white\")\n",
    "CompanyLabel.grid(row=3,padx=10,pady=10)\n",
    "\n",
    "ChemicalCompLabel = Label(MidFrame,text=\"Chemical Composition\",\n",
    "font=(\"Helvetica\",10),fg=\"brown\", bg=\"white\")\n",
    "ChemicalCompLabel.grid(row=4,padx=10,pady=10)\n",
    "\n",
    "ManuDateLabel = Label(MidFrame,text=\"Manufacturing Date\",\n",
    "font=(\"Helvetica\",10),fg=\"brown\", bg=\"white\")\n",
    "ManuDateLabel.grid(row=5,padx=10,pady=10)\n",
    "\n",
    "ExpDateLabel = Label(MidFrame,text=\"Expiry Date\",\n",
    "font=(\"Helvetica\",10),fg=\"brown\", bg=\"white\")\n",
    "ExpDateLabel.grid(row=6,padx=10,pady=10)\n",
    "\n",
    "Costfor10Label = Label(MidFrame,text=\"Cost for 10\",\n",
    "font=(\"Helvetica\",10),fg=\"brown\", bg=\"white\")\n",
    "Costfor10Label.grid(row=7,padx=10,pady=10)\n",
    "\n",
    "MedicineNameTextbox = Entry(MidFrame,textvariable=MedicineName,\n",
    "font=(\"Helvetica\",10))\n",
    "MedicineNameTextbox.grid(row=1,column=1,padx=10,pady=10)\n",
    "\n",
    "MedicineIDTextbox = Entry(MidFrame,textvariable=MedicineID,\n",
    "font=(\"Helvetica\",10))\n",
    "MedicineIDTextbox.grid(row=2,column=1,padx=10,pady=10)\n",
    "\n",
    "CompanyTextbox = Entry(MidFrame,textvariable=Company,\n",
    "font=(\"Helvetica\",10))\n",
    "CompanyTextbox.grid(row=3,column=1,padx=10,pady=10)\n",
    "\n",
    "ChemicalCompTextbox = Entry(MidFrame,textvariable=ChemicalComp,\n",
    "font=(\"Helvetica\",10))\n",
    "ChemicalCompTextbox.grid(row=4,column=1,padx=10,pady=10)\n",
    "\n",
    "ManuDateTextbox = Entry(MidFrame,textvariable=ManuDate,\n",
    "font=(\"Helvetica\",10))\n",
    "ManuDateTextbox.grid(row=5,column=1,padx=10,pady=10)\n",
    "\n",
    "ExpDateTextbox = Entry(MidFrame,textvariable=ExpDate,\n",
    "font=(\"Helvetica\",10))\n",
    "ExpDateTextbox.grid(row=6,column=1,padx=10,pady=10)\n",
    "\n",
    "Costfor10Textbox = Entry(MidFrame,textvariable=Costfor10,\n",
    "font=(\"Helvetica\",10))\n",
    "Costfor10Textbox.grid(row=7,column=1,padx=10,pady=10)\n",
    "\n",
    "RegisterButton = Button(MidFrame,text=\"Register\", command=addmedicine,\n",
    "font=(\"Helvetica\",10))\n",
    "RegisterButton.grid(row=8,column=0,padx=10,pady=10)\n",
    "\n",
    "CancelButton = Button(MidFrame,text=\"Cancel\", command=cancel,\n",
    "font=(\"Helvetica\",10))\n",
    "CancelButton.grid(row=8,column=1,padx=10,pady=10)\n",
    "\n",
    "BackButton = Button(MidFrame,text=\"Back\", command = back,\n",
    "font=(\"Helvetica\",10))\n",
    "BackButton.grid(row=10,column=0,padx=10,pady=10)\n",
    "\n",
    "#                                                                Delete Medicine\n",
    "from tkinter import * #import tkinter library\n",
    "import tkinter.messagebox as msg # to display message box\n",
    "import sqlite3 #to store data\n",
    "import tkinter.ttk as ttk\n",
    "\n",
    "root = Tk()\n",
    "root.geometry(\"700*450+300+100\") #width height xoffset #yoffset\n",
    "regimage = PhotoImage(file = \"DeleteMedicine.png\");\n",
    "bg_Label = Label(root,image = regimage)\n",
    "bg_Label.place(x=0,y=0,relwidth=1,relheight=1)\n",
    "root.title(\"Delete Medicine Page - Medicine Management System\")\n",
    "root.config\n",
    "##################Top Frame ###########\n",
    "TopHeadingFrame = Frame(root,width=600,bd=1)\n",
    "TopHeadingFrame.pack(side=TOP)\n",
    "\n",
    "HeadingLabel = Label(TopHeadingFrame,text=\"Delete Medicine\",\n",
    "font=(\"Helvetica\",16),fg=\"brown\", bg=\"white\")\n",
    "HeadingLabel.grid(row=0,column=1,padx=10,pady=10)\n",
    "###################Declare variables for the columns to access######3\n",
    "MedicineName = StringVar()\n",
    "MedicineName.set(\"\")\n",
    "\n",
    "MidFrame = Frame(root,width=600)\n",
    "MidFrame.pack(side=TOP)\n",
    "##########\n",
    "MedicineNameLabel = Label(MidFrame,text=\"Medicine Name\",\n",
    "font=(\"Helvetica\",10),fg=\"brown\", bg=\"white\")\n",
    "MedicineNameLabel.grid(row=1,padx=10,pady=10)\n",
    "\n",
    "##########\n",
    "MedicineNameTextbox = Entry(MidFrame,textvariable=MedicineName,\n",
    "font=(\"Helvetica\",10))\n",
    "MedicineNameTextbox.grid(row=1,column=1,padx=10,pady=10)\n",
    "##########\n",
    "\n",
    "##########\n",
    "def back():\n",
    "    root.destroy()\n",
    "\n",
    "\n",
    "def View():\n",
    "    for i in treeview.get_children() :\n",
    "        treeview.delete(i)\n",
    "conn = sqlite3.connect(\"medicine.db\")\n",
    "cursor = conn.cursor()\n",
    "cursor.execute(\"select * from 'medicine'\")\n",
    "dataselect = cursor.fetchall()\n",
    "### insert in the parent container and append it in the end\n",
    "for data in dataselect:\n",
    "    treeview.insert(\",'end',value=(data)\")\n",
    "cursor.close()\n",
    "conn.commit()\n",
    "\n",
    "def Delete():\n",
    "    for i in treeview.get_children() :\n",
    "        treeview.delete(i)\n",
    "conn = sqlite3.connect(\"medicine.db\")\n",
    "cursor = conn.cursor()\n",
    "medname = str(MedicineName.get())\n",
    "cursor.execute(\"delete from 'medicine' where MedicineName=?\",(medname,))\n",
    "print(cursor.rowcount)\n",
    "if cursor.rowcount >0:\n",
    "    msg.showinfo(\"Confirm Message\",\"Medicine deletion success\",icon=\"info\")\n",
    "else:\n",
    "    msg.showinfo(\"Error Message\",\"medicine couldn't be deleted\",icon=\"warning\")\n",
    "cursor.close()\n",
    "conn.commit()\n",
    "##########\n",
    "DeleteButton = Button(MidFrame,text=\"Delete Med\", command = Delete,\n",
    "font=(\"Helvetica\",10))\n",
    "DeleteButton.grid(row=1,column=2,padx=10,pady=10)\n",
    "##########\n",
    "ViewButton = Button(MidFrame,text=\"View\", command = View,\n",
    "font=(\"Helvetica\",10))\n",
    "ViewButton.grid(row=1,column=3,padx=10,pady=10)\n",
    "##########\n",
    "BackButton = Button(MidFrame,text=\"Back\", command = back,\n",
    "font=(\"Helvetica\",10))\n",
    "BackButton.grid(row=1,column=4,padx=10,pady=10)\n",
    "##########\n",
    "ViewFrame = Frame(root,width=400)\n",
    "ViewFrame.pack(side=TOP)\n",
    "#################create a treeview in ViewFrame #######\n",
    "treeview = ttk.Treeview(ViewFrame, columns = (\"MedicineID\", \"MedicineName\",\n",
    " \"Company\", \"ChemicalComp\", \"ManuDate\" ,\"ExpDate\", \"Costfor10″), height=200, selectmode = \"extended\")\n",
    "treeview.heading(“MedicineID\" , text=\"MedicineID\" , anchor =\"w\")\n",
    "treeview.heading(“MedicineName\" , text=\"MedicineName\" , anchor =\"w\")\n",
    "treeview.heading(“Company\" , text=\"Company\" , anchor =\"w\")\n",
    "treeview.heading(“ChemicalComp\" , text=\"ChemicalComp\" , anchor =\"w\")\n",
    "treeview.heading(“ManuDate\" , text=\"ManuDate\" , anchor =\"w\")\n",
    "treeview.heading(“ExpDate\" , text=\"ExpDate\" , anchor =\"w\")\n",
    "treeview.heading(“Costfor10″ , text=\"Costfor10″ , anchor =\"w\")\n",
    "treeview.column(“#0\" ,stretch=NO,width=10,minwidth=0)\n",
    "treeview.column(“#1\" ,stretch=NO,width=70,minwidth=0)\n",
    "treeview.column(“#2\" ,stretch=NO,width=120,minwidth=0)\n",
    "treeview.column(“#3\" ,stretch=NO,width=120,minwidth=0)\n",
    "treeview.column(“#4\" ,stretch=NO,width=160,minwidth=0)\n",
    "treeview.column(“#5\" ,stretch=NO,width=70,minwidth=0)\n",
    "treeview.column(“#6\" ,stretch=NO,width=70,minwidth=0)\n",
    "treeview.column(“#7\" ,stretch=NO,width=70,minwidth=0)\n",
    "treeview.pack()"
   ]
  },
  {
   "cell_type": "code",
   "execution_count": 7,
   "metadata": {},
   "outputs": [
    {
     "ename": "ModuleNotFoundError",
     "evalue": "No module named 'django'",
     "output_type": "error",
     "traceback": [
      "\u001b[0;31m---------------------------------------------------------------------------\u001b[0m",
      "\u001b[0;31mModuleNotFoundError\u001b[0m                       Traceback (most recent call last)",
      "Input \u001b[0;32mIn [7]\u001b[0m, in \u001b[0;36m<module>\u001b[0;34m\u001b[0m\n\u001b[0;32m----> 1\u001b[0m \u001b[38;5;28;01mimport\u001b[39;00m \u001b[38;5;21;01mDjango\u001b[39;00m\n\u001b[1;32m      2\u001b[0m \u001b[38;5;28;01mfrom\u001b[39;00m \u001b[38;5;21;01mdjango\u001b[39;00m\u001b[38;5;21;01m.\u001b[39;00m\u001b[38;5;21;01mshortcuts\u001b[39;00m \u001b[38;5;28;01mimport\u001b[39;00m render\n\u001b[1;32m      3\u001b[0m \u001b[38;5;28;01mfrom\u001b[39;00m \u001b[38;5;21;01mdjango\u001b[39;00m\u001b[38;5;21;01m.\u001b[39;00m\u001b[38;5;21;01mhttp\u001b[39;00m \u001b[38;5;28;01mimport\u001b[39;00m HttpResponse\n",
      "File \u001b[0;32m~/Documents/GitHub/Abith619/Django.py:2\u001b[0m, in \u001b[0;36m<module>\u001b[0;34m\u001b[0m\n\u001b[1;32m      1\u001b[0m \u001b[38;5;66;03m#                                                                                              Django\u001b[39;00m\n\u001b[0;32m----> 2\u001b[0m \u001b[38;5;28;01mfrom\u001b[39;00m \u001b[38;5;21;01mdjango\u001b[39;00m\u001b[38;5;21;01m.\u001b[39;00m\u001b[38;5;21;01mdb\u001b[39;00m \u001b[38;5;28;01mimport\u001b[39;00m models\n\u001b[1;32m      4\u001b[0m \u001b[38;5;66;03m#                                          mapping the views.py in urls.py file\u001b[39;00m\n\u001b[1;32m      5\u001b[0m \u001b[38;5;66;03m#                                          Django Template Language\u001b[39;00m\n\u001b[1;32m      6\u001b[0m \u001b[38;5;66;03m# {{variable_name}}, {% if condition %}\u001b[39;00m\n\u001b[1;32m      7\u001b[0m \u001b[38;5;66;03m#                                                render function = 3 Parameters\u001b[39;00m\n\u001b[1;32m      8\u001b[0m \u001b[38;5;124;03m\"\"\"Request\u001b[39;00m\n\u001b[1;32m      9\u001b[0m \u001b[38;5;124;03mMentioning the path of template in settings.py\u001b[39;00m\n\u001b[1;32m     10\u001b[0m \u001b[38;5;124;03mParameters that contain all variables and can create as many as possible\"\"\"\u001b[39;00m\n",
      "\u001b[0;31mModuleNotFoundError\u001b[0m: No module named 'django'"
     ]
    }
   ],
   "source": [
    "import Django\n",
    "from django.shortcuts import render\n",
    "from django.http import HttpResponse\n",
    "# Create your views here.\n",
    "def home(request):\n",
    "    return HttpResponse(\"Welcome\")\n",
    "def setting_cookie(request):\n",
    "    response = HttpResponse(\"We are setting a cookie\")\n",
    "    response.set_cookie('Learning', 'Django',5)\n",
    "    return response\n",
    "def getting_cookie(request):\n",
    "    first_test  = request.COOKIES['Learning']\n",
    "    return HttpResponse(\"Practice: \"+  first_test);\n",
    "from django.urls import path\n",
    "from . import views\n",
    "urlpatterns = [\n",
    "    path('', views.home, name='home'),\n",
    "    path('setc', views.setting_cookie, name='setc'),\n",
    "    path('getc', views.getting_cookie, name='getc')\n",
    "    ]\n"
   ]
  },
  {
   "cell_type": "code",
   "execution_count": 9,
   "metadata": {},
   "outputs": [
    {
     "ename": "ModuleNotFoundError",
     "evalue": "No module named 'sklearn'",
     "output_type": "error",
     "traceback": [
      "\u001b[0;31m---------------------------------------------------------------------------\u001b[0m",
      "\u001b[0;31mModuleNotFoundError\u001b[0m                       Traceback (most recent call last)",
      "Input \u001b[0;32mIn [9]\u001b[0m, in \u001b[0;36m<module>\u001b[0;34m\u001b[0m\n\u001b[0;32m----> 1\u001b[0m \u001b[38;5;28;01mfrom\u001b[39;00m \u001b[38;5;21;01msklearn\u001b[39;00m\u001b[38;5;21;01m.\u001b[39;00m\u001b[38;5;21;01mmodel_selection\u001b[39;00m \u001b[38;5;28;01mimport\u001b[39;00m train_test_split\n\u001b[1;32m      2\u001b[0m \u001b[38;5;28;01mfrom\u001b[39;00m \u001b[38;5;21;01msklearn\u001b[39;00m \u001b[38;5;28;01mimport\u001b[39;00m model_selection\n\u001b[1;32m      4\u001b[0m y \u001b[38;5;241m=\u001b[39m [x\u001b[38;5;241m*\u001b[39mx \u001b[38;5;28;01mfor\u001b[39;00m x \u001b[38;5;129;01min\u001b[39;00m X]\n",
      "\u001b[0;31mModuleNotFoundError\u001b[0m: No module named 'sklearn'"
     ]
    }
   ],
   "source": [
    "\n",
    "from sklearn.model_selection import train_test_split\n",
    "from sklearn import model_selection\n",
    "\n",
    "y = [x*x for x in X]\n",
    "X_train, X_test, y_train, y_test = model_selection.train_test_split(X, y, train_size=0.65,\n",
    "test_size=0.35, random_state=101)\n",
    "print(\"X_train:\", X_train)"
   ]
  },
  {
   "cell_type": "code",
   "execution_count": 11,
   "metadata": {},
   "outputs": [
    {
     "name": "stdout",
     "output_type": "stream",
     "text": [
      "[0, 1, 4, 9, 16, 25, 36, 49, 64, 81, 100, 121, 144, 169, 196]\n"
     ]
    }
   ],
   "source": [
    "X = list(range(0,15))\n",
    "y = [x * x for x in X]\n",
    "print(y)"
   ]
  }
 ],
 "metadata": {
  "interpreter": {
   "hash": "aee8b7b246df8f9039afb4144a1f6fd8d2ca17a180786b69acc140d282b71a49"
  },
  "kernelspec": {
   "display_name": "R",
   "language": "python",
   "name": "python3"
  },
  "language_info": {
   "codemirror_mode": {
    "name": "ipython",
    "version": 3
   },
   "file_extension": ".py",
   "mimetype": "text/x-python",
   "name": "python",
   "nbconvert_exporter": "python",
   "pygments_lexer": "ipython3",
   "version": "3.9.9"
  },
  "orig_nbformat": 4
 },
 "nbformat": 4,
 "nbformat_minor": 2
}
