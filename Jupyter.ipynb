{
 "cells": [
  {
   "cell_type": "code",
   "execution_count": null,
   "metadata": {},
   "outputs": [],
   "source": [
    "# This program performs palindrome check for a string #\n",
    "# function which return reverse of a string\n",
    "def isPalindrome(s):\n",
    "    # Calling reverse function\n",
    "    if len(s) <= 1 :\n",
    "        return True\n",
    "    if s[0] == s[len(s) - 1] :\n",
    "        return isPalindrome(s[1:len(s) - 1])\n",
    "    else :\n",
    "        return False\n",
    "        # Driver code\n",
    "Palindrome_input_Variable = [ ' AnnA ' , ' SoloS ' , ' RotatoR ' , ' RadaR ' , ' SagaS ' , ' RotoR ' , ' TenT ' , ' RepapeR ' , ' CiviC ' , ' KayaK ' , ' Lever ' , ' MadaM ' , ' RacecaR ' , ' StatS ' , ' Redder ' , ' Wow ' , ' MoM ' , ' RefeR ' , ' NooN ']\n",
    "print( \" PALINDROME CHECK PROGRAM \" )\n",
    "for i in Palindrome_input_Variable:\n",
    "    ans = isPalindrome(i)\n",
    "    if ans == 1:\n",
    "        print( \" The given string  \", \"'\" , i , \"' \",\"is a palindrome\")\n",
    "    else:\n",
    "        print( \" The given string  \" , \"'\" , i , \"' \",\"is not a palindrome\")"
   ]
  },
  {
   "cell_type": "code",
   "execution_count": null,
   "metadata": {},
   "outputs": [],
   "source": [
    "# reversing the given number using a mathematical formula\n",
    "rev = (rev * 10) + (temporary % 10)\n",
    "temporary = temporary // 10"
   ]
  },
  {
   "cell_type": "code",
   "execution_count": null,
   "metadata": {},
   "outputs": [],
   "source": [
    "# Casting of the entered input is also achieved here by implying\n",
    "#variable casting process into place.\n",
    "num = int( input ( \" ENTER THE NUMBER: \" ) )\n",
    "temporary = num\n",
    "rev = 0\n",
    "# looping the given input and reversing the value\n",
    "while temporary != 0:\n",
    "    rev = ( rev * 10 ) + ( temporary % 10 )\n",
    "    temporary = temporary // 10\n",
    "if num == rev:\n",
    "    print( \" number is palindrome \" )\n",
    "else:\n",
    "    print( \" number is not palindrome \" )"
   ]
  },
  {
   "cell_type": "code",
   "execution_count": null,
   "metadata": {},
   "outputs": [],
   "source": [
    "Number = input('Enter the number to be verified : ')\n",
    "# Try  block\n",
    "try:\n",
    "    #Casting of the entered input is also achieved here by implying         #variable casting process into place\n",
    "    val = int(Number)\n",
    "    # checking for a palindrome in the given string\n",
    "    if Number == str(Number)[::-1]:\n",
    "        print('The given number is PALINDROME')\n",
    "    else:\n",
    "        print('The given number is NOT a PALINDROME')\n",
    "except ValueError:\n",
    "    print(\"! ! ! A valid numeric input is not entered ! ! !\")"
   ]
  },
  {
   "cell_type": "code",
   "execution_count": 12,
   "metadata": {},
   "outputs": [
    {
     "ename": "NameError",
     "evalue": "name 'stack' is not defined",
     "output_type": "error",
     "traceback": [
      "\u001b[0;31m---------------------------------------------------------------------------\u001b[0m",
      "\u001b[0;31mNameError\u001b[0m                                 Traceback (most recent call last)",
      "\u001b[0;32m<ipython-input-12-3d9e18f86d96>\u001b[0m in \u001b[0;36m<module>\u001b[0;34m\u001b[0m\n\u001b[1;32m     18\u001b[0m     \u001b[0;31m#                             inserting number into list\u001b[0m\u001b[0;34m\u001b[0m\u001b[0;34m\u001b[0m\u001b[0;34m\u001b[0m\u001b[0m\n\u001b[1;32m     19\u001b[0m \u001b[0;32mfor\u001b[0m \u001b[0mi\u001b[0m \u001b[0;32min\u001b[0m \u001b[0mrange\u001b[0m\u001b[0;34m(\u001b[0m\u001b[0;36m0\u001b[0m\u001b[0;34m,\u001b[0m\u001b[0mnum\u001b[0m\u001b[0;34m)\u001b[0m\u001b[0;34m:\u001b[0m\u001b[0;34m\u001b[0m\u001b[0;34m\u001b[0m\u001b[0m\n\u001b[0;32m---> 20\u001b[0;31m     \u001b[0mpush\u001b[0m\u001b[0;34m(\u001b[0m\u001b[0mstack\u001b[0m\u001b[0;34m,\u001b[0m\u001b[0mnumber\u001b[0m\u001b[0;34m[\u001b[0m\u001b[0mi\u001b[0m\u001b[0;34m]\u001b[0m\u001b[0;34m)\u001b[0m\u001b[0;34m\u001b[0m\u001b[0;34m\u001b[0m\u001b[0m\n\u001b[0m\u001b[1;32m     21\u001b[0m     \u001b[0mnumber\u001b[0m \u001b[0;34m=\u001b[0m \u001b[0;34m\"\"\u001b[0m\u001b[0;34m\u001b[0m\u001b[0;34m\u001b[0m\u001b[0m\n\u001b[1;32m     22\u001b[0m \u001b[0;31m# getting last element of the stack list\u001b[0m\u001b[0;34m\u001b[0m\u001b[0;34m\u001b[0m\u001b[0;34m\u001b[0m\u001b[0m\n",
      "\u001b[0;31mNameError\u001b[0m: name 'stack' is not defined"
     ]
    }
   ],
   "source": [
    "def create_stack():\n",
    "    #                              creating a list as stack and return it\n",
    "    stack = []\n",
    "    return stack\n",
    "def push(stack,element):\n",
    "    #                         adding new element to list\n",
    "    stack.append(element)\n",
    "def pop(stack):\n",
    "    #                      deleting the last element from the list\n",
    "    if len(stack) == 0:\n",
    "        return\n",
    "    return stack.pop()\n",
    "def reverse(number):\n",
    "    #                       reversing the number by using stack's functions\n",
    "    num = len(number)\n",
    "    #                               creating empty list (stack)\n",
    "    stack = create_stack()\n",
    "    #                             inserting number into list\n",
    "for i in range(0,num):\n",
    "    push(stack,number[i])\n",
    "    number = \"\"\n",
    "# getting last element of the stack list\n",
    "for i in range(0,num):\n",
    "    number = number + pop(stack)\n",
    "    return number\n",
    "number1 = \"123456789\"\n",
    "number2 = reverse(number1)\n",
    "print (\"The given number is : \" + number1)\n",
    "print (\"Reverse of the given number is : \" + number2)"
   ]
  },
  {
   "cell_type": "code",
   "execution_count": 1,
   "metadata": {},
   "outputs": [
    {
     "name": "stdout",
     "output_type": "stream",
     "text": [
      "{'Sunday', 'Monday'}\n",
      "<class 'set'>\n",
      "Looping through the SetS Elements,,....\n",
      "Sunday\n",
      "Monday\n"
     ]
    }
   ],
   "source": [
    "Days = {\"Monday\",\n",
    "\"Sunday\"\n",
    "}\n",
    "print(Days)\n",
    "print(type(Days))\n",
    "print('Looping through the SetS Elements,,....')\n",
    "for i in Days:\n",
    "    print(i)"
   ]
  },
  {
   "cell_type": "code",
   "execution_count": 3,
   "metadata": {},
   "outputs": [
    {
     "data": {
      "text/plain": [
       "{12, 14, 23, 619, 916}"
      ]
     },
     "execution_count": 3,
     "metadata": {},
     "output_type": "execute_result"
    }
   ],
   "source": [
    "set = {12,23,14,619,916}\n",
    "type(set)\n",
    "set\n"
   ]
  },
  {
   "cell_type": "code",
   "execution_count": 9,
   "metadata": {},
   "outputs": [
    {
     "name": "stdout",
     "output_type": "stream",
     "text": [
      "{'Saturday', 'Sunday', 'Monday', 'Tuesday'}\n",
      "{'Saturday', 'Sunday', 'Monday', 'Tuesday'}\n",
      "{'Saturday', 'Sunday', 'Tuesday', 'Monday'}\n"
     ]
    }
   ],
   "source": [
    "Days1 = {\"Monday\",\"Tuesday\",}\n",
    "Days2 = {\"Saturday\",\"Sunday\"}\n",
    "print(Days1|Days2)\n",
    "print(Days1.union(Days2))\n",
    "print(Days1^(Days2))"
   ]
  },
  {
   "cell_type": "code",
   "execution_count": 6,
   "metadata": {},
   "outputs": [
    {
     "name": "stdout",
     "output_type": "stream",
     "text": [
      "{34, 67, 619, 12, 13, 14, 916, 85, 23}\n",
      "{619}\n",
      "None\n",
      "{34, 67, 85, 13}\n",
      "{34, 67, 85, 13}\n",
      "{34, 67, 13, 85}\n"
     ]
    },
    {
     "ename": "AttributeError",
     "evalue": "'set' object has no attribute 'SymmetricDifference'",
     "output_type": "error",
     "traceback": [
      "\u001b[0;31m---------------------------------------------------------------------------\u001b[0m",
      "\u001b[0;31mAttributeError\u001b[0m                            Traceback (most recent call last)",
      "\u001b[0;32m<ipython-input-6-2096cad84957>\u001b[0m in \u001b[0;36m<module>\u001b[0;34m\u001b[0m\n\u001b[1;32m      6\u001b[0m \u001b[0mprint\u001b[0m\u001b[0;34m(\u001b[0m\u001b[0mset1\u001b[0m\u001b[0;34m.\u001b[0m\u001b[0mdifference\u001b[0m\u001b[0;34m(\u001b[0m\u001b[0mset\u001b[0m\u001b[0;34m)\u001b[0m\u001b[0;34m)\u001b[0m\u001b[0;34m\u001b[0m\u001b[0;34m\u001b[0m\u001b[0m\n\u001b[1;32m      7\u001b[0m \u001b[0mprint\u001b[0m\u001b[0;34m(\u001b[0m\u001b[0mset1\u001b[0m\u001b[0;34m^\u001b[0m\u001b[0mset\u001b[0m\u001b[0;34m)\u001b[0m\u001b[0;34m\u001b[0m\u001b[0;34m\u001b[0m\u001b[0m\n\u001b[0;32m----> 8\u001b[0;31m \u001b[0mprint\u001b[0m\u001b[0;34m(\u001b[0m\u001b[0mDays1\u001b[0m\u001b[0;34m.\u001b[0m\u001b[0mSymmetricDifference\u001b[0m\u001b[0;34m(\u001b[0m\u001b[0mDays2\u001b[0m\u001b[0;34m)\u001b[0m\u001b[0;34m)\u001b[0m\u001b[0;34m\u001b[0m\u001b[0;34m\u001b[0m\u001b[0m\n\u001b[0m",
      "\u001b[0;31mAttributeError\u001b[0m: 'set' object has no attribute 'SymmetricDifference'"
     ]
    }
   ],
   "source": [
    "set1 = {13,34,619,67,34,85}\n",
    "print(set|set1)\n",
    "print(set.intersection(set1))\n",
    "print(set.intersection_update(set,set1)) # Update only common values\n",
    "print(set1-set)\n",
    "print(set1.difference(set))\n",
    "print(set1^set)\n",
    "print(Days1.SymmetricDifference(Days2))"
   ]
  },
  {
   "cell_type": "code",
   "execution_count": 12,
   "metadata": {},
   "outputs": [
    {
     "name": "stdout",
     "output_type": "stream",
     "text": [
      "<class 'frozenset'>\n"
     ]
    },
    {
     "ename": "TypeError",
     "evalue": "'type' object is not iterable",
     "output_type": "error",
     "traceback": [
      "\u001b[0;31m---------------------------------------------------------------------------\u001b[0m",
      "\u001b[0;31mTypeError\u001b[0m                                 Traceback (most recent call last)",
      "\u001b[0;32m<ipython-input-12-32b0ad1c11d5>\u001b[0m in \u001b[0;36m<module>\u001b[0;34m\u001b[0m\n\u001b[1;32m      1\u001b[0m \u001b[0mFrozenSet\u001b[0m \u001b[0;34m=\u001b[0m \u001b[0mfrozenset\u001b[0m\u001b[0;34m(\u001b[0m\u001b[0;34m[\u001b[0m\u001b[0;36m6\u001b[0m\u001b[0;34m,\u001b[0m\u001b[0;36m1\u001b[0m\u001b[0;34m,\u001b[0m\u001b[0;36m9\u001b[0m\u001b[0;34m]\u001b[0m\u001b[0;34m)\u001b[0m\u001b[0;34m\u001b[0m\u001b[0;34m\u001b[0m\u001b[0m\n\u001b[1;32m      2\u001b[0m \u001b[0mprint\u001b[0m\u001b[0;34m(\u001b[0m\u001b[0mtype\u001b[0m\u001b[0;34m(\u001b[0m\u001b[0mFrozenSet\u001b[0m\u001b[0;34m)\u001b[0m\u001b[0;34m)\u001b[0m\u001b[0;34m\u001b[0m\u001b[0;34m\u001b[0m\u001b[0m\n\u001b[0;32m----> 3\u001b[0;31m \u001b[0;32mfor\u001b[0m \u001b[0mi\u001b[0m \u001b[0;32min\u001b[0m \u001b[0mfrozenset\u001b[0m\u001b[0;34m:\u001b[0m\u001b[0;34m\u001b[0m\u001b[0;34m\u001b[0m\u001b[0m\n\u001b[0m\u001b[1;32m      4\u001b[0m     \u001b[0mprint\u001b[0m\u001b[0;34m(\u001b[0m\u001b[0mi\u001b[0m\u001b[0;34m)\u001b[0m\u001b[0;34m;\u001b[0m\u001b[0;34m\u001b[0m\u001b[0;34m\u001b[0m\u001b[0m\n\u001b[1;32m      5\u001b[0m     \u001b[0mfrozenset\u001b[0m\u001b[0;34m.\u001b[0m\u001b[0madd\u001b[0m\u001b[0;34m(\u001b[0m\u001b[0;36m6\u001b[0m\u001b[0;34m)\u001b[0m\u001b[0;34m\u001b[0m\u001b[0;34m\u001b[0m\u001b[0m\n",
      "\u001b[0;31mTypeError\u001b[0m: 'type' object is not iterable"
     ]
    }
   ],
   "source": [
    "FrozenSet = frozenset([6,1,9])\n",
    "print(type(FrozenSet))\n",
    "for i in frozenset:\n",
    "    print(i);\n",
    "    frozenset.add(6)"
   ]
  },
  {
   "cell_type": "code",
   "execution_count": 14,
   "metadata": {},
   "outputs": [
    {
     "name": "stdout",
     "output_type": "stream",
     "text": [
      "Length of str1 is:\n",
      "7\n",
      "Length of str2 is:\n",
      "5\n"
     ]
    }
   ],
   "source": [
    "str = \"Kaashiv\"\n",
    "print(\"Length of str1 is:\")\n",
    "print(len(str))\n",
    "#                           Length of below string is ?\n",
    "str2 = \"Abith\"\n",
    "print(\"Length of str2 is:\")\n",
    "print(len(str2))"
   ]
  },
  {
   "cell_type": "code",
   "execution_count": 28,
   "metadata": {},
   "outputs": [
    {
     "name": "stdout",
     "output_type": "stream",
     "text": [
      "(6, 1, 9, 1, 3, 4)\n"
     ]
    }
   ],
   "source": [
    "tup = (6,1,9) + (1,3) + (4,)\n",
    "print(tup)"
   ]
  },
  {
   "cell_type": "code",
   "execution_count": 35,
   "metadata": {},
   "outputs": [
    {
     "data": {
      "text/plain": [
       "True"
      ]
     },
     "execution_count": 35,
     "metadata": {},
     "output_type": "execute_result"
    }
   ],
   "source": [
    "x = int(input())\n",
    "(x > 0)\n",
    "(x < 100)"
   ]
  },
  {
   "cell_type": "code",
   "execution_count": 47,
   "metadata": {},
   "outputs": [
    {
     "ename": "TypeError",
     "evalue": "'str' object is not callable",
     "output_type": "error",
     "traceback": [
      "\u001b[0;31m---------------------------------------------------------------------------\u001b[0m",
      "\u001b[0;31mTypeError\u001b[0m                                 Traceback (most recent call last)",
      "\u001b[0;32m<ipython-input-47-97c6c5f2cf57>\u001b[0m in \u001b[0;36m<module>\u001b[0;34m\u001b[0m\n\u001b[1;32m      5\u001b[0m \u001b[0;32melse\u001b[0m\u001b[0;34m:\u001b[0m\u001b[0;34m\u001b[0m\u001b[0;34m\u001b[0m\u001b[0m\n\u001b[1;32m      6\u001b[0m     \u001b[0msavingAmt\u001b[0m \u001b[0;34m=\u001b[0m \u001b[0msavingAmt\u001b[0m \u001b[0;34m-\u001b[0m \u001b[0mwithdrawAmt\u001b[0m\u001b[0;34m\u001b[0m\u001b[0;34m\u001b[0m\u001b[0m\n\u001b[0;32m----> 7\u001b[0;31m     \u001b[0mprint\u001b[0m\u001b[0;34m(\u001b[0m\u001b[0;34m\"Account Balance = \"\u001b[0m \u001b[0;34m+\u001b[0m \u001b[0mstr\u001b[0m\u001b[0;34m(\u001b[0m\u001b[0msavingAmt\u001b[0m\u001b[0;34m)\u001b[0m\u001b[0;34m)\u001b[0m\u001b[0;34m\u001b[0m\u001b[0;34m\u001b[0m\u001b[0m\n\u001b[0m",
      "\u001b[0;31mTypeError\u001b[0m: 'str' object is not callable"
     ]
    }
   ],
   "source": [
    "savingAmt = 1000\n",
    "withdrawAmt = int(input(\"Amount to Withdraw: \"))\n",
    "if withdrawAmt > savingAmt:\n",
    "    print (\"Insufficient balance\")\n",
    "else:\n",
    "    savingAmt = savingAmt - withdrawAmt\n",
    "    print(\"Account Balance = \" + str(savingAmt))"
   ]
  },
  {
   "cell_type": "code",
   "execution_count": 53,
   "metadata": {},
   "outputs": [
    {
     "name": "stdout",
     "output_type": "stream",
     "text": [
      "Night\n"
     ]
    }
   ],
   "source": [
    "time = 0\n",
    "if (time >= 600) and (time < 1200):\n",
    "\tprint (\"Morning\")\n",
    "else:\n",
    "\tif (time == 1200):\n",
    "\t\tprint (\"Noon\")\n",
    "\telse:\n",
    "\t\tif (time > 1200) and (time <= 1700):\n",
    "\t\t\tprint (\"Afternoon\")\n",
    "\t\telse:\n",
    "\t\t\tif (time > 1700) and (time <= 2000):\n",
    "\t\t\t\tprint (\"Evening\")\n",
    "\t\t\telse:\n",
    "\t\t\t\tif ((time > 2000) and (time < 2400)) or ((time >= 0) and (time < 600)):\n",
    "\t\t\t\t\tprint (\"Night\")\n",
    "\t\t\t\telse:\n",
    "\t\t\t\t\tprint (\"Invalid time!\")\n",
    "savingAmt = savingAmt - withdrawAmt if (savingAmt > withdrawAmt) else savingAmt"
   ]
  },
  {
   "cell_type": "code",
   "execution_count": 1,
   "metadata": {},
   "outputs": [
    {
     "name": "stdout",
     "output_type": "stream",
     "text": [
      "8\n",
      "9\n",
      "2\n",
      "6\n",
      "1\n",
      "9\n"
     ]
    }
   ],
   "source": [
    "myList = [8, 9, 2, 6, 1, 9]\n",
    "for i in myList:\n",
    "    print (i)   "
   ]
  },
  {
   "cell_type": "code",
   "execution_count": 8,
   "metadata": {},
   "outputs": [
    {
     "name": "stdout",
     "output_type": "stream",
     "text": [
      "b\n",
      "i\n",
      "t\n",
      "h\n"
     ]
    }
   ],
   "source": [
    "name = \"Abith\"\n",
    "for i in name:\n",
    "    if not i.islower():\n",
    "        continue\n",
    "    print(i)"
   ]
  },
  {
   "cell_type": "code",
   "execution_count": 63,
   "metadata": {},
   "outputs": [
    {
     "name": "stdout",
     "output_type": "stream",
     "text": [
      "Element of list within a list -  1\n",
      "Element of list within a list -  3\n",
      "Element of list within a list -  6\n",
      "Element of list within a list -  8\n",
      "Element of list within a list -  2\n",
      "Element of list within a list -  0\n",
      "Element of list within a list -  4\n",
      "Element of list within a list -  7\n",
      "Element of list within a list -  10\n",
      "Element of list within a list -  1\n",
      "Element of list within a list -  5\n",
      "Element of list within a list -  2\n",
      "Element of list within a list -  6\n"
     ]
    }
   ],
   "source": [
    "bigList = [[1, 3, 6], [8, 2,], [0, 4, 7, 10], [1, 5, 2], [6]]\n",
    "for i in bigList:\n",
    "\tfor j in i:\n",
    "\t\tprint(\"Element of list within a list - \", j)"
   ]
  },
  {
   "cell_type": "code",
   "execution_count": 10,
   "metadata": {},
   "outputs": [
    {
     "name": "stdout",
     "output_type": "stream",
     "text": [
      "A\n"
     ]
    }
   ],
   "source": [
    "for i in name:\n",
    "\tif i == \"A\":\n",
    "\t\tbreak\n",
    "print (i)"
   ]
  },
  {
   "cell_type": "code",
   "execution_count": 21,
   "metadata": {},
   "outputs": [
    {
     "name": "stdout",
     "output_type": "stream",
     "text": [
      "2\n",
      "2\n",
      "6\n"
     ]
    }
   ],
   "source": [
    "def check(k):\n",
    "\tif (k%2==0):\n",
    "\t\tprint (k)\n",
    "\telse:\n",
    "\t\tprint (2*k)\n",
    "n = int(input())\n",
    "for i in range(1, i+1):\n",
    "\tcheck(i)"
   ]
  },
  {
   "cell_type": "code",
   "execution_count": 5,
   "metadata": {},
   "outputs": [
    {
     "name": "stdout",
     "output_type": "stream",
     "text": [
      "Object created\n",
      "Object destroyed\n"
     ]
    }
   ],
   "source": [
    "class Example:\n",
    "\tdef __init__(self):\n",
    "\t\tprint (\"Object created\")\n",
    "\t#                                     destructor\n",
    "\tdef __del__(self):\n",
    "\t    print (\"Object destroyed\")\n",
    "#                                        creating an object\n",
    "myObj = Example()\n",
    "#                           to delete the object explicitly\n",
    "del myObj"
   ]
  },
  {
   "cell_type": "code",
   "execution_count": 11,
   "metadata": {},
   "outputs": [
    {
     "name": "stdout",
     "output_type": "stream",
     "text": [
      "True\n"
     ]
    }
   ],
   "source": [
    "myset = {0, 1, 0}\n",
    "x = any(myset)\n",
    "print(x)"
   ]
  },
  {
   "cell_type": "code",
   "execution_count": 13,
   "metadata": {},
   "outputs": [
    {
     "name": "stdout",
     "output_type": "stream",
     "text": [
      "0\n",
      "A\n"
     ]
    }
   ],
   "source": [
    "print(min(2,5,3,1,0,99))\n",
    "sampleObj = ['B','a','t','A']\n",
    "print(min(sampleObj))"
   ]
  },
  {
   "cell_type": "code",
   "execution_count": 15,
   "metadata": {},
   "outputs": [
    {
     "name": "stdout",
     "output_type": "stream",
     "text": [
      "4.5\n",
      "24.5\n"
     ]
    }
   ],
   "source": [
    "num = [2.5, 3, 4, -5]\n",
    "numSum = sum(num)\n",
    "print(numSum)\n",
    "numSum = sum(num, 20)\n",
    "print(numSum)"
   ]
  },
  {
   "cell_type": "code",
   "execution_count": 16,
   "metadata": {},
   "outputs": [
    {
     "name": "stdout",
     "output_type": "stream",
     "text": [
      "CONSTANTS IN PYTHON\n",
      " PI value :  3.141592653589793\n",
      " E value :  2.718281828459045\n",
      " nan value :  nan\n",
      " E value :  inf\n"
     ]
    }
   ],
   "source": [
    "import math\n",
    "print( \"CONSTANTS IN PYTHON\")\n",
    "print(\" PI value : \" , math.pi)\n",
    "print(\" E value : \" , math.e)\n",
    "print(\" nan value : \" , math.nan)\n",
    "print(\" E value : \" , math.inf)"
   ]
  },
  {
   "cell_type": "code",
   "execution_count": 23,
   "metadata": {},
   "outputs": [
    {
     "name": "stdout",
     "output_type": "stream",
     "text": [
      "Hello from   kaashiv\n"
     ]
    }
   ],
   "source": [
    "str1 = \"Hello\\tfrom\\t kaashiv\"\n",
    "str2 = str1.expandtabs(2)\n",
    "print(str2)"
   ]
  },
  {
   "cell_type": "code",
   "execution_count": 24,
   "metadata": {},
   "outputs": [
    {
     "name": "stdout",
     "output_type": "stream",
     "text": [
      "Hello from kaashiv.\n"
     ]
    }
   ],
   "source": [
    "str1 = \"kaashiv\"\n",
    "print(\"Hello from {}.\".format(str1))"
   ]
  },
  {
   "cell_type": "code",
   "execution_count": 17,
   "metadata": {},
   "outputs": [
    {
     "name": "stdout",
     "output_type": "stream",
     "text": [
      " String before striping :  00000000abcdefghijklmnopqrstuvwxyz00000000\n",
      " String after striping  :  abcdefghijklmnopqrstuvwxyz\n"
     ]
    }
   ],
   "source": [
    "string_before_strip  = '00000000abcdefghijklmnopqrstuvwxyz00000000'\n",
    "print( \" String before striping : \" , string_before_strip)\n",
    "string_after_strip = string_before_strip.strip( '00000000' )\n",
    "print( \" String after striping  : \" , string_after_strip)"
   ]
  },
  {
   "cell_type": "code",
   "execution_count": 19,
   "metadata": {},
   "outputs": [
    {
     "name": "stdout",
     "output_type": "stream",
     "text": [
      "Split() with default max split values i/e -1 :\n",
      "Input string will split at @ : ['Java', 'Python', 'C++', 'Scala', 'Julia']\n",
      "\n",
      "\n",
      "number of splits (0): ['Java@Python@C++@Scala@Julia']\n",
      "number of splits (1): ['Java', 'Python@C++@Scala@Julia']\n",
      "number of splits (2): ['Java', 'Python', 'C++@Scala@Julia']\n",
      "number of splits (3): ['Java', 'Python', 'C++', 'Scala@Julia']\n",
      "number of splits (4): ['Java', 'Python', 'C++', 'Scala', 'Julia']\n",
      "number of splits (5): ['Java', 'Python', 'C++', 'Scala', 'Julia']\n",
      "\n",
      "\n",
      "Split using for loop\n",
      "number of splits 0 ['Java@Python@C++@Scala@Julia']\n",
      "number of splits 1 ['Java', 'Python@C++@Scala@Julia']\n",
      "number of splits 2 ['Java', 'Python', 'C++@Scala@Julia']\n",
      "number of splits 3 ['Java', 'Python', 'C++', 'Scala@Julia']\n",
      "number of splits 4 ['Java', 'Python', 'C++', 'Scala', 'Julia']\n",
      "number of splits 5 ['Java', 'Python', 'C++', 'Scala', 'Julia']\n"
     ]
    }
   ],
   "source": [
    "# split() function with different values for max splits\n",
    "print(\"Split() with default max split values i/e -1 :\")\n",
    "inp1 = 'Java@Python@C++@Scala@Julia'\n",
    "print(\"Input string will split at @ :\", inp1.split('@'))\n",
    "print('\\n')\n",
    "print(\"number of splits (0):\", inp1.split('@', 0))\n",
    "print(\"number of splits (1):\", inp1.split('@', 1))\n",
    "print(\"number of splits (2):\", inp1.split('@', 2))\n",
    "print(\"number of splits (3):\", inp1.split('@', 3))\n",
    "print(\"number of splits (4):\", inp1.split('@', 4))\n",
    "print(\"number of splits (5):\", inp1.split('@', 5))\n",
    "print('\\n')\n",
    "print(\"Split using for loop\")\n",
    "for i in range(6):\n",
    "    print(\"number of splits\", i, inp1.split('@', i))"
   ]
  },
  {
   "cell_type": "code",
   "execution_count": 22,
   "metadata": {},
   "outputs": [
    {
     "name": "stdout",
     "output_type": "stream",
     "text": [
      "Round Function on Negative Decimal = -19.00\n",
      "Round Function on Positive Decimal = 16.00\n",
      "Round Function with 2nd parameter on positive = 11.988\n",
      "Round Function with 2nd parameter on negative = -18.485\n",
      "Round Function for Items in a List = -40\n",
      "Round Function for Items in a List = 33\n",
      "Round Function for Items in a Tuple = 11\n",
      "Round Function for Items in a Tuple = 30\n",
      "Round Function for Multiple Number = 39.34\n"
     ]
    }
   ],
   "source": [
    "Tup = (-40.95, 50.85, 10.98, 20.26, 30.05) # Declaration of a Tuple\n",
    "Lis = [-39.29, -42.15 , -39.97, -10.98, 32.65] #Declaration of a List\n",
    "print('Round Function on Negative Decimal = %.2f' %round(-19.48476))\n",
    "print('Round Function on Positive Decimal = %.2f' %round(15.98763))\n",
    "print('Round Function with 2nd parameter on positive = %.3f' %round(11.98763, 3))\n",
    "print('Round Function with 2nd parameter on negative = %.3f' %round(-18.48476, 3))\n",
    "print('Round Function for Items in a List = %d' %round(Lis[2]))\n",
    "print('Round Function for Items in a List = %d' %round(Lis[4]))\n",
    "print('Round Function for Items in a Tuple = %d' %round(Tup[2]))\n",
    "print('Round Function for Items in a Tuple = %d' %round(Tup[4]))\n",
    "print('Round Function for Multiple Number = %.2f' %round(20 + 40 - 20.6578, 2))"
   ]
  },
  {
   "cell_type": "code",
   "execution_count": 35,
   "metadata": {},
   "outputs": [
    {
     "name": "stdout",
     "output_type": "stream",
     "text": [
      "Raju&is&22&years&old\n"
     ]
    }
   ],
   "source": [
    "import re\n",
    "word = \"Raju is 22 years old\"\n",
    "rgex ='\\s'\n",
    "x =re.sub(rgex,'&',word)\n",
    "print(x)"
   ]
  },
  {
   "cell_type": "code",
   "execution_count": 38,
   "metadata": {},
   "outputs": [
    {
     "name": "stdout",
     "output_type": "stream",
     "text": [
      "Sugar\n"
     ]
    }
   ],
   "source": [
    "# Using a blank string as a seperator in join function\n",
    "list = ['S', 'u', 'g', 'a', 'r']\n",
    "Str = \"\".join(list)\n",
    "print(Str)"
   ]
  },
  {
   "cell_type": "code",
   "execution_count": 39,
   "metadata": {},
   "outputs": [
    {
     "name": "stdout",
     "output_type": "stream",
     "text": [
      "The simple program for sub() method for replacing:\n",
      "The given string that needs to be replaced with given pattern is as follows:\n",
      "kaashiv#!!Training#!!Institute\n",
      "The string obtained after replacing special character with space is as follows:\n",
      "kaashiv Training Institute\n"
     ]
    }
   ],
   "source": [
    "import re\n",
    "print(\"The simple program for sub() method for replacing:\")\n",
    "str = \"kaashiv#!!Training#!!Institute\"\n",
    "print(\"The given string that needs to be replaced with given pattern is as follows:\")\n",
    "print(str)\n",
    "res_str = re.sub(\"#!!\",\" \",str)\n",
    "print(\"The string obtained after replacing special character with space is as follows:\")\n",
    "print (res_str)"
   ]
  },
  {
   "cell_type": "code",
   "execution_count": 41,
   "metadata": {},
   "outputs": [
    {
     "name": "stdout",
     "output_type": "stream",
     "text": [
      "The below program is used to demonstrate sub() method:\n",
      "The given string is as follows:\n",
      "2004-959-559 # This is Phone Number\n",
      "The correct phone number by removing special characters in the given string which means replacing them by space is as follows:\n",
      "2004-959-559 \n",
      "Now we have replaced all the spaces and have only digits in the given string is as follows:\n",
      "2004959559\n"
     ]
    }
   ],
   "source": [
    "import re\n",
    "print(\"The below program is used to demonstrate sub() method:\")\n",
    "phonenum = \"2004-959-559 # This is Phone Number\"\n",
    "print(\"The given string is as follows:\")\n",
    "print(phonenum)\n",
    "correct_num1 = re.sub(r'#.*$', \"\", phonenum)\n",
    "print(\"The correct phone number by removing special characters in the given string which means replacing them by space is as follows:\")\n",
    "print(correct_num1)\n",
    "correct_num2 = re.sub(r'\\D', \"\", phonenum)\n",
    "print(\"Now we have replaced all the spaces and have only digits in the given string is as follows:\")\n",
    "print(correct_num2)\n"
   ]
  },
  {
   "cell_type": "code",
   "execution_count": 4,
   "metadata": {},
   "outputs": [
    {
     "name": "stdout",
     "output_type": "stream",
     "text": [
      "X is even number\n",
      "x is not prime number\n"
     ]
    }
   ],
   "source": [
    "x = 12\n",
    "if(x%2==0):\n",
    "    print('X is even number')\n",
    "if(x%2!=0):\n",
    "    if(x%3!=0):\n",
    "        if(x%5!=0):\n",
    "            if(x%7!=0):\n",
    "                print(eval('x'))\n",
    "                print('is a prime number')\n",
    "            else:\n",
    "                print ('x is not prime number')\n",
    "        else:\n",
    "            print('x is not prime number')\n",
    "    else:\n",
    "        print('x is not prime number')\n",
    "else:\n",
    "    print('x is not prime number')"
   ]
  },
  {
   "cell_type": "code",
   "execution_count": 7,
   "metadata": {},
   "outputs": [
    {
     "name": "stdout",
     "output_type": "stream",
     "text": [
      "1\n",
      "Now it is Done\n"
     ]
    }
   ],
   "source": [
    "from math import *\n",
    "for lm in range(1, 3):\n",
    "    func1 = input(\"Enter the Math Function which are mentioned below to Evaluate.\\nFunctions Allowed are: 1. square_root(x) and 2. power(x,y):\\n\")\n",
    "    try:\n",
    "        print(eval(func1, {'square_root': sqrt, 'power': pow}))\n",
    "    except Exception as ex1:\n",
    "        print(ex1)\n",
    "    break\n",
    "print('Now it is Done')"
   ]
  },
  {
   "cell_type": "code",
   "execution_count": 14,
   "metadata": {},
   "outputs": [
    {
     "data": {
      "text/plain": [
       "Counter({'a': 2, 'b': 3, 'c': -2, 'd': -4})"
      ]
     },
     "execution_count": 14,
     "metadata": {},
     "output_type": "execute_result"
    }
   ],
   "source": [
    "from collections import Counter\n",
    "a = Counter(a=5, b=4, c=2, d=-3)\n",
    "b = Counter(a=3, b=1, c=4, d=1)\n",
    "a.subtract(b)\n",
    "a"
   ]
  },
  {
   "cell_type": "code",
   "execution_count": 31,
   "metadata": {},
   "outputs": [
    {
     "name": "stdout",
     "output_type": "stream",
     "text": [
      "Python program to demonstrate contains() function of operator module \n",
      "\n",
      "\n",
      "The given substring is present in the string.\n"
     ]
    }
   ],
   "source": [
    "import operator\n",
    "print(\"Python program to demonstrate contains() function of operator module \")\n",
    "print(\"\\n\")\n",
    "str1 = \"Kaashiv is best in programming courses.\"\n",
    "if operator.contains(str1, \"best\"):\n",
    "    print (\"The given substring is present in the string.\")\n",
    "else :\n",
    "    print (\"The given substring is not present in the string.\")"
   ]
  },
  {
   "cell_type": "code",
   "execution_count": 33,
   "metadata": {},
   "outputs": [
    {
     "ename": "SyntaxError",
     "evalue": "EOL while scanning string literal (<ipython-input-33-4421a3514726>, line 63)",
     "output_type": "error",
     "traceback": [
      "\u001b[0;36m  File \u001b[0;32m\"<ipython-input-33-4421a3514726>\"\u001b[0;36m, line \u001b[0;32m63\u001b[0m\n\u001b[0;31m    font=(\"Helvetica\",10),fg=\"brown\", bg=\"white”)\u001b[0m\n\u001b[0m                                                 ^\u001b[0m\n\u001b[0;31mSyntaxError\u001b[0m\u001b[0;31m:\u001b[0m EOL while scanning string literal\n"
     ]
    }
   ],
   "source": [
    "#                                                                                                Add Medicine\n",
    "import tkinter\n",
    "from tkinter import *\n",
    "import tkinter.messagebox as msg # to display message box\n",
    "import sqlite3 #                to store data\n",
    "root = Tk()\n",
    "root.geometry(700*450+300+100)\n",
    "regimage = PhotoImage(file = \"AddMedicine.png\");\n",
    "bg_Label = Label(root,image = regimage)\n",
    "bg_Label.place(x=0,y=0,relwidth=1,relheight=1)\n",
    "root.title(\"Add Medicine Page-Medicine Management System\")\n",
    "root.config\n",
    "#                                      Lets create the table for medicine\n",
    "conn = sqlite3.connect(\"medicine.db\")\n",
    "cursor = conn.cursor()\n",
    "cursor.execute(\"create table if not exists 'medicine'(MedicineID int, MedicineName text,Company text, ChemicalComp text,ManuDate text,ExpDate text, Costfor10 text)\")\n",
    "conn.commit()\n",
    "#             Declare variables for the columns to access\n",
    "MedicineName = StringVar()\n",
    "MedicineID = IntVar()\n",
    "Company= StringVar()\n",
    "ChemicalComp= StringVar()\n",
    "ManuDate= StringVar()\n",
    "ExpDate= StringVar()\n",
    "Costfor10= StringVar()\n",
    "MedicineName.set(\"\")\n",
    "MedicineID.set(\"\")\n",
    "Company.set(\"\")\n",
    "ChemicalComp.set(\"\")\n",
    "ManuDate.set(\"\")\n",
    "ExpDate.set(\"\")\n",
    "Costfor10.set(\"\")\n",
    "############## Lets write functions for the button ############\n",
    "def addmedicine():\n",
    "    conn = sqlite3.connect('medicine.db')\n",
    "    cursor = conn.cursor()\n",
    "    cursor.execute(\"insert into 'medicine'(MedicineName,MedicineID,Company,ChemicalComp,ManuDate,ExpDate,Costfor10) values(?,?,?,?,?,?,?)\",(str(MedicineName.get()),str(MedicineID.get()),str(Company.get()),str(ChemicalComp.get()),str(ManuDate.get()),str(ExpDate.get()),str(Costfor10.get())))\n",
    "    conn.commit()\n",
    "    print(cursor.rowcount)\n",
    "if cursor.rowcount >0:\n",
    "    msg.showinfo(\"Confirmation Message\",\"Medicine Added Successfully\",icon=\"info\")\n",
    "else:\n",
    "    msg.showinfo(\"Error Message\",\"medicine not Added\",icon=\"warning\")\n",
    "\n",
    "def cancel():\n",
    "    root.destroy()\n",
    "import home\n",
    "\n",
    "def back():\n",
    "    root.destroy()\n",
    "##################Top Frame ###########\n",
    "TopHeadingFrame = Frame(root,width=600,bd=1)\n",
    "TopHeadingFrame.pack(side=TOP)\n",
    "\n",
    "HeadingLabel = Label(TopHeadingFrame,text=\"Add Medicine\",\n",
    "font=(\"Helvetica\",16),fg=\"brown\", bg=\"white\")\n",
    "HeadingLabel.grid(row=0,column=1,padx=10,pady=10)\n",
    "\n",
    "MidFrame = Frame(root,width=600)\n",
    "MidFrame.pack(side=TOP)\n",
    "\n",
    "MedicineNameLabel = Label(MidFrame,text=\"Medicine Name\",\n",
    "font=(\"Helvetica\",10),fg=\"brown\", bg=\"white”\n",
    "MedicineNameLabel.grid(row=1,padx=10,pady=10)\n",
    "\n",
    "MedicineIDLabel = Label(MidFrame,text=”Medicine ID”,\n",
    "font=(“Helvetica”,10),fg=”brown”, bg=”white”)\n",
    "MedicineIDLabel.grid(row=2,padx=10,pady=10)\n",
    "\n",
    "CompanyLabel = Label(MidFrame,text=”Company”,\n",
    "font=(“Helvetica”,10),fg=”brown”, bg=”white”)\n",
    "CompanyLabel.grid(row=3,padx=10,pady=10)\n",
    "\n",
    "ChemicalCompLabel = Label(MidFrame,text=”Chemical Composition”,\n",
    "font=(“Helvetica”,10),fg=”brown”, bg=”white”)\n",
    "ChemicalCompLabel.grid(row=4,padx=10,pady=10)\n",
    "\n",
    "ManuDateLabel = Label(MidFrame,text=”Manufacturing Date”,\n",
    "font=(“Helvetica”,10),fg=”brown”, bg=”white”)\n",
    "ManuDateLabel.grid(row=5,padx=10,pady=10)\n",
    "\n",
    "ExpDateLabel = Label(MidFrame,text=”Expiry Date”,\n",
    "font=(“Helvetica”,10),fg=”brown”, bg=”white”)\n",
    "ExpDateLabel.grid(row=6,padx=10,pady=10)\n",
    "\n",
    "Costfor10Label = Label(MidFrame,text=”Cost for 10″,\n",
    "font=(“Helvetica”,10),fg=”brown”, bg=”white”)\n",
    "Costfor10Label.grid(row=7,padx=10,pady=10)\n",
    "\n",
    "MedicineNameTextbox = Entry(MidFrame,textvariable=MedicineName,\n",
    "font=(“Helvetica”,10))\n",
    "MedicineNameTextbox.grid(row=1,column=1,padx=10,pady=10)\n",
    "\n",
    "MedicineIDTextbox = Entry(MidFrame,textvariable=MedicineID,\n",
    "font=(“Helvetica”,10))\n",
    "MedicineIDTextbox.grid(row=2,column=1,padx=10,pady=10)\n",
    "\n",
    "CompanyTextbox = Entry(MidFrame,textvariable=Company,\n",
    "font=(“Helvetica”,10))\n",
    "CompanyTextbox.grid(row=3,column=1,padx=10,pady=10)\n",
    "\n",
    "ChemicalCompTextbox = Entry(MidFrame,textvariable=ChemicalComp,\n",
    "font=(“Helvetica”,10))\n",
    "ChemicalCompTextbox.grid(row=4,column=1,padx=10,pady=10)\n",
    "\n",
    "ManuDateTextbox = Entry(MidFrame,textvariable=ManuDate,\n",
    "font=(“Helvetica”,10))\n",
    "ManuDateTextbox.grid(row=5,column=1,padx=10,pady=10)\n",
    "\n",
    "ExpDateTextbox = Entry(MidFrame,textvariable=ExpDate,\n",
    "font=(“Helvetica”,10))\n",
    "ExpDateTextbox.grid(row=6,column=1,padx=10,pady=10)\n",
    "\n",
    "Costfor10Textbox = Entry(MidFrame,textvariable=Costfor10,\n",
    "font=(“Helvetica”,10))\n",
    "Costfor10Textbox.grid(row=7,column=1,padx=10,pady=10)\n",
    "\n",
    "RegisterButton = Button(MidFrame,text=”Register”, command=addmedicine,\n",
    "font=(“Helvetica”,10))\n",
    "RegisterButton.grid(row=8,column=0,padx=10,pady=10)\n",
    "\n",
    "CancelButton = Button(MidFrame,text=”Cancel”, command=cancel,\n",
    "font=(“Helvetica”,10))\n",
    "CancelButton.grid(row=8,column=1,padx=10,pady=10)\n",
    "\n",
    "BackButton = Button(MidFrame,text=”Back”, command = back,\n",
    "font=(“Helvetica”,10))\n",
    "BackButton.grid(row=10,column=0,padx=10,pady=10)\n",
    "\n",
    "#                                                                Delete Medicine\n",
    "from tkinter import * #import tkinter library\n",
    "import tkinter.messagebox as msg # to display message box\n",
    "import sqlite3 #to store data\n",
    "import tkinter.ttk as ttk\n",
    "\n",
    "root = Tk()\n",
    "root.geometry(“700×450+300+100”) #width height xoffset #yoffset\n",
    "regimage = PhotoImage(file = “DeleteMedicine.png”);\n",
    "bg_Label = Label(root,image = regimage)\n",
    "bg_Label.place(x=0,y=0,relwidth=1,relheight=1)\n",
    "root.title(“Delete Medicine Page – Medicine Management System”)\n",
    "root.config\n",
    "##################Top Frame ###########\n",
    "TopHeadingFrame = Frame(root,width=600,bd=1)\n",
    "TopHeadingFrame.pack(side=TOP)\n",
    "\n",
    "HeadingLabel = Label(TopHeadingFrame,text=”Delete Medicine”,\n",
    "font=(“Helvetica”,16),fg=”brown”, bg=”white”)\n",
    "HeadingLabel.grid(row=0,column=1,padx=10,pady=10)\n",
    "###################Declare variables for the columns to access######3\n",
    "MedicineName = StringVar()\n",
    "MedicineName.set(“”)\n",
    "\n",
    "MidFrame = Frame(root,width=600)\n",
    "MidFrame.pack(side=TOP)\n",
    "##########\n",
    "MedicineNameLabel = Label(MidFrame,text=”Medicine Name”,\n",
    "font=(“Helvetica”,10),fg=”brown”, bg=”white”)\n",
    "MedicineNameLabel.grid(row=1,padx=10,pady=10)\n",
    "\n",
    "##########\n",
    "MedicineNameTextbox = Entry(MidFrame,textvariable=MedicineName,\n",
    "font=(“Helvetica”,10))\n",
    "MedicineNameTextbox.grid(row=1,column=1,padx=10,pady=10)\n",
    "##########\n",
    "\n",
    "##########\n",
    "def back():\n",
    "    root.destroy()\n",
    "import home\n",
    "##########\n",
    "def View():\n",
    "    for i in treeview.get_children() :\n",
    "        treeview.delete(i)\n",
    "conn = sqlite3.connect(“medicine.db”)\n",
    "cursor = conn.cursor()\n",
    "cursor.execute(“select * from 'medicine'”)\n",
    "dataselect = cursor.fetchall()\n",
    "### insert in the parent container and append it in the end\n",
    "for data in dataselect:\n",
    "treeview.insert(”,’end’,value=(data))\n",
    "cursor.close()\n",
    "conn.commit()\n",
    "##########\n",
    "##########\n",
    "def Delete():\n",
    "for i in treeview.get_children() :\n",
    "treeview.delete(i)\n",
    "conn = sqlite3.connect(“medicine.db”)\n",
    "cursor = conn.cursor()\n",
    "medname = str(MedicineName.get())\n",
    "cursor.execute(“delete from ‘medicine’ where MedicineName=?”,(medname,))\n",
    "print(cursor.rowcount)\n",
    "if cursor.rowcount >0:\n",
    "msg.showinfo(“Confirm Message”,”Medicine deletion success”,icon=”info”)\n",
    "else:\n",
    "msg.showinfo(“Error Message”,”medicine couldn’t be deleted”,icon=”warning”)\n",
    "cursor.close()\n",
    "conn.commit()\n",
    "##########\n",
    "DeleteButton = Button(MidFrame,text=”Delete Med”, command = Delete,\n",
    "font=(“Helvetica”,10))\n",
    "DeleteButton.grid(row=1,column=2,padx=10,pady=10)\n",
    "##########\n",
    "ViewButton = Button(MidFrame,text=”View”, command = View,\n",
    "font=(“Helvetica”,10))\n",
    "ViewButton.grid(row=1,column=3,padx=10,pady=10)\n",
    "##########\n",
    "BackButton = Button(MidFrame,text=”Back”, command = back,\n",
    "font=(“Helvetica”,10))\n",
    "BackButton.grid(row=1,column=4,padx=10,pady=10)\n",
    "##########\n",
    "ViewFrame = Frame(root,width=400)\n",
    "ViewFrame.pack(side=TOP)\n",
    "#################create a treeview in ViewFrame #######\n",
    "treeview = ttk.Treeview(ViewFrame,columns=(“MedicineID”, “MedicineName” ,”Company”, “ChemicalComp”,”ManuDate” ,”ExpDate”, “Costfor10″),height=200,selectmode=”extended” )\n",
    "treeview.heading(“MedicineID” , text=”MedicineID” , anchor =”w”)\n",
    "treeview.heading(“MedicineName” , text=”MedicineName” , anchor =”w”)\n",
    "treeview.heading(“Company” , text=”Company” , anchor =”w”)\n",
    "treeview.heading(“ChemicalComp” , text=”ChemicalComp” , anchor =”w”)\n",
    "treeview.heading(“ManuDate” , text=”ManuDate” , anchor =”w”)\n",
    "treeview.heading(“ExpDate” , text=”ExpDate” , anchor =”w”)\n",
    "treeview.heading(“Costfor10″ , text=”Costfor10″ , anchor =”w”)\n",
    "treeview.column(“#0” ,stretch=NO,width=10,minwidth=0)\n",
    "treeview.column(“#1” ,stretch=NO,width=70,minwidth=0)\n",
    "treeview.column(“#2” ,stretch=NO,width=120,minwidth=0)\n",
    "treeview.column(“#3” ,stretch=NO,width=120,minwidth=0)\n",
    "treeview.column(“#4” ,stretch=NO,width=160,minwidth=0)\n",
    "treeview.column(“#5” ,stretch=NO,width=70,minwidth=0)\n",
    "treeview.column(“#6” ,stretch=NO,width=70,minwidth=0)\n",
    "treeview.column(“#7” ,stretch=NO,width=70,minwidth=0)\n",
    "treeview.pack()\n",
    "\n",
    "home\n",
    "from tkinter import * #import tkinter library\n",
    "import tkinter.messagebox as msg # to display message box\n",
    "import sqlite3 #to store data\n",
    "root = Tk()\n",
    "root.geometry(“700×450+300+100”) #width height xoffset #yoffset\n",
    "regimage = PhotoImage(file = “home.png”);\n",
    "bg_Label = Label(root,image = regimage)\n",
    "bg_Label.place(x=0,y=0,relwidth=1,relheight=1)\n",
    "root.title(“Home Page – Medicine Management System”)\n",
    "root.config\n",
    "############## Lets write functions for the button ############\n",
    "def AddMedicine():\n",
    "    root.destroy()\n",
    "import AddMedicine\n",
    "\n",
    "def ViewMedicine():\n",
    "    root.destroy()\n",
    "import ViewMedicine\n",
    "\n",
    "def SearchMedicine():\n",
    "    root.destroy()\n",
    "import SearchMedicine\n",
    "\n",
    "def DeleteMedicine():\n",
    "    root.destroy()\n",
    "import DeleteMedicine\n",
    "##################Top Frame ###########\n",
    "TopHeadingFrame = Frame(root,width=600,bd=1)\n",
    "TopHeadingFrame.pack(side=TOP)\n",
    "\n",
    "HeadingLabel = Label(TopHeadingFrame,text=”Options to choose”,\n",
    "font=(“Helvetica”,16),fg=”brown”, bg=”white”)\n",
    "HeadingLabel.grid(row=0,column=1,padx=10,pady=10)\n",
    "##########\n",
    "MidFrame = Frame(root,width=600)\n",
    "MidFrame.pack(side=TOP)\n",
    "##########\n",
    "AddMedicine = Button(MidFrame,text=”Add Medicine”, command=AddMedicine,\n",
    "font=(“Helvetica”,10))\n",
    "AddMedicine.grid(row=2,column=1,padx=10,pady=10)\n",
    "##########\n",
    "ViewMedicine = Button(MidFrame,text=”View Medicine”, command=ViewMedicine,\n",
    "font=(“Helvetica”,10))\n",
    "ViewMedicine.grid(row=4,column=1,padx=10,pady=10)\n",
    "##########\n",
    "SearchMedicine = Button(MidFrame,text=”Search Medicine”, command=SearchMedicine,\n",
    "font=(“Helvetica”,10))\n",
    "SearchMedicine.grid(row=6,column=1,padx=10,pady=10)\n",
    "##########\n",
    "DeleteMedicine = Button(MidFrame,text=”Delete Medicine”, command=DeleteMedicine,\n",
    "font=(“Helvetica”,10))\n",
    "DeleteMedicine.grid(row=8,column=1,padx=10,pady=10)\n",
    "\n",
    "#                                                              Login\n",
    "from tkinter import * #import tkinter library\n",
    "import tkinter.messagebox as msg # to display message box\n",
    "import sqlite3 #to store data\n",
    "root = Tk()\n",
    "root.geometry(“700×450+300+100”) #width height xoffset #yoffset\n",
    "regimage = PhotoImage(file = “login.png”);\n",
    "bg_Label = Label(root,image = regimage)\n",
    "bg_Label.place(x=0,y=0,relwidth=1,relheight=1)\n",
    "root.title(“Login Page – Medicine Management System”)\n",
    "root.config\n",
    "########### Variable declaration #########\n",
    "UserName= StringVar()\n",
    "Password= StringVar()\n",
    "############## Lets write functions for the button ############\n",
    "def register():\n",
    "    root.destroy()\n",
    "import Reg\n",
    "\n",
    "def login():\n",
    "    #conn = sqlite3.connect(“medicine.db”)\n",
    "conn = mysql.connect(\n",
    "host=”localhost”,\n",
    "user=”root”,\n",
    "password=””,\n",
    "database=”medicine”\n",
    ")\n",
    "cursor = conn.cursor()\n",
    "user= str(UserName.get())\n",
    "\n",
    "pwd = str(Password.get())\n",
    "print (user)\n",
    "print (pwd)\n",
    "print (“select UserName from ‘usertable1’ where ‘UserName’=? and Pwd=?”,(user,pwd))\n",
    "cursor.execute(“select UserName from usertable1 where UserName=? and Pwd=?”,(user,pwd))\n",
    "resultset = cursor.fetchall();\n",
    "for data in resultset:\n",
    "    print (data)\n",
    "if data:\n",
    "    msg.showinfo(“Confirmation Message”,”Login successful Added”,icon=”info”)\n",
    "    root.destroy()\n",
    "import home\n",
    "\n",
    "else:\n",
    "    msg.showinfo(“Error Message”,”Invalid user”,icon=”warning”)\n",
    "    cursor.close()\n",
    "\n",
    "def back():\n",
    "    root.destroy()\n",
    "import home\n",
    "#################### Lets put the controls ############\n",
    "TopHeadingFrame = Frame(root,width=600,bd=1)\n",
    "TopHeadingFrame.pack(side=TOP)\n",
    "\n",
    "HeadingLabel = Label(TopHeadingFrame,text=”Login Page”,\n",
    "font=(“Helvetica”,16),fg=”brown”, bg=”white”)\n",
    "HeadingLabel.grid(row=0,column=1,padx=10,pady=10)\n",
    "##########\n",
    "MidFrame = Frame(root,width=600)\n",
    "MidFrame.pack(side=TOP)\n",
    "##########\n",
    "UserNameLabel = Label(MidFrame,text=”UserName”,\n",
    "font=(“Helvetica”,10),fg=”brown”, bg=”white”)\n",
    "UserNameLabel.grid(row=3,padx=10,pady=10)\n",
    "##########\n",
    "PasswordLabel = Label(MidFrame,text=”Password”,\n",
    "font=(“Helvetica”,10),fg=”brown”, bg=”white”)\n",
    "PasswordLabel.grid(row=4,padx=10,pady=10)\n",
    "##########\n",
    "UserNameTextbox = Entry(MidFrame,textvariable=UserName,\n",
    "font=(“Helvetica”,10))\n",
    "UserNameTextbox.grid(row=3,column=1,padx=10,pady=10)\n",
    "##########\n",
    "PasswordTextbox = Entry(MidFrame,textvariable=Password,\n",
    "font=(“Helvetica”,10))\n",
    "PasswordTextbox.grid(row=4,column=1,padx=10,pady=10)\n",
    "##########\n",
    "RegisterButton = Button(MidFrame,text=”Login”, command = login,\n",
    "font=(“Helvetica”,10))\n",
    "RegisterButton.grid(row=7,column=1,padx=10,pady=10)\n",
    "##########\n",
    "AlreadyUserLabel = Label(MidFrame,text=”Not registered ???”,\n",
    "font=(“Helvetica”,10),fg=”brown”, bg=”white”)\n",
    "AlreadyUserLabel.grid(row=9,padx=10,pady=10)\n",
    "##########\n",
    "LoginButton = Button(MidFrame,text=”Register”, command=register ,\n",
    "font=(“Helvetica”,10))\n",
    "LoginButton.grid(row=9,column=1,padx=10,pady=10)\n",
    "\n",
    "Reg\n",
    "from tkinter import * #import tkinter library\n",
    "import tkinter.messagebox as msg # to display message box\n",
    "import sqlite3 #to store data\n",
    "import mysql.connector as mysql\n",
    "root = Tk()\n",
    "root.geometry(“700×450+300+100”) #width height xoffset #yoffset\n",
    "regimage = PhotoImage(file = “reg.png”);\n",
    "bg_Label = Label(root,image = regimage)\n",
    "bg_Label.place(x=0,y=0,relwidth=1,relheight=1)\n",
    "root.title(“Medicine Management System”)\n",
    "root.config\n",
    "#########################Lets connect the database now #########\n",
    "conn = mysql.connect(\n",
    "host=”localhost”,\n",
    "user=”root”,\n",
    "password=””,\n",
    "database=”medicine”\n",
    ")\n",
    "\n",
    "# conn = sqlite3.connect(“medicine.db”)\n",
    "cursor = conn.cursor()\n",
    "cursor.execute(“create table if not exists usertable1(Name varchar(100),ID int, UserName varchar(100),Pwd varchar(100),mobile varchar(100), email varchar(100))”)\n",
    "conn.commit()\n",
    "########################Lets insert the data into table now #######\n",
    "Name = StringVar()\n",
    "ID= IntVar()\n",
    "UserName= StringVar()\n",
    "Password= StringVar()\n",
    "Mobile= StringVar()\n",
    "Email= StringVar()\n",
    "Name.set(“”)\n",
    "ID.set(“”)\n",
    "UserName.set(“”)\n",
    "Password.set(“”)\n",
    "Mobile.set(“”)\n",
    "Email.set(“”)\n",
    "############## Lets write functions for the button ############\n",
    "def register():\n",
    "#conn = sqlite3.connect(“medicine.db”)\n",
    "conn = mysql.connect(\n",
    "host=”localhost”,\n",
    "user=”root”,\n",
    "password=””,\n",
    "database=”medicine”\n",
    ")\n",
    "cursor = conn.cursor()\n",
    "cursor.execute(“insert into usertable1(Name ,ID, UserName,Pwd ,mobile, email) values(%s,%s,%s,%s,%s,%s)”,(str(Name.get()), str(ID.get()),str(UserName.get()),str(Password.get()),str(Mobile.get()),str(Email.get())))\n",
    "conn.commit()\n",
    "print(cursor.rowcount)\n",
    "if cursor.rowcount >0:\n",
    "    msg.showinfo(“Confirmation Message”,”User Added”,icon=”info”)\n",
    "else:\n",
    "    msg.showinfo(“Error Message”,”User not Added”,icon=”warning”)\n",
    "\n",
    "def login():\n",
    "    root.destroy()\n",
    "import login\n",
    "#################### Lets put the controls ############\n",
    "TopHeadingFrame = Frame(root,width=600,bd=1)\n",
    "TopHeadingFrame.pack(side=TOP)\n",
    "HeadingLabel = Label(TopHeadingFrame,text=”Medicine Mgnt System”,\n",
    "font=(“Helvetica”,16),fg=”brown”, bg=”white”)\n",
    "HeadingLabel.grid(row=0,column=1,padx=10,pady=10)\n",
    "########################Plan for the controls in the mid####\n",
    "MidFrame = Frame(root,width=600)\n",
    "MidFrame.pack(side=TOP)\n",
    "NameLabel = Label(MidFrame,text=”Name”,\n",
    "font=(“Helvetica”,10),fg=”brown”, bg=”white”)\n",
    "NameLabel.grid(row=1,padx=10,pady=10)\n",
    "##########\n",
    "IDLabel = Label(MidFrame,text=”ID”,\n",
    "font=(“Helvetica”,10),fg=”brown”, bg=”white”)\n",
    "IDLabel.grid(row=2,padx=10,pady=10)\n",
    "##########\n",
    "UserNameLabel = Label(MidFrame,text=”UserName”,\n",
    "font=(“Helvetica”,10),fg=”brown”, bg=”white”)\n",
    "UserNameLabel.grid(row=3,padx=10,pady=10)\n",
    "##########\n",
    "PasswordLabel = Label(MidFrame,text=”Password”,\n",
    "font=(“Helvetica”,10),fg=”brown”, bg=”white”)\n",
    "PasswordLabel.grid(row=4,padx=10,pady=10)\n",
    "##########\n",
    "MobileLabel = Label(MidFrame,text=”Mobile”,\n",
    "font=(“Helvetica”,10),fg=”brown”, bg=”white”)\n",
    "MobileLabel.grid(row=5,padx=10,pady=10)\n",
    "##########\n",
    "EmailLabel = Label(MidFrame,text=”E-Mail”,\n",
    "font=(“Helvetica”,10),fg=”brown”, bg=”white”)\n",
    "EmailLabel.grid(row=6,padx=10,pady=10)\n",
    "##########\n",
    "NameTextbox = Entry(MidFrame,textvariable=Name,\n",
    "font=(“Helvetica”,10))\n",
    "NameTextbox.grid(row=1,column=1,padx=10,pady=10)\n",
    "##########\n",
    "IDTextbox = Entry(MidFrame,textvariable=ID,\n",
    "font=(“Helvetica”,10))\n",
    "IDTextbox.grid(row=2,column=1,padx=10,pady=10)\n",
    "##########\n",
    "UserNameTextbox = Entry(MidFrame,textvariable=UserName,\n",
    "font=(“Helvetica”,10))\n",
    "UserNameTextbox.grid(row=3,column=1,padx=10,pady=10)\n",
    "##########\n",
    "PasswordTextbox = Entry(MidFrame,textvariable=Password,\n",
    "font=(“Helvetica”,10))\n",
    "PasswordTextbox.grid(row=4,column=1,padx=10,pady=10)\n",
    "##########\n",
    "MobileTextbox = Entry(MidFrame,textvariable=Mobile,\n",
    "font=(“Helvetica”,10))\n",
    "MobileTextbox.grid(row=5,column=1,padx=10,pady=10)\n",
    "##########\n",
    "EmailTextbox = Entry(MidFrame,textvariable=Email,\n",
    "font=(“Helvetica”,10))\n",
    "EmailTextbox.grid(row=6,column=1,padx=10,pady=10)\n",
    "##########\n",
    "RegisterButton = Button(MidFrame,text=”Register”, command=register,\n",
    "font=(“Helvetica”,10))\n",
    "RegisterButton.grid(row=7,column=1,padx=10,pady=10)\n",
    "##########\n",
    "AlreadyUserLabel = Label(MidFrame,text=”Already User ???”,\n",
    "font=(“Helvetica”,10),fg=”brown”, bg=”white”)\n",
    "AlreadyUserLabel.grid(row=9,padx=10,pady=10)\n",
    "##########\n",
    "LoginButton = Button(MidFrame,text=”Login”, command=login,\n",
    "font=(“Helvetica”,10))\n",
    "LoginButton.grid(row=9,column=1,padx=10,pady=10)\n",
    "# SearchMedicine\n",
    "from tkinter import * #import tkinter library\n",
    "import tkinter.messagebox as msg # to display message box\n",
    "import sqlite3 #to store data\n",
    "import tkinter.ttk as ttk\n",
    "root = Tk()\n",
    "root.geometry(“700×450+300+100”) #width height xoffset #yoffset\n",
    "regimage = PhotoImage(file = “SearchMedicine.png”);\n",
    "bg_Label = Label(root,image = regimage)\n",
    "bg_Label.place(x=0,y=0,relwidth=1,relheight=1)\n",
    "root.title(“Search Medicine – Medicine Management System”)\n",
    "root.config\n",
    "##################Top Frame ###########\n",
    "TopHeadingFrame = Frame(root,width=600,bd=1)\n",
    "TopHeadingFrame.pack(side=TOP)\n",
    "\n",
    "HeadingLabel = Label(TopHeadingFrame,text=”Search Medicine”,\n",
    "font=(“Helvetica”,16),fg=”brown”, bg=”white”)\n",
    "HeadingLabel.grid(row=0,column=1,padx=10,pady=10)\n",
    "###################Declare variables for the columns to access######3\n",
    "MedicineName = StringVar()\n",
    "MedicineName.set(“”)\n",
    "##########\n",
    "MidFrame = Frame(root,width=600)\n",
    "MidFrame.pack(side=TOP)\n",
    "##########\n",
    "MedicineNameLabel = Label(MidFrame,text=”Medicine Name”,\n",
    "font=(“Helvetica”,10),fg=”brown”, bg=”white”)\n",
    "MedicineNameLabel.grid(row=1,padx=10,pady=10)\n",
    "##########\n",
    "MedicineNameTextbox = Entry(MidFrame,textvariable=MedicineName,\n",
    "font=(“Helvetica”,10))\n",
    "MedicineNameTextbox.grid(row=1,column=1,padx=10,pady=10)\n",
    "##########\n",
    "def back():\n",
    "    root.destroy()\n",
    "import home\n",
    "##########\n",
    "def search():\n",
    "    for i in treeview.get_children() :\n",
    "        treeview.delete(i)\n",
    "conn = sqlite3.connect(“medicine.db”)\n",
    "cursor = conn.cursor()\n",
    "medname = str(MedicineName.get())\n",
    "cursor.execute(“select * from ‘medicine’ where MedicineName=?”,(medname,))\n",
    "dataselect = cursor.fetchall()\n",
    "### insert in the parent container and append it in the end\n",
    "for data in dataselect:\n",
    "treeview.insert(”,’end’,value=(data))\n",
    "cursor.close()\n",
    "conn.commit()\n",
    "##########\n",
    "SearchButton = Button(MidFrame,text=”Search”, command = search,\n",
    "font=(“Helvetica”,10))\n",
    "SearchButton.grid(row=1,column=2,padx=10,pady=10)\n",
    "##########\n",
    "BackButton = Button(MidFrame,text=”Back”, command = back,\n",
    "font=(“Helvetica”,10))\n",
    "BackButton.grid(row=1,column=3,padx=10,pady=10)\n",
    "##########\n",
    "ViewFrame = Frame(root,width=400)\n",
    "ViewFrame.pack(side=TOP)\n",
    "#################create a treeview in ViewFrame #######\n",
    "treeview = ttk.Treeview(ViewFrame,columns=(“MedicineID”, “MedicineName” ,”Company”, “ChemicalComp”,”ManuDate” ,”ExpDate”, “Costfor10″),height=200,selectmode=”extended” )\n",
    "treeview.heading(“MedicineID” , text=”MedicineID” , anchor =”w”)\n",
    "treeview.heading(“MedicineName” , text=”MedicineName” , anchor =”w”)\n",
    "treeview.heading(“Company” , text=”Company” , anchor =”w”)\n",
    "treeview.heading(“ChemicalComp” , text=”ChemicalComp” , anchor =”w”)\n",
    "treeview.heading(“ManuDate” , text=”ManuDate” , anchor =”w”)\n",
    "treeview.heading(“ExpDate” , text=”ExpDate” , anchor =”w”)\n",
    "treeview.heading(“Costfor10″ , text=”Costfor10″ , anchor =”w”)\n",
    "\n",
    "treeview.column(“#0” ,stretch=NO,width=10,minwidth=0)\n",
    "treeview.column(“#1” ,stretch=NO,width=70,minwidth=0)\n",
    "treeview.column(“#2” ,stretch=NO,width=120,minwidth=0)\n",
    "treeview.column(“#3” ,stretch=NO,width=120,minwidth=0)\n",
    "treeview.column(“#4” ,stretch=NO,width=160,minwidth=0)\n",
    "treeview.column(“#5” ,stretch=NO,width=70,minwidth=0)\n",
    "treeview.column(“#6” ,stretch=NO,width=70,minwidth=0)\n",
    "treeview.column(“#7” ,stretch=NO,width=70,minwidth=0)\n",
    "treeview.pack()\n",
    "#########################Lets connect the database and fetch values #########\n",
    "ViewMedicine\n",
    "from tkinter import * #import tkinter library\n",
    "import tkinter.messagebox as msg # to display message box\n",
    "import sqlite3 #to store data\n",
    "import tkinter.ttk as ttk\n",
    "\n",
    "root = Tk()\n",
    "root.geometry(“700×450+300+100”) #width height xoffset #yoffset\n",
    "regimage = PhotoImage(file = “SearchMedicine.png”);\n",
    "bg_Label = Label(root,image = regimage)\n",
    "bg_Label.place(x=0,y=0,relwidth=1,relheight=1)\n",
    "root.title(“Search Medicine – Medicine Management System”)\n",
    "root.config\n",
    "##################Top Frame ###########\n",
    "TopHeadingFrame = Frame(root,width=600,bd=1)\n",
    "TopHeadingFrame.pack(side=TOP)\n",
    "\n",
    "HeadingLabel = Label(TopHeadingFrame,text=”Search Medicine”,\n",
    "font=(“Helvetica”,16),fg=”brown”, bg=”white”)\n",
    "HeadingLabel.grid(row=0,column=1,padx=10,pady=10)\n",
    "###################Declare variables for the columns to access######3\n",
    "MedicineName = StringVar()\n",
    "MedicineName.set(“”)\n",
    "##########\n",
    "MidFrame = Frame(root,width=600)\n",
    "MidFrame.pack(side=TOP)\n",
    "##########\n",
    "MedicineNameLabel = Label(MidFrame,text=”Medicine Name”,\n",
    "font=(“Helvetica”,10),fg=”brown”, bg=”white”)\n",
    "MedicineNameLabel.grid(row=1,padx=10,pady=10)\n",
    "MedicineNameTextbox = Entry(MidFrame,textvariable=MedicineName,\n",
    "font=(“Helvetica”,10))\n",
    "MedicineNameTextbox.grid(row=1,column=1,padx=10,pady=10)\n",
    "##########\n",
    "def back():\n",
    "    root.destroy()\n",
    "import home\n",
    "##########\n",
    "def search():\n",
    "    for i in treeview.get_children() :\n",
    "        treeview.delete(i)\n",
    "conn = sqlite3.connect(“medicine.db”)\n",
    "cursor = conn.cursor()\n",
    "medname = str(MedicineName.get())\n",
    "cursor.execute(“select * from ‘medicine’ where MedicineName=?”,(medname,))\n",
    "dataselect = cursor.fetchall()\n",
    "### insert in the parent container and append it in the end\n",
    "for data in dataselect:\n",
    "    treeview.insert(”,’end’,value=(data))\n",
    "cursor.close()\n",
    "conn.commit()\n",
    "##########\n",
    "SearchButton = Button(MidFrame,text=”Search”, command = search,\n",
    "font=(“Helvetica”,10))\n",
    "SearchButton.grid(row=1,column=2,padx=10,pady=10)\n",
    "##########\n",
    "BackButton = Button(MidFrame,text=”Back”, command = back,\n",
    "font=(“Helvetica”,10))\n",
    "BackButton.grid(row=1,column=3,padx=10,pady=10)\n",
    "##########\n",
    "ViewFrame = Frame(root,width=400)\n",
    "ViewFrame.pack(side=TOP)\n",
    "#################create a treeview in ViewFrame #######\n",
    "treeview = ttk.Treeview(ViewFrame,columns=(“MedicineID”, “MedicineName” ,”Company”, “ChemicalComp”,”ManuDate” ,”ExpDate”, “Costfor10″),height=200,selectmode=”extended” )\n",
    "treeview.heading(“MedicineID” , text=”MedicineID” , anchor =”w”)\n",
    "treeview.heading(“MedicineName” , text=”MedicineName” , anchor =”w”)\n",
    "treeview.heading(“Company” , text=”Company” , anchor =”w”)\n",
    "treeview.heading(“ChemicalComp” , text=”ChemicalComp” , anchor =”w”)\n",
    "treeview.heading(“ManuDate” , text=”ManuDate” , anchor =”w”)\n",
    "treeview.heading(“ExpDate” , text=”ExpDate” , anchor =”w”)\n",
    "treeview.heading(“Costfor10″ , text=”Costfor10″ , anchor =”w”)\n",
    "\n",
    "treeview.column(“#0” ,stretch=NO,width=10,minwidth=0)\n",
    "treeview.column(“#1” ,stretch=NO,width=70,minwidth=0)\n",
    "treeview.column(“#2” ,stretch=NO,width=120,minwidth=0)\n",
    "treeview.column(“#3” ,stretch=NO,width=120,minwidth=0)\n",
    "treeview.column(“#4” ,stretch=NO,width=160,minwidth=0)\n",
    "treeview.column(“#5” ,stretch=NO,width=70,minwidth=0)\n",
    "treeview.column(“#6” ,stretch=NO,width=70,minwidth=0)\n",
    "treeview.column(“#7” ,stretch=NO,width=70,minwidth=0)\n",
    "treeview.pack()\n",
    "#########################Lets connect the database and fetch values #########"
   ]
  },
  {
   "cell_type": "code",
   "execution_count": 34,
   "metadata": {},
   "outputs": [
    {
     "data": {
      "text/plain": [
       "'Abith'"
      ]
     },
     "execution_count": 34,
     "metadata": {},
     "output_type": "execute_result"
    }
   ],
   "source": [
    "def function():\n",
    "    return 19, 'Abith', 619\n",
    "roll, name, score = function()\n",
    "name"
   ]
  },
  {
   "cell_type": "code",
   "execution_count": 52,
   "metadata": {},
   "outputs": [
    {
     "name": "stdout",
     "output_type": "stream",
     "text": [
      "Main function illustration\n",
      "sum of values entered is 3\n",
      "Inside main() function\n"
     ]
    }
   ],
   "source": [
    "print(\"Main function illustration\")\n",
    "def sum(a,b):\n",
    "    return (a+b)\n",
    "def main():\n",
    "    print(\"Inside main() function\")\n",
    "x=int(input(\"enter value x\"))\n",
    "y=int((input(\"enter value y\")))\n",
    "print(\"sum of values entered is\",end=' ')\n",
    "print(sum(x,y))\n",
    "if __name__ == \"__main__\":\n",
    "    main()"
   ]
  }
 ],
 "metadata": {
  "interpreter": {
   "hash": "586ad1ed5c97141e2437e681efbf1ec0adcd17d830cf5af2ca3d2819e743e158"
  },
  "kernelspec": {
   "display_name": "Python 3.8.8 64-bit ('base': conda)",
   "language": "python",
   "name": "python3"
  },
  "language_info": {
   "codemirror_mode": {
    "name": "ipython",
    "version": 3
   },
   "file_extension": ".py",
   "mimetype": "text/x-python",
   "name": "python",
   "nbconvert_exporter": "python",
   "pygments_lexer": "ipython3",
   "version": "3.8.8"
  },
  "orig_nbformat": 4
 },
 "nbformat": 4,
 "nbformat_minor": 2
}
